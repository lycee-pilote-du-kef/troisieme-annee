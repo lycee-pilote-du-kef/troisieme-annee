{
 "cells": [
  {
   "cell_type": "markdown",
   "metadata": {},
   "source": [
    "<h1 style=\"color:purple; text-align:center\">Tableaux à une dimension</h1>"
   ]
  },
  {
   "cell_type": "markdown",
   "metadata": {},
   "source": [
    "Un tableau est un regroupement de valeurs portant le même nom de variable et repérées par un numéro. Il permet de ranger un nombre <mark>fini</mark> d’éléments de <mark>même type</mark> et selon une disposition bien définie. Le numéro qui permet de repérer chaque valeur s’appelle l’<mark>indice</mark>. "
   ]
  },
  {
   "cell_type": "markdown",
   "metadata": {},
   "source": [
    "<table style=\"text-align:center\">\n",
    "<tr>\n",
    "    <td></td>\n",
    "\t<td>-8</td>\n",
    "\t<td>-7</td>\n",
    "\t<td>-6</td>\n",
    "\t<td>-5</td>\n",
    "\t<td>-4</td>\n",
    "\t<td>-3</td>\n",
    "\t<td>-2</td>\n",
    "\t<td>-1</td>\n",
    "</tr>\n",
    "<tr>\n",
    "    <td>T</td>\n",
    "\t<td style=\"border:solid\">20</td>\n",
    "\t<td style=\"border:solid\">25</td>\n",
    "\t<td style=\"border:solid\">-5</td>\n",
    "\t<td style=\"border:solid\">10</td>\n",
    "\t<td style=\"border:solid\">10</td>\n",
    "\t<td style=\"border:solid\">-52</td>\n",
    "\t<td style=\"border:solid\">14</td>\n",
    "\t<td style=\"border:solid\">3</td>\n",
    "</tr>\n",
    "<tr>\n",
    "    <td></td>\n",
    "\t<td>0</td>\n",
    "\t<td>1</td>\n",
    "\t<td>2</td>\n",
    "\t<td>3</td>\n",
    "\t<td>4</td>\n",
    "\t<td>5</td>\n",
    "\t<td>6</td>\n",
    "\t<td>7</td>\n",
    "</tr>\n",
    "</table>\n"
   ]
  },
  {
   "cell_type": "markdown",
   "metadata": {},
   "source": [
    "<h2 style=\"color:red\">Déclaration Algorithmique</h2>"
   ]
  },
  {
   "cell_type": "markdown",
   "metadata": {},
   "source": [
    "<table style=\"text-align:center\">\n",
    "<tr>\n",
    "    <td colspan=2 style=\"font-size:30px\">Tableau de Déclaration des Objets(T.D.O)</td>\n",
    "</tr>\n",
    "<tr>\n",
    "    <td style=\"border:solid; font-size:30px\">Objet</td>\n",
    "\t<td style=\"border:solid; font-size:30px\">Type/Nature</td>\n",
    "</tr>\n",
    "<tr>\n",
    "    <td style=\"border:solid; font-size:20px\">Nom_Tableau <br/> T</td>\n",
    "    <td style=\"border:solid; font-size:20px\">Tableau de &lt;<mark>nombre de cases</mark>&gt; &lt;<mark>type des éléments</mark>&gt;\n",
    "    <br/> Tableau de 100 réels\n",
    "    </td>\n",
    "\n",
    "</tr>\n",
    "</table>"
   ]
  },
  {
   "cell_type": "markdown",
   "metadata": {},
   "source": [
    "<h2 style=\"color:red\">En Python</h2>"
   ]
  },
  {
   "cell_type": "markdown",
   "metadata": {},
   "source": [
    "La bibliothèque NumPy (http://www.numpy.org/) permet d’effectuer des calculs numériques avec Python. Elle introduit une gestion facilitée des tableaux de nombres."
   ]
  },
  {
   "cell_type": "markdown",
   "metadata": {},
   "source": [
    "Il faut au départ importer le package numpy avec l’instruction suivante :"
   ]
  },
  {
   "cell_type": "code",
   "execution_count": 3,
   "metadata": {},
   "outputs": [],
   "source": [
    "import numpy as np"
   ]
  },
  {
   "cell_type": "markdown",
   "metadata": {},
   "source": [
    "<h2 style=\"color:blue\">Variables prédéfinies</h2>"
   ]
  },
  {
   "cell_type": "code",
   "execution_count": 4,
   "metadata": {},
   "outputs": [
    {
     "name": "stdout",
     "output_type": "stream",
     "text": [
      "3.141592653589793\n"
     ]
    }
   ],
   "source": [
    "print(np.pi)"
   ]
  },
  {
   "cell_type": "markdown",
   "metadata": {},
   "source": [
    "<h2 style=\"color:blue\">Création</h2>"
   ]
  },
  {
   "cell_type": "markdown",
   "metadata": {},
   "source": [
    "Les tableaux (en anglais, array) peuvent être créés avec numpy.array(). On utilise des crochets pour délimiter les listes d’éléments dans les tableaux."
   ]
  },
  {
   "cell_type": "code",
   "execution_count": 5,
   "metadata": {},
   "outputs": [],
   "source": [
    "t=np.array([1,2,3,4,5,6])"
   ]
  },
  {
   "cell_type": "markdown",
   "metadata": {},
   "source": [
    "<h3 style=\"color:orange\">Création avec type</h3>"
   ]
  },
  {
   "cell_type": "markdown",
   "metadata": {},
   "source": [
    "Au moment de la création d'un tableau on peut définir le type des éléments avec le paramètre \"dtype\""
   ]
  },
  {
   "cell_type": "code",
   "execution_count": 6,
   "metadata": {},
   "outputs": [
    {
     "name": "stdout",
     "output_type": "stream",
     "text": [
      "Tableau d'entiers:  [1 5 4 8]\n",
      "Tableau de réels:  [1. 5. 4. 8.]\n",
      "Tableau de booléens:  [ True False False  True]\n"
     ]
    }
   ],
   "source": [
    "t1=np.array([1,5,4,8], dtype=int)\n",
    "t2=np.array([1,5,4,8], dtype=float)\n",
    "t3=np.array([True,False,False,True], dtype=bool)\n",
    "print(\"Tableau d'entiers: \",t1)\n",
    "print(\"Tableau de réels: \",t2)\n",
    "print(\"Tableau de booléens: \",t3)"
   ]
  },
  {
   "cell_type": "markdown",
   "metadata": {},
   "source": [
    "<h2 style=\"color:blue\">Affichage</h2>"
   ]
  },
  {
   "cell_type": "code",
   "execution_count": 7,
   "metadata": {},
   "outputs": [
    {
     "name": "stdout",
     "output_type": "stream",
     "text": [
      "[1 2 3 4 5 6]\n"
     ]
    }
   ],
   "source": [
    "print(t)"
   ]
  },
  {
   "cell_type": "markdown",
   "metadata": {},
   "source": [
    "<h2 style=\"color:blue\">Accès aux éléments d’un tableau</h2>"
   ]
  },
  {
   "cell_type": "code",
   "execution_count": 8,
   "metadata": {},
   "outputs": [
    {
     "name": "stdout",
     "output_type": "stream",
     "text": [
      "1\n"
     ]
    }
   ],
   "source": [
    "print(t[0])"
   ]
  },
  {
   "cell_type": "code",
   "execution_count": 9,
   "metadata": {},
   "outputs": [],
   "source": [
    "t[-2]=55"
   ]
  },
  {
   "cell_type": "code",
   "execution_count": 10,
   "metadata": {},
   "outputs": [
    {
     "name": "stdout",
     "output_type": "stream",
     "text": [
      "[ 1  2  3  4 55  6]\n"
     ]
    }
   ],
   "source": [
    "print(t)"
   ]
  },
  {
   "cell_type": "markdown",
   "metadata": {},
   "source": [
    "<h2 style=\"color:blue\">création directe</h2>"
   ]
  },
  {
   "cell_type": "markdown",
   "metadata": {},
   "source": [
    "Il est souvent plus efficace, surtout pour les tableaux larges, de les créer directement. Numpy contient plusieurs fonctions pour cette tâche.\n",
    "\n",
    "création d'un tableau de 10 <mark>zéros</mark>"
   ]
  },
  {
   "cell_type": "code",
   "execution_count": 29,
   "metadata": {},
   "outputs": [
    {
     "name": "stdout",
     "output_type": "stream",
     "text": [
      "[0 0 0 0 0 0 0 0 0 0]\n"
     ]
    }
   ],
   "source": [
    "v=np.zeros(10 ,dtype=int)\n",
    "print(v)"
   ]
  },
  {
   "cell_type": "markdown",
   "metadata": {},
   "source": [
    "Création d'un tableau de 10 <mark>uns</mark>"
   ]
  },
  {
   "cell_type": "code",
   "execution_count": 30,
   "metadata": {},
   "outputs": [
    {
     "name": "stdout",
     "output_type": "stream",
     "text": [
      "[1 1 1 1 1 1 1 1 1 1]\n"
     ]
    }
   ],
   "source": [
    "v=np.ones(10, dtype=int)\n",
    "print(v)"
   ]
  },
  {
   "cell_type": "markdown",
   "metadata": {},
   "source": [
    "création d'un tableau rempli d'une même <mark>valeur donnée</mark>"
   ]
  },
  {
   "cell_type": "code",
   "execution_count": 15,
   "metadata": {},
   "outputs": [
    {
     "name": "stdout",
     "output_type": "stream",
     "text": [
      "[5 5 5 5 5 5 5 5 5 5]\n"
     ]
    }
   ],
   "source": [
    "v=np.full(10, 5)\n",
    "print(v)"
   ]
  },
  {
   "cell_type": "markdown",
   "metadata": {},
   "source": [
    "Création d'un tableau contenant une <mark>séquence</mark>, en définissant le début et la fin de la séquence"
   ]
  },
  {
   "cell_type": "code",
   "execution_count": 38,
   "metadata": {},
   "outputs": [
    {
     "name": "stdout",
     "output_type": "stream",
     "text": [
      "[2 3 4 5 6 7 8 9]\n"
     ]
    }
   ],
   "source": [
    "t=np.arange(2,10)\n",
    "print(t)"
   ]
  },
  {
   "cell_type": "markdown",
   "metadata": {},
   "source": [
    "Création d'un tableau contenant une séquence par <mark>pas</mark> donné"
   ]
  },
  {
   "cell_type": "code",
   "execution_count": 42,
   "metadata": {},
   "outputs": [
    {
     "name": "stdout",
     "output_type": "stream",
     "text": [
      "[1 3 5 7 9]\n"
     ]
    }
   ],
   "source": [
    "t=np.arange(1,10,2)\n",
    "print(t)"
   ]
  },
  {
   "cell_type": "markdown",
   "metadata": {},
   "source": [
    "Création d'un tableau rempli <mark>aléatoirement</mark>"
   ]
  },
  {
   "cell_type": "code",
   "execution_count": 19,
   "metadata": {},
   "outputs": [
    {
     "name": "stdout",
     "output_type": "stream",
     "text": [
      "[8 9 4 4 0 4 6 5]\n"
     ]
    }
   ],
   "source": [
    "# création d'un tableau de 8 éléments avec des entiers aléatoire de l'intervalle [0,9]\n",
    "t=np.random.randint(10,size=8)\n",
    "print(t)"
   ]
  },
  {
   "cell_type": "markdown",
   "metadata": {},
   "source": [
    "<h2 style=\"color:blue\">Acces a un élément du tableau</h2>"
   ]
  },
  {
   "cell_type": "code",
   "execution_count": 13,
   "metadata": {},
   "outputs": [
    {
     "name": "stdout",
     "output_type": "stream",
     "text": [
      "1\n"
     ]
    }
   ],
   "source": [
    "t=np.array([1,5,4,9,6,7])\n",
    "\n",
    "# Pour accéder au premier élément\n",
    "print(t[0])"
   ]
  },
  {
   "cell_type": "code",
   "execution_count": 15,
   "metadata": {},
   "outputs": [
    {
     "name": "stdout",
     "output_type": "stream",
     "text": [
      "6\n"
     ]
    }
   ],
   "source": [
    "t=np.array([1,5,4,9,6,7])\n",
    "\n",
    "# Pour accéder au dernier élément\n",
    "print(t[-2])"
   ]
  },
  {
   "cell_type": "code",
   "execution_count": 16,
   "metadata": {},
   "outputs": [
    {
     "name": "stdout",
     "output_type": "stream",
     "text": [
      "[ 1  5 33  9  6  7]\n"
     ]
    }
   ],
   "source": [
    "t=np.array([1,5,4,9,6,7])\n",
    "\n",
    "# on peut aussi modifier un élément\n",
    "t[2]=33\n",
    "print(t)"
   ]
  },
  {
   "cell_type": "markdown",
   "metadata": {},
   "source": [
    "<h2 style=\"color:blue\">Acces à une séquence (Slicing)</h2>"
   ]
  },
  {
   "cell_type": "code",
   "execution_count": 20,
   "metadata": {},
   "outputs": [
    {
     "name": "stdout",
     "output_type": "stream",
     "text": [
      "[2 3 4 5]\n"
     ]
    }
   ],
   "source": [
    "T=np.arange(1,10)\n",
    "\n",
    "# les élément de l'indice 1 à l'indice 4\n",
    "x=T[1:5]\n",
    "print(x)"
   ]
  },
  {
   "cell_type": "code",
   "execution_count": 21,
   "metadata": {},
   "outputs": [
    {
     "name": "stdout",
     "output_type": "stream",
     "text": [
      "[2 4]\n"
     ]
    }
   ],
   "source": [
    "T=np.arange(1,10)\n",
    "\n",
    "# liste des elements de l'indice 1 à l'indice 4 par pas =2\n",
    "x=T[1:5:2]\n",
    "print(x)"
   ]
  },
  {
   "cell_type": "code",
   "execution_count": 22,
   "metadata": {},
   "outputs": [
    {
     "name": "stdout",
     "output_type": "stream",
     "text": [
      "[1 2 3 4 5 6 7 8 9]\n",
      "[1 2 3 4 5]\n"
     ]
    }
   ],
   "source": [
    "T=np.arange(1,10)\n",
    "\n",
    "# liste des elements de début du tableau jusqu'à lélement d'indice 4\n",
    "x=T[:5]\n",
    "print(T)\n",
    "print(x)"
   ]
  },
  {
   "cell_type": "code",
   "execution_count": 23,
   "metadata": {},
   "outputs": [
    {
     "name": "stdout",
     "output_type": "stream",
     "text": [
      "[1 2 3 4 5 6 7 8 9]\n",
      "[6 7 8 9]\n"
     ]
    }
   ],
   "source": [
    "T=np.arange(1,10)\n",
    "\n",
    "# liste de élément de l'élément d'indice 5 jusqu'au dernier\n",
    "x=T[5:]\n",
    "print(T)\n",
    "print(x)"
   ]
  },
  {
   "cell_type": "code",
   "execution_count": 62,
   "metadata": {},
   "outputs": [
    {
     "name": "stdout",
     "output_type": "stream",
     "text": [
      "[1 2 3 4 5 6 7 8 9]\n",
      "[9 8 7 6 5 4 3 2 1]\n"
     ]
    }
   ],
   "source": [
    "T=np.arange(1,10)\n",
    "\n",
    "# Si le pas est négatif, le début et la fin du slice sont inversés. \n",
    "# On peut utiliser cette propriété pour inverser un tableau.\n",
    "x=T[::-1]\n",
    "print(T)\n",
    "print(x)"
   ]
  }
 ],
 "metadata": {
  "kernelspec": {
   "display_name": "Python 3",
   "language": "python",
   "name": "python3"
  },
  "language_info": {
   "codemirror_mode": {
    "name": "ipython",
    "version": 3
   },
   "file_extension": ".py",
   "mimetype": "text/x-python",
   "name": "python",
   "nbconvert_exporter": "python",
   "pygments_lexer": "ipython3",
   "version": "3.8.3"
  }
 },
 "nbformat": 4,
 "nbformat_minor": 4
}
