{
 "cells": [
  {
   "cell_type": "markdown",
   "metadata": {},
   "source": [
    "# Les opérateurs "
   ]
  },
  {
   "cell_type": "markdown",
   "metadata": {},
   "source": [
    "Dans cette nouvelle leçon, nous allons définir ce qu’est un opérateur, établir la liste des types d’opérateurs disponibles en algorithme et en Python et apprendre à en manipuler certains."
   ]
  },
  {
   "cell_type": "markdown",
   "metadata": {},
   "source": [
    "## liste des opérateurs"
   ]
  },
  {
   "cell_type": "markdown",
   "metadata": {},
   "source": [
    "Un opérateur est un signe ou un symbole qui va nous permettre de réaliser une opération. Le signe = par exemple est en Python l’opérateur d’affectation simple : il permet d’affecter une valeur à une variable.\n",
    "\n",
    "On dispose de nombreux opérateurs qui peuvent être classés selon les catégories suivantes :\n",
    "\n",
    "* Les opérateurs arithmétiques ;\n",
    "* Les opérateurs d’affectation ou d’assignation ;\n",
    "* Les opérateurs de chaines ;\n",
    "* Les opérateurs de comparaison ;\n",
    "* Les opérateurs logiques ;\n",
    "* Les opérateurs d’identité ;\n",
    "* Les opérateurs d’appartenance ;\n",
    "* Les opérateurs binaires.\n",
    "\n",
    "Dans cette leçon, nous allons nous concentrer sur les opérateurs arithmétiques, les opérateurs de chaines et sur les opérateurs d’affectation.\n",
    "\n",
    "Nous étudierons les autres types d’opérateurs plus tard dans ce cours, lorsque nous en aurons besoin pour illustrer certaines notions."
   ]
  },
  {
   "cell_type": "markdown",
   "metadata": {},
   "source": [
    "## Les opérateurs arithmétiques"
   ]
  },
  {
   "cell_type": "markdown",
   "metadata": {},
   "source": [
    "<table>\n",
    "    <thead>\n",
    "    <tr>\n",
    "        <td>Opérateur en Algorithme</td>\n",
    "        <td>Opérateur en Python</td><td>\tNom</td>\n",
    "        </tr>\n",
    "    </thead>\n",
    "<tbody>\n",
    "    <tr><td>+</td><td>+</td>\t<td>Addition</td></tr>\n",
    "<tr><td>-</td><td>–</td>\t<td>Soustraction</td></tr>\n",
    "<tr><td>*</td><td>*</td>\t<td>Multiplication</td></tr>\n",
    "<tr><td>/</td><td>/</td>\t<td>Division</td></tr>\n",
    "<tr><td>Mod</td><td>%</td>\t<td>Modulo</td></tr>\n",
    "<tr><td></td><td>**</td>\t<td>Puissance</td></tr>\n",
    "<tr><td>Div </td><td>//</td>\t<td>Division entière</td></tr>\n",
    "    </tbody></table>"
   ]
  },
  {
   "cell_type": "markdown",
   "metadata": {},
   "source": [
    "## Les opérateurs de chaines"
   ]
  },
  {
   "cell_type": "markdown",
   "metadata": {},
   "source": [
    "Les opérateurs de chaines vont nous permettre de manipuler des données de type str (chaines de caractères) et par extension des variables stockant des données de ce type."
   ]
  },
  {
   "cell_type": "markdown",
   "metadata": {},
   "source": [
    "Python met à notre disposition deux opérateurs de chaine : l’opérateur de concaténation + et l’opérateur de répétition *."
   ]
  },
  {
   "cell_type": "markdown",
   "metadata": {},
   "source": [
    "L’opérateur de concaténation va nous permettre de mettre bout à bout deux chaines de caractères afin d’en former une troisième, nouvelle."
   ]
  },
  {
   "cell_type": "markdown",
   "metadata": {},
   "source": [
    "L’opérateur de répétition va nous permettre de répéter une chaine un certain nombre de fois."
   ]
  },
  {
   "cell_type": "markdown",
   "metadata": {},
   "source": [
    "Ces deux symboles remplissent donc un rôle relativement similaire que lorsqu’ils sont utilisés avec des données de type numériques mais attention tout de même de ne pas confondre le + utilisé pour additionner deux nombres et le + utilisé pour concaténer deux chaines de caractères : on distingue ici bien deux opérateurs différents même si le même symbole est utilisé."
   ]
  },
  {
   "cell_type": "code",
   "execution_count": 4,
   "metadata": {},
   "outputs": [
    {
     "name": "stdout",
     "output_type": "stream",
     "text": [
      "hello world\n",
      "hellohellohellohellohello\n"
     ]
    }
   ],
   "source": [
    "x='hello'\n",
    "y='world'\n",
    "print(x + \" \" + y)\n",
    "print(x * 5)"
   ]
  },
  {
   "cell_type": "markdown",
   "metadata": {},
   "source": [
    "## Les opérateurs d’affection simple et composés en python"
   ]
  },
  {
   "cell_type": "markdown",
   "metadata": {},
   "source": [
    "En algorithme il n\\'existe qu'un seul opérateur d'affectation <--"
   ]
  },
  {
   "cell_type": "markdown",
   "metadata": {},
   "source": [
    "<table>\n",
    "    <tr><td> Opérateur</td><td>Exemple</td><td>Equivalent à\tDescription</td></tr>\n",
    "<tr><td>=</td><td>x = 1</td><td>x = 1</td><td>Affecte 1 à la variable x</td></tr>\n",
    "<tr><td>+=</td><td>x += 1</td><td>x = x + 1</td><td>Ajoute 1 à la dernière valeur connue de x et affecte la nouvelle valeur (l’ancienne + 1) à x</td></tr>\n",
    "<tr><td>-=</td><td>x -= 1</td><td>x = x – 1</td><td>Enlève 1 à la dernière valeur connue de x et affecte la nouvelle valeur à x</td></tr>\n",
    "<tr><td>*=</td><td>x *= 2</td><td>x = x * 2</td><td>Mutliplie par 2 la dernière valeur connue de x et affecte la nouvelle valeur à x</td></tr>\n",
    "<tr><td>/=</td><td>x /= 2</td><td>x = x / 2</td><td>Divise par 2 la dernière valeur connue de x et affecte la nouvelle valeur à x</td></tr>\n",
    "<tr><td>%=</td><td>x %= 2</td><td>x = x % 2</td><td>Calcule le reste de la division entière de x par 2 et affecte ce reste à x</td></tr>\n",
    "<tr><td>//=</td><td>x //= 2</td><td>x = x // 2</td><td>Calcule le résultat entier de la division de x par 2 et affecte ce résultat à x</td></tr>\n",
    "<tr><td>**=</td><td>x **= 4</td><td>x = x ** 4</td><td>Elève x à la puissance 4 et affecte la nouvelle valeur dans x</td></tr>\n",
    "    </table>"
   ]
  }
 ],
 "metadata": {
  "kernelspec": {
   "display_name": "Python 3",
   "language": "python",
   "name": "python3"
  },
  "language_info": {
   "codemirror_mode": {
    "name": "ipython",
    "version": 3
   },
   "file_extension": ".py",
   "mimetype": "text/x-python",
   "name": "python",
   "nbconvert_exporter": "python",
   "pygments_lexer": "ipython3",
   "version": "3.8.3"
  }
 },
 "nbformat": 4,
 "nbformat_minor": 4
}
