{
 "cells": [
  {
   "cell_type": "markdown",
   "metadata": {},
   "source": [
    "# Les dictionnaires Python"
   ]
  },
  {
   "cell_type": "markdown",
   "metadata": {},
   "source": [
    "Dans cette leçon, nous allons nous intéresser à un autre type de données Python composites : les dictionnaires. Nous allons découvrir l’intérêt des dictionnaires et apprendre à manipuler ce nouveau type de données."
   ]
  },
  {
   "cell_type": "markdown",
   "metadata": {},
   "source": [
    "## Présentation des dictionnaires Python"
   ]
  },
  {
   "cell_type": "markdown",
   "metadata": {},
   "source": [
    "Les dictionnaires sont un type natif de données Python. Ce type de données peut, de la même façon que les données séquentielles, contenir plusieurs valeurs et chaque valeur va être indexée ce qui signifie qu’un indice unique va être attribué à chaque valeur."
   ]
  },
  {
   "cell_type": "markdown",
   "metadata": {},
   "source": [
    "La grande différence entre les données séquentielles et les dictionnaires se situe dans la façon d’indexer les valeurs et dans la nature de l’index. Dans le cas des séquences, les différentes valeurs dont associées à des index numériques commençant à 0."
   ]
  },
  {
   "cell_type": "markdown",
   "metadata": {},
   "source": [
    "Les dictionnaires nous laissent une bien plus grande liberté ici puisqu’on va pouvoir choisir nous mêmes nos clefs (ou index ou indice) et attribuer la clef de notre choix à chaque valeur à partir du moment où cette clef n’est pas déjà utilisée dans ce dictionnaire et où la clef est une valeur immuable. La conséquence de cela est que les valeurs d’un dictionnaire ne sont pas ordonnées à la différence des valeurs d’une séquence."
   ]
  },
  {
   "cell_type": "markdown",
   "metadata": {},
   "source": [
    "Si vous avez des notions en PHP ou dans certains autres langages de script, vous pouvez retenir que les dictionnaires Python sont l’équivalent des tableaux associatifs dans ces langages."
   ]
  },
  {
   "cell_type": "markdown",
   "metadata": {},
   "source": [
    "## Création d’un dictionnaire Python"
   ]
  },
  {
   "cell_type": "markdown",
   "metadata": {},
   "source": [
    "Pour créer un nouveau dictionnaire, nous allons devoir utiliser un couple d’accolades { } et définir les paires clef : valeur à l’intérieur des accolades comme ceci :"
   ]
  },
  {
   "cell_type": "code",
   "execution_count": 2,
   "metadata": {},
   "outputs": [
    {
     "data": {
      "text/plain": [
       "'Pierre'"
      ]
     },
     "execution_count": 2,
     "metadata": {},
     "output_type": "execute_result"
    }
   ],
   "source": [
    "d={\"nom\":\"Pierre\", \"age\":29,\"sport\":[\"Trial\",\"Triathlon\"]}\n",
    "d[\"nom\"]"
   ]
  },
  {
   "cell_type": "code",
   "execution_count": 3,
   "metadata": {},
   "outputs": [
    {
     "data": {
      "text/plain": [
       "29"
      ]
     },
     "execution_count": 3,
     "metadata": {},
     "output_type": "execute_result"
    }
   ],
   "source": [
    "d={\"nom\":\"Pierre\", \"age\":29,\"sport\":[\"Trial\",\"Triathlon\"]}\n",
    "d[\"age\"]"
   ]
  },
  {
   "cell_type": "code",
   "execution_count": 4,
   "metadata": {},
   "outputs": [
    {
     "data": {
      "text/plain": [
       "['Trial', 'Triathlon']"
      ]
     },
     "execution_count": 4,
     "metadata": {},
     "output_type": "execute_result"
    }
   ],
   "source": [
    "d={\"nom\":\"Pierre\", \"age\":29,\"sport\":[\"Trial\",\"Triathlon\"]}\n",
    "d[\"sport\"]"
   ]
  },
  {
   "cell_type": "markdown",
   "metadata": {},
   "source": [
    "Comme vous pouvez le voir dans l’exemple ci-dessus, on utilise une nouvelle fois le syntaxe avec des crochets pour lire les différentes valeurs de notre dictionnaire. Pour être tout à fait précis, on passe ici une clef entre crochets pour récupérer la valeur qui lui est associée."
   ]
  },
  {
   "cell_type": "markdown",
   "metadata": {},
   "source": [
    "## Ajout et modification de valeurs dans un dictionnaire"
   ]
  },
  {
   "cell_type": "markdown",
   "metadata": {},
   "source": [
    "Les dictionnaires sont altérables, ce qui signifie qu’on va pouvoir modifier ou ajouter des valeurs dans un dictionnaire après sa création.\n",
    "\n",
    "Pour cela, on va tout simplement utiliser le nom de notre dictionnaire suivi d’un couple de crochets [ ] en passant une clef entre ces crochets puis affecter une valeur à cette clef. Dans le cas où la clef existe déjà, l’ensemble clef : valeur n’est pas ajouté mais la valeur originellement liée à la clef est plutôt remplacée par la nouvelle valeur.\n",
    "\n",
    "\n",
    "Illustrons immédiatement cela avec quelques exemples de manipulation des données de dictionnaires Python :"
   ]
  },
  {
   "cell_type": "code",
   "execution_count": 5,
   "metadata": {},
   "outputs": [
    {
     "data": {
      "text/plain": [
       "{'nom': 'Pierre',\n",
       " 'age': 29,\n",
       " 'sport': ['Trial', 'Triathlon'],\n",
       " 'mail': 'pierre@classroom.com'}"
      ]
     },
     "execution_count": 5,
     "metadata": {},
     "output_type": "execute_result"
    }
   ],
   "source": [
    "d={\"nom\":\"Pierre\", \"age\":29,\"sport\":[\"Trial\",\"Triathlon\"]}\n",
    "d[\"mail\"]=\"pierre@classroom.com\"\n",
    "d"
   ]
  },
  {
   "cell_type": "code",
   "execution_count": 8,
   "metadata": {},
   "outputs": [
    {
     "data": {
      "text/plain": [
       "{'nom': 'Pierre', 'age': 29, 'sport': ['Trial', 'Triathlon']}"
      ]
     },
     "execution_count": 8,
     "metadata": {},
     "output_type": "execute_result"
    }
   ],
   "source": [
    "d={\"nom\":\"Pierre\", \"age\":29,\"sport\":[\"Trial\",\"Triathlon\"],\"mail\":\"pierre@classroom.com\"}\n",
    "del d[\"mail\"]\n",
    "d"
   ]
  }
 ],
 "metadata": {
  "kernelspec": {
   "display_name": "Python 3",
   "language": "python",
   "name": "python3"
  },
  "language_info": {
   "codemirror_mode": {
    "name": "ipython",
    "version": 3
   },
   "file_extension": ".py",
   "mimetype": "text/x-python",
   "name": "python",
   "nbconvert_exporter": "python",
   "pygments_lexer": "ipython3",
   "version": "3.8.3"
  }
 },
 "nbformat": 4,
 "nbformat_minor": 4
}
