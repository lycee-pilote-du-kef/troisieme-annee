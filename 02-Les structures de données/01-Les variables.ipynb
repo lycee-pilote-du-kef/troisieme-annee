{
 "cells": [
  {
   "cell_type": "markdown",
   "metadata": {},
   "source": [
    "# Les variables Python"
   ]
  },
  {
   "cell_type": "markdown",
   "metadata": {},
   "source": [
    "Dans cette leçon, nous allons découvrir un élément fondamental de la programmation : les variable. Nous allons expliquer ce que sont les variables en informatique, les usages qu’on va pouvoir en faire et comment créer des variables."
   ]
  },
  {
   "cell_type": "markdown",
   "metadata": {},
   "source": [
    "## Qu’est-ce qu’une variable ?"
   ]
  },
  {
   "cell_type": "markdown",
   "metadata": {},
   "source": [
    "Une variable, dans le domaine de la programmation informatique, est un conteneur qui sert à stocker une valeur. Les variables possèdent deux caractéristiques fondamentales :"
   ]
  },
  {
   "cell_type": "markdown",
   "metadata": {},
   "source": [
    "* Les variables ont une durée de vie limitée (une variable ne vit généralement que le temps de l’exécution d’un script ou de la fonction qui l’a définie), ce qui signifie qu’on ne va pas pouvoir utiliser les variables pour stocker des données de manière pérenne ;"
   ]
  },
  {
   "cell_type": "markdown",
   "metadata": {},
   "source": [
    "* La valeur d’une variable peut varier : les variables peuvent peuvent stocker différentes valeurs au cours de leur vie (la nouvelle valeur remplaçant l’ancienne)."
   ]
  },
  {
   "cell_type": "markdown",
   "metadata": {},
   "source": [
    "Les variables donc être au coeur de nos scripts puisqu’elles vont nous permettre de conserver des valeurs le temps d’un script et d’effectuer toutes sortes de manipulations sur ces valeurs en toute simplicité."
   ]
  },
  {
   "cell_type": "markdown",
   "metadata": {},
   "source": [
    "## Comment utiliser une variable ?"
   ]
  },
  {
   "cell_type": "markdown",
   "metadata": {},
   "source": [
    "Pour créer une variable, on va donc devoir choisir un nom et affecter une valeur à ce nom, c’est-à-dire stocker une valeur dans notre variable."
   ]
  },
  {
   "cell_type": "markdown",
   "metadata": {},
   "source": [
    "Pour affecter ou “assigner” une valeur à une variable, nous allons utiliser un opérateur qu’on appelle opérateur d’affectation ou d’assignation et qui est représenté par le signe <-- en algorithme ou le signe = en python. Attention, le signe = (ou <--) ne signifie pas en informatique l’égalité d’un point de vue mathématique : c’est un opérateur d’affectation.\n",
    "\n",
    "Le signe = (ou <--) ne sert pas à dire que la valeur est égale au nom de variable ou que la variable “vaut” cette valeur, il indique simplement qu’on affecte ou qu’on stocke une certaine valeur dans un conteneur.\n",
    "\n",
    "\n",
    "D’un point de vue mathématique, par exemple, écrire x = x + 2 n’a aucun sens car la variable x ne peut être égale qu’à elle même. En informatique, cependant, c’est tout à fait possible puisque l’opérateur =(ou <--) n’est pas un opérateur d’égalité mais d’affectation. Ecrire x = x + 2 signifie qu’on affecte une nouvelle valeur à x qui est égale à l’ancienne valeur de x à laquelle on ajoute 2."
   ]
  },
  {
   "cell_type": "markdown",
   "metadata": {},
   "source": [
    "### Exemple"
   ]
  },
  {
   "cell_type": "markdown",
   "metadata": {},
   "source": [
    "##### en algorithme"
   ]
  },
  {
   "cell_type": "raw",
   "metadata": {},
   "source": [
    "nom <-- \"Mohamed\"\n",
    "age <-- 20\n",
    "sexe <-- \"H\""
   ]
  },
  {
   "cell_type": "markdown",
   "metadata": {},
   "source": [
    "##### En python"
   ]
  },
  {
   "cell_type": "code",
   "execution_count": 3,
   "metadata": {},
   "outputs": [],
   "source": [
    "nom=\"Mohamed\"\n",
    "age=20\n",
    "sexe=\"H\""
   ]
  },
  {
   "cell_type": "markdown",
   "metadata": {},
   "source": [
    "## Afficher et modifier le contenu d’une variable Python"
   ]
  },
  {
   "cell_type": "markdown",
   "metadata": {},
   "source": [
    "Nous allons pouvoir réaliser toutes sortes d’opérations avec nos variables. La plus basique d’entre elles consiste à afficher le contenu d’une variable. Pour afficher la valeur d’une variable, il suffit d’utiliser la fonction afficher ou print() en renseignant le nom de la variable entre les parenthèses"
   ]
  },
  {
   "cell_type": "markdown",
   "metadata": {},
   "source": [
    "### Exemple"
   ]
  },
  {
   "cell_type": "markdown",
   "metadata": {},
   "source": [
    "##### en algorithme"
   ]
  },
  {
   "cell_type": "raw",
   "metadata": {},
   "source": [
    "nom <-- \"Mohamed\"\n",
    "age <-- 20\n",
    "sexe <-- \"H\"\n",
    "afficher(age)\n",
    "afficher(\"Bienvenue \",nom ,\" votre age est\", age)"
   ]
  },
  {
   "cell_type": "markdown",
   "metadata": {},
   "source": [
    "##### En python"
   ]
  },
  {
   "cell_type": "code",
   "execution_count": 4,
   "metadata": {},
   "outputs": [
    {
     "name": "stdout",
     "output_type": "stream",
     "text": [
      "20\n",
      "Bienvenue  Mohamed  votre age est 20\n"
     ]
    }
   ],
   "source": [
    "nom=\"Mohamed\"\n",
    "age=20\n",
    "sexe=\"H\"\n",
    "print(age)\n",
    "print(\"Bienvenue \",nom ,\" votre age est\", age)"
   ]
  },
  {
   "cell_type": "markdown",
   "metadata": {},
   "source": [
    "Comme je l’ai précisé plus haut, l’une des caractéristiques fondamentales des variables va être de pouvoir stocker différentes valeurs durant sa vie. Ainsi, on peut tout à fait affecter une nouvelle valeur à une variable. Une variable « classique » ne va pouvoir stocker qu’une valeur à la fois. En affectant une nouvelle valeur à une variable, la valeur précédente est ainsi écrasée."
   ]
  },
  {
   "cell_type": "code",
   "execution_count": 6,
   "metadata": {},
   "outputs": [
    {
     "name": "stdout",
     "output_type": "stream",
     "text": [
      "20\n",
      "25\n",
      "26\n"
     ]
    }
   ],
   "source": [
    "age=20\n",
    "print(age)\n",
    "age=25\n",
    "print(age)\n",
    "age= age + 1\n",
    "print(age)"
   ]
  },
  {
   "cell_type": "markdown",
   "metadata": {},
   "source": [
    "<hr>"
   ]
  },
  {
   "cell_type": "markdown",
   "metadata": {},
   "source": [
    "# <font color=\"red\">Exercices</font>"
   ]
  },
  {
   "cell_type": "markdown",
   "metadata": {},
   "source": [
    "### Exercice 1"
   ]
  },
  {
   "cell_type": "markdown",
   "metadata": {},
   "source": [
    "Quelles seront les valeurs des variables A et B après exécution des instructions suivantes ?"
   ]
  },
  {
   "cell_type": "raw",
   "metadata": {},
   "source": [
    "Variables A, B en Entier\n",
    "Début\n",
    "A ← 1\n",
    "B ← A + 3\n",
    "A ← 3\n",
    "Fin"
   ]
  },
  {
   "cell_type": "markdown",
   "metadata": {},
   "source": [
    "### Exercice 2"
   ]
  },
  {
   "cell_type": "markdown",
   "metadata": {},
   "source": [
    "Quelles seront les valeurs des variables A, B et C après exécution des instructions suivantes ?"
   ]
  },
  {
   "cell_type": "raw",
   "metadata": {},
   "source": [
    "Variables A, B, C en Entier\n",
    "Début\n",
    "A ← 5\n",
    "B ← 3\n",
    "C ← A + B\n",
    "A ← 2\n",
    "C ← B – A\n",
    "Fin"
   ]
  },
  {
   "cell_type": "markdown",
   "metadata": {},
   "source": [
    "### Exercice 3"
   ]
  },
  {
   "cell_type": "markdown",
   "metadata": {},
   "source": [
    "Quelles seront les valeurs des variables A et B après exécution des instructions suivantes ?"
   ]
  },
  {
   "cell_type": "raw",
   "metadata": {},
   "source": [
    "Variables A, B en Entier\n",
    "Début\n",
    "A ← 5\n",
    "B ← A + 4\n",
    "A ← A + 1\n",
    "B ← A – 4\n",
    "Fin"
   ]
  },
  {
   "cell_type": "markdown",
   "metadata": {},
   "source": [
    "### Exercice 4"
   ]
  },
  {
   "cell_type": "markdown",
   "metadata": {},
   "source": [
    "Quelles seront les valeurs des variables A, B et C après exécution des instructions suivantes ?"
   ]
  },
  {
   "cell_type": "raw",
   "metadata": {},
   "source": [
    "Variables A, B, C en Entier\n",
    "Début\n",
    " A ← 3\n",
    "B ← 10\n",
    "C ← A + B\n",
    "B ← A + B\n",
    "A ← C\n",
    "Fin"
   ]
  },
  {
   "cell_type": "markdown",
   "metadata": {},
   "source": [
    "### Exercice 5"
   ]
  },
  {
   "cell_type": "markdown",
   "metadata": {},
   "source": [
    "Quelles seront les valeurs des variables A et B après exécution des instructions suivantes ?"
   ]
  },
  {
   "cell_type": "raw",
   "metadata": {},
   "source": [
    "Variables A, B en Entier\n",
    "Début\n",
    "A ← 5\n",
    "B ← 2\n",
    "A ← B\n",
    "B ← A\n",
    "Fin"
   ]
  },
  {
   "cell_type": "markdown",
   "metadata": {},
   "source": [
    "<strong>Moralité</strong> : les deux dernières instructions permettent-elles d’échanger les deux valeurs de B et A ? Si l’on inverse les deux dernières instructions, cela change-t-il quelque chose ?"
   ]
  },
  {
   "cell_type": "markdown",
   "metadata": {},
   "source": [
    "### Exercice 6"
   ]
  },
  {
   "cell_type": "markdown",
   "metadata": {},
   "source": [
    "Plus difficile, mais c’est un classique absolu, qu’il faut absolument maîtriser : écrire un algorithme permettant d’échanger les valeurs de deux variables A et B, et ce quel que soit leur contenu préalable."
   ]
  },
  {
   "cell_type": "markdown",
   "metadata": {},
   "source": [
    "### Exercice 7"
   ]
  },
  {
   "cell_type": "markdown",
   "metadata": {},
   "source": [
    "Une variante du précédent : on dispose de trois variables A, B et C. Ecrivez un algorithme transférant à B la valeur de A, à C la valeur de B et à A la valeur de C (toujours quels que soient les contenus préalables de ces variables). "
   ]
  },
  {
   "cell_type": "markdown",
   "metadata": {},
   "source": [
    "### Exercice 8"
   ]
  },
  {
   "cell_type": "markdown",
   "metadata": {},
   "source": [
    "Que produit l’algorithme suivant ?"
   ]
  },
  {
   "cell_type": "raw",
   "metadata": {},
   "source": [
    "Variables A, B, C en Caractères\n",
    "Début\n",
    "A ← \"423\"\n",
    "B ← \"12\"\n",
    "C ← A + B\n",
    "Fin"
   ]
  }
 ],
 "metadata": {
  "kernelspec": {
   "display_name": "Python 3",
   "language": "python",
   "name": "python3"
  },
  "language_info": {
   "codemirror_mode": {
    "name": "ipython",
    "version": 3
   },
   "file_extension": ".py",
   "mimetype": "text/x-python",
   "name": "python",
   "nbconvert_exporter": "python",
   "pygments_lexer": "ipython3",
   "version": "3.8.3"
  }
 },
 "nbformat": 4,
 "nbformat_minor": 4
}
