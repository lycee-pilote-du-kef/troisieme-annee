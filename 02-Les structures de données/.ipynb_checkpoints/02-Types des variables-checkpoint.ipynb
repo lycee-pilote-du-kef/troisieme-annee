{
 "cells": [
  {
   "cell_type": "markdown",
   "metadata": {},
   "source": [
    "# Types des variables"
   ]
  },
  {
   "cell_type": "markdown",
   "metadata": {},
   "source": [
    "Dans cette leçon, nous allons définir ce qu’est un type de données et passer en revue les types de données les plus courants et simples à appréhender."
   ]
  },
  {
   "cell_type": "markdown",
   "metadata": {},
   "source": [
    "## Qu’est-ce qu’un type de données ?"
   ]
  },
  {
   "cell_type": "markdown",
   "metadata": {},
   "source": [
    "En programmation, les données qu’on va pouvoir manipuler avec un langage sont généralement classées par “type”.\n",
    "\n",
    "Un “type” de données pour un langage est défini par les manipulations qu’on va pouvoir faire sur ces données : on va pouvoir effectuer les mêmes opérations sur chaque donnée d’un même type et des opérations différentes sur différents types de données.\n",
    "\n",
    "Prenons un nombre entier par exemple. Il semble tout à fait logique de pouvoir effectuer des opérations mathématiques de base avec ce nombre : addition, soustraction, multiplication, etc. En revanche, on ne va pas pouvoir effectuer les mêmes opérations / manipulations sur un texte, puisque multiplier un texte par quelque chose par exemple n’a aucun sens."
   ]
  },
  {
   "cell_type": "markdown",
   "metadata": {},
   "source": [
    "## Les types de données"
   ]
  },
  {
   "cell_type": "markdown",
   "metadata": {},
   "source": [
    "### Les types numériques entier et réel"
   ]
  },
  {
   "cell_type": "markdown",
   "metadata": {},
   "source": [
    "* Le type <strong>entier</strong> (int en python) qui représente tout entier positif ou négatif ;\n",
    "* Le type <strong>réel</strong> (float en python) qui représente les nombres décimaux et certaines expressions scientifiques comme le e pour désigner une exponentielle par exemple;"
   ]
  },
  {
   "cell_type": "markdown",
   "metadata": {},
   "source": [
    "On va pouvoir effectuer ces opérations directement entre nombres et se servir de Python comme d’une calculatrice ou affecter ces nombres à des variables et utiliser nos variables pour effectuer nos opérations :"
   ]
  },
  {
   "cell_type": "code",
   "execution_count": 1,
   "metadata": {},
   "outputs": [
    {
     "data": {
      "text/plain": [
       "18"
      ]
     },
     "execution_count": 1,
     "metadata": {},
     "output_type": "execute_result"
    }
   ],
   "source": [
    "7+11"
   ]
  },
  {
   "cell_type": "code",
   "execution_count": 2,
   "metadata": {},
   "outputs": [
    {
     "data": {
      "text/plain": [
       "28"
      ]
     },
     "execution_count": 2,
     "metadata": {},
     "output_type": "execute_result"
    }
   ],
   "source": [
    "32-4 "
   ]
  },
  {
   "cell_type": "code",
   "execution_count": 3,
   "metadata": {},
   "outputs": [
    {
     "data": {
      "text/plain": [
       "15"
      ]
     },
     "execution_count": 3,
     "metadata": {},
     "output_type": "execute_result"
    }
   ],
   "source": [
    "3 * 5"
   ]
  },
  {
   "cell_type": "code",
   "execution_count": 1,
   "metadata": {},
   "outputs": [
    {
     "data": {
      "text/plain": [
       "50"
      ]
     },
     "execution_count": 1,
     "metadata": {},
     "output_type": "execute_result"
    }
   ],
   "source": [
    "100 // 2   # en algorithme  100 div 2"
   ]
  },
  {
   "cell_type": "code",
   "execution_count": 13,
   "metadata": {},
   "outputs": [
    {
     "data": {
      "text/plain": [
       "4"
      ]
     },
     "execution_count": 13,
     "metadata": {},
     "output_type": "execute_result"
    }
   ],
   "source": [
    "100 % 6    # le reste de la division en algorithme : 100 mod 6"
   ]
  },
  {
   "cell_type": "code",
   "execution_count": 7,
   "metadata": {},
   "outputs": [
    {
     "data": {
      "text/plain": [
       "8"
      ]
     },
     "execution_count": 7,
     "metadata": {},
     "output_type": "execute_result"
    }
   ],
   "source": [
    "x=5   # en algorithme  x <-- 5\n",
    "x+3"
   ]
  },
  {
   "cell_type": "code",
   "execution_count": 8,
   "metadata": {},
   "outputs": [
    {
     "data": {
      "text/plain": [
       "3"
      ]
     },
     "execution_count": 8,
     "metadata": {},
     "output_type": "execute_result"
    }
   ],
   "source": [
    "x-2"
   ]
  },
  {
   "cell_type": "code",
   "execution_count": 11,
   "metadata": {},
   "outputs": [
    {
     "data": {
      "text/plain": [
       "25"
      ]
     },
     "execution_count": 11,
     "metadata": {},
     "output_type": "execute_result"
    }
   ],
   "source": [
    "x ** 2 // inexistante en algorithme"
   ]
  },
  {
   "cell_type": "code",
   "execution_count": 10,
   "metadata": {},
   "outputs": [
    {
     "data": {
      "text/plain": [
       "15"
      ]
     },
     "execution_count": 10,
     "metadata": {},
     "output_type": "execute_result"
    }
   ],
   "source": [
    "y=10   #en algorithme y <-- 10\n",
    "x+y"
   ]
  },
  {
   "cell_type": "markdown",
   "metadata": {},
   "source": [
    "Ici, on commence par effectuer des opérations entre nombres : addition, soustraction, multiplication, division et élévation à la puissance. Notez que pour réaliser une division entière, on utilise l’opérateur //. On peut également utiliser l’opérateur / pour réaliser une division “classique” mais dans ce cas le résultat sera toujours considéré comme étant de type float (nombre décimal). Finalement, on utilise l’opérateur ** pour élever un nombre à la puissance.\n",
    "\n",
    "\n",
    " \n",
    "On peut également stocker des nombres dans des variables et utiliser ces variables pour effectuer nos calculs. Ici, on commence par définir une variable x et on lui attribue la valeur 5. On effectue ensuite différentes opérations. Notez que durant tous ces calculs x continue de stocker 5 puisqu’on n’affecte jamais de nouvelles valeurs à x. Finalement, on définit une deuxième variable y = 10 et on demande à Python de calculer x + y, c’est-à-dire de nous donner le résultat de l’addition des deux valeurs contenues dans x et dans y.\n",
    "\n",
    "Le type de données “nombre décimal” ou float couvre tous les nombres décimaux (c’est-à-dire les nombres à virgule) ainsi que certaines expressions scientifiques comme le e qui désigne une exponentielle.\n",
    "\n",
    "Attention ici : dans le monde de la programmation, les notations anglo-saxonnes sont la norme. Il faudra donc bien faire attention à utiliser un . et non pas une , pour les décimaux."
   ]
  }
 ],
 "metadata": {
  "kernelspec": {
   "display_name": "Python 3",
   "language": "python",
   "name": "python3"
  },
  "language_info": {
   "codemirror_mode": {
    "name": "ipython",
    "version": 3
   },
   "file_extension": ".py",
   "mimetype": "text/x-python",
   "name": "python",
   "nbconvert_exporter": "python",
   "pygments_lexer": "ipython3",
   "version": "3.8.3"
  }
 },
 "nbformat": 4,
 "nbformat_minor": 4
}
