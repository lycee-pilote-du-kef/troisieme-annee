{
 "cells": [
  {
   "cell_type": "markdown",
   "metadata": {},
   "source": [
    "# Les tuples Python"
   ]
  },
  {
   "cell_type": "markdown",
   "metadata": {},
   "source": [
    "Dans cette leçon, nous allons nous intéresser à un nouveau type de données composites Python qui peut faire penser aux listes à premières vue : les tuples. Nous allons souligner les différences entre les listes et les tuples, voir les cas d’usage des tuples et apprendre à créer des tuples."
   ]
  },
  {
   "cell_type": "markdown",
   "metadata": {},
   "source": [
    "## Présentation des tuples et cas d’utilisation"
   ]
  },
  {
   "cell_type": "markdown",
   "metadata": {},
   "source": [
    "Les chaines de caractères et les listes sont deux types séquentiels de données : ce sont des données qui sont organisées sous la forme de séquence de caractères ou de valeurs. Les tuples sont un autre type séquentiel de données.\n",
    "\n",
    "Les tuples ressemblent aux listes : un tuple consiste en différentes valeurs entourées par des virgules. Notez qu’on encadre généralement les valeurs d’un tuple avec un couple de parenthèses même si cela n’est pas obligatoire.\n",
    "\n",
    "Les tuples peuvent contenir différents types de valeurs comme des nombres, des chaines, des listes etc. et même d’autres tuples imbriqués. Illustrons immédiatement cela :"
   ]
  }
 ],
 "metadata": {
  "kernelspec": {
   "display_name": "Python 3",
   "language": "python",
   "name": "python3"
  },
  "language_info": {
   "codemirror_mode": {
    "name": "ipython",
    "version": 3
   },
   "file_extension": ".py",
   "mimetype": "text/x-python",
   "name": "python",
   "nbconvert_exporter": "python",
   "pygments_lexer": "ipython3",
   "version": "3.8.3"
  }
 },
 "nbformat": 4,
 "nbformat_minor": 4
}
