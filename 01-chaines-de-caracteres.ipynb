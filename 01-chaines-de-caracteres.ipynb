{
 "cells": [
  {
   "cell_type": "markdown",
   "metadata": {},
   "source": [
    "# Les chaines de caractères "
   ]
  },
  {
   "cell_type": "markdown",
   "metadata": {},
   "source": [
    "# Attribuer une chaîne à une variable"
   ]
  },
  {
   "cell_type": "code",
   "execution_count": 40,
   "metadata": {},
   "outputs": [],
   "source": [
    "a = \"Hello\""
   ]
  },
  {
   "cell_type": "markdown",
   "metadata": {},
   "source": [
    "# Chaînes multilignes"
   ]
  },
  {
   "cell_type": "code",
   "execution_count": 41,
   "metadata": {},
   "outputs": [
    {
     "name": "stdout",
     "output_type": "stream",
     "text": [
      "Lorem ipsum dolor sit amet,\n",
      "consectetur adipiscing elit,\n",
      "sed do eiusmod tempor incididunt\n",
      "ut labore et dolore magna aliqua.\n"
     ]
    }
   ],
   "source": [
    "a = \"\"\"Lorem ipsum dolor sit amet,\n",
    "consectetur adipiscing elit,\n",
    "sed do eiusmod tempor incididunt\n",
    "ut labore et dolore magna aliqua.\"\"\"\n",
    "print(a)"
   ]
  },
  {
   "cell_type": "markdown",
   "metadata": {},
   "source": [
    "# Les chaînes sont des tableaux"
   ]
  },
  {
   "cell_type": "code",
   "execution_count": 42,
   "metadata": {},
   "outputs": [
    {
     "name": "stdout",
     "output_type": "stream",
     "text": [
      "e\n"
     ]
    }
   ],
   "source": [
    "a = \"Hello, World!\"\n",
    "print(a[1])"
   ]
  },
  {
   "cell_type": "markdown",
   "metadata": {},
   "source": [
    "# Tranchage"
   ]
  },
  {
   "cell_type": "code",
   "execution_count": 43,
   "metadata": {},
   "outputs": [
    {
     "name": "stdout",
     "output_type": "stream",
     "text": [
      "llo\n"
     ]
    }
   ],
   "source": [
    "b = \"Hello, World!\"\n",
    "print(b[2:5])"
   ]
  },
  {
   "cell_type": "markdown",
   "metadata": {},
   "source": [
    "# Indexation négative"
   ]
  },
  {
   "cell_type": "code",
   "execution_count": 44,
   "metadata": {},
   "outputs": [
    {
     "name": "stdout",
     "output_type": "stream",
     "text": [
      "orl\n"
     ]
    }
   ],
   "source": [
    "b = \"Hello, World!\"\n",
    "print(b[-5:-2])"
   ]
  },
  {
   "cell_type": "markdown",
   "metadata": {},
   "source": [
    "# Longueur de chaine"
   ]
  },
  {
   "cell_type": "code",
   "execution_count": 45,
   "metadata": {},
   "outputs": [
    {
     "name": "stdout",
     "output_type": "stream",
     "text": [
      "13\n"
     ]
    }
   ],
   "source": [
    "a = \"Hello, World!\"\n",
    "print(len(a))"
   ]
  },
  {
   "cell_type": "markdown",
   "metadata": {},
   "source": [
    "# Méthodes de chaîne"
   ]
  },
  {
   "cell_type": "markdown",
   "metadata": {},
   "source": [
    "## strip(): \n",
    "méthode supprime tous les espaces du début ou de la fin:"
   ]
  },
  {
   "cell_type": "code",
   "execution_count": 46,
   "metadata": {},
   "outputs": [
    {
     "name": "stdout",
     "output_type": "stream",
     "text": [
      "Hello, World!\n"
     ]
    }
   ],
   "source": [
    "a = \" Hello, World! \"\n",
    "print(a.strip()) # returns \"Hello, World!\""
   ]
  },
  {
   "cell_type": "markdown",
   "metadata": {},
   "source": [
    "## lower()\n",
    "méthode renvoie la chaîne en minuscules:"
   ]
  },
  {
   "cell_type": "code",
   "execution_count": 47,
   "metadata": {},
   "outputs": [
    {
     "name": "stdout",
     "output_type": "stream",
     "text": [
      "hello, world!\n"
     ]
    }
   ],
   "source": [
    "a = \"Hello, World!\"\n",
    "print(a.lower())"
   ]
  },
  {
   "cell_type": "markdown",
   "metadata": {},
   "source": [
    "## upper()\n",
    "méthode renvoie la chaîne en majuscules:"
   ]
  },
  {
   "cell_type": "code",
   "execution_count": 48,
   "metadata": {},
   "outputs": [
    {
     "name": "stdout",
     "output_type": "stream",
     "text": [
      "HELLO, WORLD!\n"
     ]
    }
   ],
   "source": [
    "a = \"Hello, World!\"\n",
    "print(a.upper())"
   ]
  },
  {
   "cell_type": "markdown",
   "metadata": {},
   "source": [
    "## replace()\n",
    "méthode remplace une chaîne par une autre chaîne:"
   ]
  },
  {
   "cell_type": "code",
   "execution_count": 49,
   "metadata": {},
   "outputs": [
    {
     "name": "stdout",
     "output_type": "stream",
     "text": [
      "Jello, World!\n"
     ]
    }
   ],
   "source": [
    "a = \"Hello, World!\"\n",
    "print(a.replace(\"H\", \"J\"))"
   ]
  },
  {
   "cell_type": "markdown",
   "metadata": {},
   "source": [
    "## split()\n",
    "méthode divise la chaîne en sous-chaînes si elle trouve des instances du séparateur:"
   ]
  },
  {
   "cell_type": "code",
   "execution_count": 50,
   "metadata": {},
   "outputs": [
    {
     "name": "stdout",
     "output_type": "stream",
     "text": [
      "['Hello', ' World!']\n"
     ]
    }
   ],
   "source": [
    "a = \"Hello, World!\"\n",
    "print(a.split(\",\")) # returns ['Hello', ' World!']"
   ]
  },
  {
   "cell_type": "markdown",
   "metadata": {},
   "source": [
    "# Vérifier la chaîne"
   ]
  },
  {
   "cell_type": "markdown",
   "metadata": {},
   "source": [
    "Pour vérifier si une certaine phrase ou caractère est présent dans une chaîne, nous pouvons utiliser les mots-clés <strong>in</strong> ou <strong>not in</strong>."
   ]
  },
  {
   "cell_type": "code",
   "execution_count": 51,
   "metadata": {},
   "outputs": [
    {
     "name": "stdout",
     "output_type": "stream",
     "text": [
      "True\n"
     ]
    }
   ],
   "source": [
    "txt = \"The rain in Spain stays mainly in the plain\"\n",
    "x = \"ain\" in txt\n",
    "print(x)"
   ]
  },
  {
   "cell_type": "markdown",
   "metadata": {},
   "source": [
    "# Concaténation de chaînes"
   ]
  },
  {
   "cell_type": "markdown",
   "metadata": {},
   "source": [
    "Pour concaténer ou combiner deux chaînes, vous pouvez utiliser l'opérateur +."
   ]
  },
  {
   "cell_type": "code",
   "execution_count": 52,
   "metadata": {},
   "outputs": [
    {
     "name": "stdout",
     "output_type": "stream",
     "text": [
      "HelloWorld\n"
     ]
    }
   ],
   "source": [
    "a = \"Hello\"\n",
    "b = \"World\"\n",
    "c = a + b\n",
    "print(c)"
   ]
  },
  {
   "cell_type": "markdown",
   "metadata": {},
   "source": [
    "# Méthodes de chaîne"
   ]
  },
  {
   "cell_type": "markdown",
   "metadata": {},
   "source": [
    "<table><thead><tr><td>\tMethod\t</td><td>\tDescription\t</td></tr></thead>\n",
    "    <tbody>\n",
    "<tr><td>\tcapitalize()\t</td><td>\tConvertit le premier caractère en majuscule\t</td></tr>\n",
    "<tr><td>\tcasefold()\t</td><td>\tConvertit la chaine en minuscule\t</td></tr>\n",
    "<tr><td>\tcenter()\t</td><td>\tRenvoie une chaîne centrée\t</td></tr>\n",
    "<tr><td>\tcount()\t</td><td>\tRenvoie le nombre de fois qu'une valeur spécifiée apparaît dans une chaîne\t</td></tr>\n",
    "<tr><td>\tencode()\t</td><td>\tRenvoie une version codée de la chaîne\t</td></tr>\n",
    "<tr><td>\tendswith()\t</td><td>\tRenvoie true si la chaîne se termine par la valeur spécifiée\t</td></tr>\n",
    "<tr><td>\texpandtabs()\t</td><td>\tDéfinit la taille de tabulation de la chaîne\t</td></tr>\n",
    "<tr><td>\tfind()\t</td><td>\tRecherche dans la chaîne une valeur spécifiée et retourne la position de l'endroit où elle a été trouvée\t</td></tr>\n",
    "<tr><td>\tformat()\t</td><td>\tFormate les valeurs spécifiées dans une chaîne\t</td></tr>\n",
    "<tr><td>\tformat_map()\t</td><td>\tFormate les valeurs spécifiées dans une chaîne\t</td></tr>\n",
    "<tr><td>\tindex()\t</td><td>\tRecherche dans la chaîne une valeur spécifiée et retourne la position de l'endroit où elle a été trouvée\t</td></tr>\n",
    "<tr><td>\tisalnum()\t</td><td>\tRenvoie True si tous les caractères de la chaîne sont alphanumériques\t</td></tr>\n",
    "<tr><td>\tisalpha()\t</td><td>\tRenvoie True si tous les caractères de la chaîne sont dans l'alphabet\t</td></tr>\n",
    "<tr><td>\tisdecimal()\t</td><td>\tRenvoie True si tous les caractères de la chaîne sont des décimales\t</td></tr>\n",
    "<tr><td>\tisdigit()\t</td><td>\tRenvoie True si tous les caractères de la chaîne sont des chiffres\t</td></tr>\n",
    "<tr><td>\tisidentifier()\t</td><td>\tRenvoie True si la chaîne est un identifiant\t</td></tr>\n",
    "<tr><td>\tislower()\t</td><td>\tRenvoie True si tous les caractères de la chaîne sont en minuscules\t</td></tr>\n",
    "<tr><td>\tisnumeric()\t</td><td>\tRenvoie True si tous les caractères de la chaîne sont numériques\t</td></tr>\n",
    "<tr><td>\tisprintable()\t</td><td>\tRenvoie True si tous les caractères de la chaîne sont imprimables\t</td></tr>\n",
    "<tr><td>\tisspace()\t</td><td>\tRenvoie True si tous les caractères de la chaîne sont des espaces\t</td></tr>\n",
    "<tr><td>\tistitle()\t</td><td>\tRenvoie True si la chaîne suit les règles d'un titre\t</td></tr>\n",
    "<tr><td>\tisupper()\t</td><td>\tRenvoie True si tous les caractères de la chaîne sont en majuscules\t</td></tr>\n",
    "<tr><td>\tjoin()\t</td><td>\tJoint les éléments d'un itérable à la fin de la chaîne\t</td></tr>\n",
    "<tr><td>\tljust()\t</td><td>\tRenvoie une version justifiée à gauche de la chaîne\t</td></tr>\n",
    "<tr><td>\tlower()\t</td><td>\tConvertit une chaîne en minuscules\t</td></tr>\n",
    "<tr><td>\tlstrip()\t</td><td>\tRenvoie une version ajustée à gauche de la chaîne\t</td></tr>\n",
    "<tr><td>\tmaketrans()\t</td><td>\tRenvoie une table de traduction à utiliser dans les traductions\t</td></tr>\n",
    "<tr><td>\tpartition()\t</td><td>\tRenvoie un tuple où la chaîne est divisée en trois parties\t</td></tr>\n",
    "<tr><td>\treplace()\t</td><td>\tRenvoie une chaîne dans laquelle une valeur spécifiée est remplacée par une valeur spécifiée\t</td></tr>\n",
    "<tr><td>\trfind()\t</td><td>\tRecherche dans la chaîne une valeur spécifiée et renvoie la dernière position de l'endroit où elle a été trouvée\t</td></tr>\n",
    "<tr><td>\trindex()\t</td><td>\tRecherche dans la chaîne une valeur spécifiée et renvoie la dernière position de l'endroit où elle a été trouvée\t</td></tr>\n",
    "<tr><td>\trjust()\t</td><td>\tRenvoie une version justifiée à droite de la chaîne\t</td></tr>\n",
    "<tr><td>\trpartition()\t</td><td>\tRenvoie un tuple où la chaîne est divisée en trois parties\t</td></tr>\n",
    "<tr><td>\trsplit()\t</td><td>\tDivise la chaîne au séparateur spécifié et renvoie une liste\t</td></tr>\n",
    "<tr><td>\trstrip()\t</td><td>\tRenvoie une version ajustée à droite de la chaîne\t</td></tr>\n",
    "<tr><td>\tsplit()\t</td><td>\tSplits the string au séparateur spécifié et renvoie une liste\t</td></tr>\n",
    "<tr><td>\tsplitlines()\t</td><td>\tDivise la chaîne aux sauts de ligne et renvoie une liste\t</td></tr>\n",
    "<tr><td>\tstartswith()\t</td><td>\tRenvoie true si la chaîne commence par la valeur spécifiée\t</td></tr>\n",
    "<tr><td>\tstrip()\t</td><td>\tRenvoie une version raccourcie de la chaîne\t</td></tr>\n",
    "<tr><td>\tswapcase()\t</td><td>\tSwaps cas, les minuscules deviennent majuscules et vice versa\t</td></tr>\n",
    "<tr><td>\ttitle()\t</td><td>\tConvertit le premier caractère de chaque mot en majuscules\t</td></tr>\n",
    "<tr><td>\ttranslate()\t</td><td>\tRenvoie une chaîne traduite\t</td></tr>\n",
    "<tr><td>\tupper()\t</td><td>\tConvertit une chaîne en majuscules\t</td></tr>\n",
    "<tr><td>\tzfill()\t</td><td>\tRemplit la chaîne avec un nombre spécifié de valeurs 0 au début\t</td></tr>\n",
    "</tbody>\n",
    "</table>\n"
   ]
  },
  {
   "cell_type": "markdown",
   "metadata": {},
   "source": [
    "# exercices:"
   ]
  },
  {
   "cell_type": "raw",
   "metadata": {},
   "source": [
    "Exercice 1: Étant donné une chaîne de longueur impaire supérieure à 7, renvoie une chaîne composée des trois caractères du milieu d'une chaîne donnée"
   ]
  },
  {
   "cell_type": "raw",
   "metadata": {},
   "source": [
    "Exercice 2: Étant donné 2 chaînes, s1 et s2, créez une nouvelle chaîne en ajoutant s2 au milieu de s1"
   ]
  },
  {
   "cell_type": "code",
   "execution_count": null,
   "metadata": {},
   "outputs": [],
   "source": [
    "Exercice 3: Organisez les chaînes de caractères de manière à ce que les lettres minuscules viennent en premier"
   ]
  },
  {
   "cell_type": "raw",
   "metadata": {},
   "source": [
    "Exercice 4: Étant donné deux chaînes, s1 et s2, créez une chaîne mixte\n",
    "Remarque : créez une troisième chaîne composée du premier caractère de s1 puis du dernier caractère de s2, Ensuite, du deuxième caractère de s1 et de l'avant-dernier caractère de s2, et ainsi de suite. Tous les caractères restants sont placés à la fin du résultat.\n"
   ]
  },
  {
   "cell_type": "raw",
   "metadata": {},
   "source": [
    "Exercice 5: Test d'équilibre des caractères de chaîne\n",
    "Nous dirons qu'une chaîne s1 et s2 est équilibrée si tous les caractères du s1 sont là dans s2 . la position des caractères n'a pas d'importance."
   ]
  },
  {
   "cell_type": "code",
   "execution_count": null,
   "metadata": {},
   "outputs": [],
   "source": [
    "Exercice 6: Comptez toutes les minuscules, majuscules, chiffres et symboles spéciaux d'une chaîne donnée"
   ]
  },
  {
   "cell_type": "raw",
   "metadata": {},
   "source": [
    "Exercice 7: Trouver toutes les occurrences de «USA» dans une chaîne donnée en ignorant la casse"
   ]
  }
 ],
 "metadata": {
  "kernelspec": {
   "display_name": "Python 3",
   "language": "python",
   "name": "python3"
  },
  "language_info": {
   "codemirror_mode": {
    "name": "ipython",
    "version": 3
   },
   "file_extension": ".py",
   "mimetype": "text/x-python",
   "name": "python",
   "nbconvert_exporter": "python",
   "pygments_lexer": "ipython3",
   "version": "3.8.3"
  }
 },
 "nbformat": 4,
 "nbformat_minor": 4
}
