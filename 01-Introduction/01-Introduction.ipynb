{
 "cells": [
  {
   "cell_type": "markdown",
   "metadata": {},
   "source": [
    "# INTRODUCTION"
   ]
  },
  {
   "cell_type": "markdown",
   "metadata": {},
   "source": [
    "Un ordinateur est une machine dont la fonction principale est de traiter des données, c’est-à-dire d’exécuter des séries d’instructions pour effectuer différentes tâches.\n",
    "\n",
    "En tant que développeurs, nous allons vouloir fournir nos séries d’instructions aux ordinateurs afin qu’ils exécutent certaines tâches précises dans un certain ordre.\n",
    "\n",
    "\n",
    " \n",
    "Pour cela, il va falloir que l’ordinateur nous comprenne et il va donc falloir qu’on exprime nos instructions dans un langage qu’il comprend. Le souci, ici, est que les ordinateurs ne comprennent qu’un seul langage : le binaire ou “langage machine” qui est très opaque pour nous (les Humains) et très long à écrire.\n",
    "\n",
    "Pour pallier à ce problème, certaines personnes ont créé ce qu’on appelle des langages de programmation. Le but premier de tout langage de programmation est de passer des instructions à l’ordinateur.\n",
    "\n",
    "Schématiquement, on utilise des langages de programmation car il est plus facile de nous exprimer et d’expliciter nos séries d’instruction en suivant leurs conventions d’écriture plutôt que de passer nos instructions directement en binaire à l’ordinateur.\n",
    "\n",
    "Le langage de programmation se charge de la conversion : il reçoit nos instructions et les transforme en binaire pour les passer à l’ordinateur afin que celui-ci les exécute.\n",
    "\n",
    "Tous les langages de programmation ne sont pourtant pas égaux : certains sont plus facilement compréhensibles pour nous que d’autres et certains nous permettent de transmettre uniquement certaines instructions à l’ordinateur.\n",
    "\n",
    "Python est un langage de programmation dit de “très haut niveau”. Cela signifie qu’il possède un haut niveau d’abstraction par rapport au langage machine. Pour le dire très simplement : plus un langage de programmation est de “haut niveau”, plus sa syntaxe se rapproche de notre langage (l’anglais) plutôt que du langage machine. Un langage de haut niveau est donc plus facile à comprendre et à utiliser qu’un langage de plus bas niveau."
   ]
  },
  {
   "cell_type": "markdown",
   "metadata": {},
   "source": [
    "## Algorithme"
   ]
  },
  {
   "cell_type": "markdown",
   "metadata": {},
   "source": [
    "Un algorithme est une suite finie et non ambiguë d’opérations ou d'instructions permettant de résoudre de problèmes.\n",
    "Le mot algorithme vient du nom d'un mathématicien perse du ixe siècle, Al-Khwârizmî (en arabe : الخوارزمي).\n",
    "Le domaine qui étudie les algorithmes est appelé l'algorithmique. \n",
    "bref: un algorithme est le programme écrit en language humain"
   ]
  },
  {
   "cell_type": "markdown",
   "metadata": {},
   "source": [
    "### Exemple"
   ]
  },
  {
   "cell_type": "raw",
   "metadata": {},
   "source": [
    "0)debut solution\n",
    "1)Ecrire(\"donner un nombre\")\n",
    "2)lire(x)\n",
    "3)carre <-- x*x\n",
    "4)afficher(carre)\n",
    "5)fin solution"
   ]
  },
  {
   "cell_type": "markdown",
   "metadata": {},
   "source": [
    "## Programme "
   ]
  },
  {
   "cell_type": "markdown",
   "metadata": {},
   "source": [
    "Un programme est une représentation en mémoire d'une suite d'instructions exécutables par une unité de traitement logique (processeur). Il s'agit de l'écriture, dans un langage de programmation pour qu'il puisse être interprété par la machine"
   ]
  },
  {
   "cell_type": "markdown",
   "metadata": {},
   "source": [
    "### Exemple"
   ]
  },
  {
   "cell_type": "code",
   "execution_count": 4,
   "metadata": {},
   "outputs": [
    {
     "name": "stdin",
     "output_type": "stream",
     "text": [
      "donner un nombre 3\n"
     ]
    },
    {
     "name": "stdout",
     "output_type": "stream",
     "text": [
      "9\n"
     ]
    }
   ],
   "source": [
    "x=int(input(\"donner un nombre\"))\n",
    "carre=x*x\n",
    "print(carre)"
   ]
  }
 ],
 "metadata": {
  "kernelspec": {
   "display_name": "Python 3",
   "language": "python",
   "name": "python3"
  },
  "language_info": {
   "codemirror_mode": {
    "name": "ipython",
    "version": 3
   },
   "file_extension": ".py",
   "mimetype": "text/x-python",
   "name": "python",
   "nbconvert_exporter": "python",
   "pygments_lexer": "ipython3",
   "version": "3.8.3"
  }
 },
 "nbformat": 4,
 "nbformat_minor": 4
}
