{
 "cells": [
  {
   "cell_type": "markdown",
   "metadata": {},
   "source": [
    "# L’environnement de travail Python"
   ]
  },
  {
   "cell_type": "markdown",
   "metadata": {},
   "source": [
    "Dans cette leçon, nous mettons en place notre environnement de travail en nous équipant des logiciels nécessaires pour pouvoir développer en Python."
   ]
  },
  {
   "cell_type": "markdown",
   "metadata": {},
   "source": [
    "## Coder en Python : simple et gratuit"
   ]
  },
  {
   "cell_type": "markdown",
   "metadata": {},
   "source": [
    "Python est un langage Open Source. Cela signifie que ses sources et son interpréteur sont disponibles au public et donc que n’importe qui peut commencer à développer ses propres programmes Python gratuitement.\n",
    "\n",
    "Pour coder en Python, un seul programme va être strictement obligatoire : <strong>l’interpréteur Python</strong> qui va pouvoir être utilisé de manière dynamique et nous afficher les résultats de nos codes immédiatement.\n",
    "\n",
    "En pratique, cependant, nous voudrons souvent enregistrer nos différents scripts dans des fichiers plutôt que d’écrire des séries d’instructions à exécuter immédiatement. Pour cela, nous avoir besoin d’un éditeur de texte ou d’un IDE (Environnement de Travail Intégré)."
   ]
  },
  {
   "cell_type": "markdown",
   "metadata": {},
   "source": [
    "## L’interpréteur Python"
   ]
  },
  {
   "cell_type": "markdown",
   "metadata": {},
   "source": [
    "Python est un langage interprété, ce qui signifie qu’on va avoir besoin d’un programme nommé interpréteur pour convertir nos instructions Python en un langage compréhensible par notre ordinateur.\n",
    "\n",
    "L’interpréteur Python est disponible en téléchargement gratuit sur le site officiel du langage, dans la rubrique téléchargement : https://www.python.org/downloads/.\n",
    "\n",
    "\n",
    " \n",
    "Sur cette page, commencez par télécharger la dernière version stable de Python qui correspond à votre système. L’interpréteur sera parmi les fichiers téléchargés.\n",
    "\n",
    "\n",
    "Une fois que vous avez téléchargé la ressource Python disponible sur le site officiel, ouvrez la en double cliquant dessus. Un processus d’installation démarre. Si vous êtes sur Windows, cochez la case “Ajouter Python 3.x au PATH”. Suivez ensuite le processus d’installation comme pour n’importe quel autre logiciel.\n",
    "\n",
    "Vous venez d’installer l’interpréteur Python ainsi que d’autres ressources pour vous aider dans vos développements Python, notamment IDLE et Python Launcher si vous utilisez un Mac.\n",
    "\n",
    "IDLE est un environnement de développement intégré spécialement pour Python qui nous permet d’exécuter directement du code Python. Python Launcher permet lui d’exécuter du code Python créé dans des fichiers séparés .py en double cliquant simplement sur ces fichiers. Ces deux logiciels sont extrêmement puissants et pratiques.\n",
    "\n",
    "\n",
    " \n",
    "Pour exécuter nos scripts Python, il va falloir les passer à l’interpréteur. Pour cela, nous allons utiliser l’invite de commande (Windows) ou le terminal (Mac).\n",
    "\n",
    "L’invite de commande se trouve dans le menu Démarrer de Windows sous le nom cmd. Le terminal se trouve dans le dossier Applications, puis Utilitaire de Mac. Dès que vous trouvez l’invite de commande ou le terminal, ouvrez le. Une fenêtre noire devrait apparaitre.\n",
    "\n",
    "Une fois que vous êtes dans l’invite de commande ou dans le terminal, commencez par vérifier que l’interpréteur Python a bien été installé. Pour cela, tapez la commande python -V (avec un V majuscule) et pressez la touche Entrée. Si vous êtes sur Mac, Python 2.7 devrait déjà être installé et sera probablement la version renvoyée. Tapez plutôt la commande python3 -V. La version de l’interpréteur Python installée devrait vous être renvoyée.\n",
    "\n",
    "Pour appeler l’interpréteur, tapez simplement python3 (ou python3.7 dans le cas où il y aurait une ambiguïté) (Mac) ou python (Windows). Si la version de l’interpréteur vous est renvoyée ce que vous voyez un triple chevron <strong> >>> </strong>, c’est gagné ! Ce triple chevron est le moyen pour l’interpréteur de nous dire “je suis prêt à recevoir la prochaine instruction”."
   ]
  },
  {
   "cell_type": "markdown",
   "metadata": {},
   "source": [
    "<img src=\"../assets/img/imag1.PNG\">"
   ]
  },
  {
   "cell_type": "markdown",
   "metadata": {},
   "source": [
    "A partir de là, nous avons deux options : on va pouvoir soit directement écrire nos instructions Python dans l’invite de commande ou dans le terminal pour les exécuter immédiatement, soit créer des fichiers de script Python avec l’extension .py avec un éditeur de texte et les passer ensuite à l’interpréteur.b\n",
    "\n",
    "Ecrire son code directement dans l’invite de commande / le terminal est très pratique pour tester rapidement un code. Cependant, en conditions “réelles”, c’est-à-dire lorsque vous devrez créer de vrais programmes contenant potentiellement plusieurs scripts ou lorsque vous voudrez distribuer votre code, vous stockerez vos instructions dans des fichiers .py que vous allez créer avec un éditeur de texte ou un IDE."
   ]
  },
  {
   "cell_type": "markdown",
   "metadata": {},
   "source": [
    "##  L’éditeur de texte"
   ]
  },
  {
   "cell_type": "markdown",
   "metadata": {},
   "source": [
    "Un éditeur de texte nous permet tout simplement d’écrire des lignes de code et d’enregistrer nos fichiers au bon format.\n",
    "\n",
    "Il existe des centaines d’éditeur prêt à télécharger sur le Web et la majorité d’entre eux sont gratuits. Je n’ai pas de conseil spécifique à vous donner quant au choix de votre éditeur de texte : essayez simplement d’en trouver un avec lequel vous êtes à l’aise et si possible installez plutôt un IDE (Environnement de Travail Intégré) qu’un simple éditeur.\n",
    "\n",
    "Les IDE disposent de fonctionnalités supplémentaires comme des mécanismes d’auto-complétion du code ou encore de systèmes de détection des erreurs de syntaxe dans un code et de proposition de modification.\n",
    "\n",
    "Pour ma part, dans ce cours, j’utiliserai l’IDE <strong>Visual Studio Code</strong> de Microsoft mais vous pouvez utiliser <strong>Brackets</strong>, <strong>Atom</strong>, <strong>Sublime Text</strong> ou encore <strong>Komodo</strong> si vous préférez.\n",
    "\n",
    "Notez par ailleurs qu’il existe certains éditeurs spécialement conçus pour écrire du code Python dont le célèbre <strong>PyCharm</strong> notamment."
   ]
  }
 ],
 "metadata": {
  "kernelspec": {
   "display_name": "Python 3",
   "language": "python",
   "name": "python3"
  },
  "language_info": {
   "codemirror_mode": {
    "name": "ipython",
    "version": 3
   },
   "file_extension": ".py",
   "mimetype": "text/x-python",
   "name": "python",
   "nbconvert_exporter": "python",
   "pygments_lexer": "ipython3",
   "version": "3.8.3"
  }
 },
 "nbformat": 4,
 "nbformat_minor": 4
}
