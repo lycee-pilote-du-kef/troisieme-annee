{
 "cells": [
  {
   "cell_type": "markdown",
   "metadata": {},
   "source": [
    "# Syntaxe de base et exécution d’instructions Python"
   ]
  },
  {
   "cell_type": "markdown",
   "metadata": {},
   "source": [
    "Dans cette leçon, nous allons découvrir quelques éléments de syntaxe de base de Python. Nous allons également exécuter nos première instructions Python en utilisant l’interpréteur de manière interactive ou en créant un fichier Python qu’on va ensuite passer à l’interpréteur."
   ]
  },
  {
   "cell_type": "markdown",
   "metadata": {},
   "source": [
    "## Créer un fichier Python"
   ]
  },
  {
   "cell_type": "markdown",
   "metadata": {},
   "source": [
    "Nous avons deux choix pour exécuter du code Python : on peut soit écrire directement notre code dans l’invite de commande (Windows) ou dans le terminal (Mac) afin que l’interpréteur Python interprète directement notre code et nous renvoie son résultat ou on peut créer des fichiers Python avec un ensemble d’instructions à l’intérieur et qu’on va ensuite passer à l’interpréteur.\n",
    "\n",
    "L’intérêt principal d’un fichier est qu’il peut être sauvegardé et distribué. En conditions réelles, vous utiliserez donc souvent votre éditeur de texte et créerez des fichiers Python pour mener à bien des projets.\n",
    "\n",
    "\n",
    " \n",
    "Dans ce cours, j’écrirai directement dans mon terminal pour vous montrer les résultats d’instructions simples et nous ne créerons des fichiers que lorsque cela sera nécessaire. Cependant, pour cette première leçon concrète, je voulais tout de même vous montrer comment créer un fichier Python et comment exécuter ce fichier.\n",
    "\n",
    "Pour créer un fichier Python, nous allons déjà ouvrir notre éditeur de texte, allons ouvrir un nouveau fichier et enregistrer ce fichier en lui donnant une extension .py. On peut appeler ce fichier cours.py par exemple et l’enregistrer dans un dossier Python sur notre bureau.\n",
    "\n",
    "Ici, on commence par enregistrer notre fichier au format Python avant même d’écrire un quelconque code car cela va permettre à notre éditeur de reconnaitre le type de code qu’on souhaite écrire et de nous proposer des fonctionnalités relatives à cela. Par ailleurs, il est possible que votre éditeur vous propose d’installer des extensions spécifiques Python pour faciliter l’écriture, l’affichage et le debugging de votre code. Si c’est le cas, n’hésitez pas à les installer.\n",
    "\n",
    "Ensuite, ajoutez les lignes de code suivantes dans votre fichier (nous allons expliquer par la suite ce qu’elles signifient) :"
   ]
  },
  {
   "cell_type": "markdown",
   "metadata": {},
   "source": [
    "<img src=\"../assets/img/imag2.PNG\">"
   ]
  },
  {
   "cell_type": "markdown",
   "metadata": {},
   "source": [
    "## Exécuter un fichier Python"
   ]
  },
  {
   "cell_type": "markdown",
   "metadata": {},
   "source": [
    "Pour exécuter un fichier Python et obtenir le résultat des opérations faites dans ce fichier, commencez déjà par ouvrir votre invite de commande ou votre terminal.\n",
    "\n",
    "Ici, si vous avez bien ajouté Python au PATH, vous n’avez qu’à taper cours.py pour exécuter le code du fichier “cours.py”. Si votre système possède plusieurs versions de Python, comme c’est le cas sur Mac, il faudra préciser la version utilisée : on tapera alors python3 cours.py.\n",
    "\n",
    "\n",
    " \n",
    "Si Python n’a pas été ajouté au PATH, il va falloir préciser où le fichier se trouve. Pour cela, on va commencer par taper la commande cd Desktop. La commande cd signifie “change directory” (“changer de dossier”).\n",
    "\n",
    "Ensuite, on n’a plus qu’à préciser l’emplacement de notre fichier par rapport à notre bureau (Desktop), c’est à dire dans notre cas Python/cours.py (Mac) ou Python\\cours.py (Windows) pour exécuter notre fichier, en précisant éventuellement également une version si plusieurs versions sont installées sur notre système (python3 Python/cours.py pour Mac)."
   ]
  },
  {
   "cell_type": "markdown",
   "metadata": {},
   "source": [
    "<img src=\"../assets/img/imag3.PNG\">"
   ]
  },
  {
   "cell_type": "markdown",
   "metadata": {},
   "source": [
    "## Exécuter du Python en tapant directement dans l’invite de commande ou le terminal"
   ]
  },
  {
   "cell_type": "markdown",
   "metadata": {},
   "source": [
    "L’interpréteur Python peut être utilisé de manière interactive, c’est-à-dire qu’on va pouvoir directement lui fournir du code Python à exécuter et il nous renverra les résultats immédiatement.\n",
    "\n",
    "Cette fonctionnalité est très utile lorsqu’on souhaite tester rapidement des bouts de code ou pour l’apprentissage.\n",
    "\n",
    "\n",
    " \n",
    "Pour utiliser l’interpréteur Python de cette manière, on va déjà devoir l’appeler depuis l’invite de commande ou le terminal. Pour cela, on écrit la commande Python3.7 et on presse Entrée pour valider.\n",
    "\n",
    "Ensuite, on a plus qu’à écrire nos différentes instructions et à presser Entrée afin que l’interpréteur les interprète immédiatement."
   ]
  },
  {
   "cell_type": "markdown",
   "metadata": {},
   "source": [
    "<img src=\"../assets/img/imag3.PNG\">"
   ]
  },
  {
   "cell_type": "markdown",
   "metadata": {},
   "source": [
    "## Syntaxe de base de Python : indentation, commentaires et print()"
   ]
  },
  {
   "cell_type": "markdown",
   "metadata": {},
   "source": [
    "Chaque langage informatique est basé sur une série de règles et de conventions. La syntaxe d’un langage définit ses différents éléments et la façon dont on va pouvoir et devoir les utiliser.\n",
    "\n",
    "J’aimerais pour le moment m’arrêter sur deux éléments de syntaxe de base que sont les commentaires et l’indentation ainsi que sur la fonction print()."
   ]
  },
  {
   "cell_type": "markdown",
   "metadata": {},
   "source": [
    "### Les commentaires Python"
   ]
  },
  {
   "cell_type": "markdown",
   "metadata": {},
   "source": [
    "Les commentaires sont des éléments de langage qu’on retrouve dans de nombreux langages de programmation.\n",
    "\n",
    "Les commentaires servent à “commenter” le code : ils vont être ignorés lors de l’exécution du code (ils n’auront aucun impact sur le script) et vont donc être totalement transparents pour l’utilisateur final.\n",
    "\n",
    "On utilise généralement les commentaires pour documenter un code (pour soi ou pour d’autres développeurs si le code a vocation à être distribué) ou pour empêcher son exécution. En Python, on utilise le signe # pour écrire un commentaire dans notre code.\n",
    "\n",
    "Python n’a pas de syntaxe particulière pour écrire des commentaires multi-lignes. Pour écrire un commentaire sur plusieurs lignes, on insérera un # au début de chaque ligne."
   ]
  },
  {
   "cell_type": "markdown",
   "metadata": {},
   "source": [
    "### L’indentation Python"
   ]
  },
  {
   "cell_type": "markdown",
   "metadata": {},
   "source": [
    "L’indentation correspond au fait de créer des retraits au niveau de certaines lignes de code. Dans la grande majorité des langages, l’indentation n’a qu’une visée esthétique : elle permet à un script d’être plus lisible pour un développeur.\n",
    "\n",
    "Généralement, une bonne indentation est censée représenter les dépendances au sein d’un code : on ajoutera un retrait à chaque fois qu’une instruction est incluse / dépend d’une autre.\n",
    "\n",
    "\n",
    " \n",
    "En Python, l’indentation a un tout autre rôle : elle est utilisée par Python pour définir des blocs de code, c’est-à-dire pour indiquer à l’interpréteur quelle instruction appartient à quelle autre.\n",
    "\n",
    "Si on indente mal notre code Python, celui-ci ne s’exécutera tout simplement pas et Python renverra une erreur. Pas de panique, nous allons apprendre au cours de ce cours à quelle moment indenter. Cela est cependant relativement évident et ne devrait pas vous poser de problème : dès qu’il y a une relation de dépendance, il faudra ajouter un retrait (une fabulation).\n",
    "\n",
    "Dans le code ci-dessus, par exemple, nous avons utilisé une structure conditionnelle if. Le principe de cette structure est simple : on lui fournit un test et SI le test est validé, alors on exécute un code. Le code à exécuter dépend du résultat du test; on effectuera donc un retrait pour mentionner ce code afin que Python puisse bien s’apercevoir qu’il dépend de la structure conditionnelle.\n",
    "\n",
    "Si vous avez l’habitude d’autres langages de programmation comme le PHP par exemple cela peut être un peu déconcertant au départ. Vous pouvez alors considérer que l’indentation remplace l’usage des accolades."
   ]
  },
  {
   "cell_type": "markdown",
   "metadata": {},
   "source": [
    "### La fonction print()"
   ]
  },
  {
   "cell_type": "markdown",
   "metadata": {},
   "source": [
    "Les fonctions sont d’autres éléments de langage que nous étudierons plus tard. Grosso-modo, une fonction est définie par un nom et une série d’instructions. Lorsqu’on appelle une fonction (en utilisant son nom et un couple de parenthèses juste derrière), elle exécute toutes les instructions qu’elle contient. Les fonctions servent généralement à effectuer une action précise qui peut être plus ou moins complexe.\n",
    "\n",
    "La fonction print() permet tout simplement d’afficher le message qu’on va lui passer entre ses parenthèses. A première vue, la fonction print() ne parait pas très utile, et c’est pourtant l’une des fonctions qu’on utilisera le plus.\n",
    "\n",
    "En effet, cette fonction va être très précieuse puisqu’elle va également nous permettre d’afficher des résultats auquel on n’a pas directement accès. Nous illustrerons cela dans la suite de ce cours; faites moi confiance pour le moment."
   ]
  }
 ],
 "metadata": {
  "kernelspec": {
   "display_name": "Python 3",
   "language": "python",
   "name": "python3"
  },
  "language_info": {
   "codemirror_mode": {
    "name": "ipython",
    "version": 3
   },
   "file_extension": ".py",
   "mimetype": "text/x-python",
   "name": "python",
   "nbconvert_exporter": "python",
   "pygments_lexer": "ipython3",
   "version": "3.8.3"
  }
 },
 "nbformat": 4,
 "nbformat_minor": 4
}
