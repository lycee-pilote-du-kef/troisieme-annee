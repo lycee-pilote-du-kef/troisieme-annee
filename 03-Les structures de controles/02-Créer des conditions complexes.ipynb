{
 "cells": [
  {
   "cell_type": "markdown",
   "metadata": {},
   "source": [
    "# Créer des conditions complexes"
   ]
  },
  {
   "cell_type": "markdown",
   "metadata": {},
   "source": [
    "Dans cette nouvelle leçon, nous allons aller plus loin avec les conditions est voir comment créer des conditions complexes en utilisant notamment les opérateurs logiques et les opérations d’appartenance."
   ]
  },
  {
   "cell_type": "markdown",
   "metadata": {},
   "source": [
    "## Imbriquer des conditions"
   ]
  },
  {
   "cell_type": "markdown",
   "metadata": {},
   "source": [
    "Souvent, nous allons vouloir comparer plusieurs valeurs au sein d’une même condition, c’est-à-dire n’exécuter son code que si plusieurs conditions sont vérifiées.\n",
    "\n",
    "Pour faire cela, nous allons pouvoir soit utiliser plusieurs opérateurs de comparaison, soit les opérateurs logiques, soit imbriquer plusieurs conditions les unes dans les autres.\n",
    "\n",
    "Les opérateurs logiques vont nous permettre de créer des conditions plus puissantes mais dans certains cas il sera plus intéressant et plus rapide d’imbriquer des conditions."
   ]
  },
  {
   "cell_type": "markdown",
   "metadata": {},
   "source": [
    "#### En Algorithme"
   ]
  },
  {
   "cell_type": "raw",
   "metadata": {},
   "source": [
    "Algorithme test\n",
    "DEBUT\n",
    "x <-- 1\n",
    "y <-- 2\n",
    "Si x < 5 Alors\n",
    "    Si y < 10 Alors\n",
    "        Afficher(\"x contient une valeur inférieure à 5 et y une valeur inférieure à 10\")\n",
    "    sinon:\n",
    "         Afficher(\"x contient une valeur < 5 et y une valeur >= 10\")\n",
    "    Fin Si\n",
    "Fin Si\n",
    "FIN"
   ]
  },
  {
   "cell_type": "markdown",
   "metadata": {},
   "source": [
    "#### En Python"
   ]
  },
  {
   "cell_type": "code",
   "execution_count": 1,
   "metadata": {},
   "outputs": [
    {
     "name": "stdout",
     "output_type": "stream",
     "text": [
      "x contient une valeur inférieure à 5 et y une valeur inférieure à 10\n"
     ]
    }
   ],
   "source": [
    "x, y = 1, 2\n",
    "if x < 5:\n",
    "    if y < 10:\n",
    "        print(\"x contient une valeur inférieure à 5 et y une valeur inférieure à 10\")\n",
    "    else:\n",
    "         print(\"x contient une valeur < 5 et y une valeur >= 10\")"
   ]
  },
  {
   "cell_type": "markdown",
   "metadata": {},
   "source": [
    "Dans cet exemple, on imbrique deux structures <strong>Si ... Sinon</strong> l’une dans l’autre. La première structure demande de tester si notre variable x contient un nombre strictement inférieur à 5. Si c’est le cas, on rentre dans le  <strong>Si</strong> et on teste donc la condition du deuxième <strong>Si</strong>. Dans le cas contraire, on va directement au <strong>Sinon</strong> de fin.\n",
    "\n",
    "Notre deuxième condition teste si y contient une valeur strictement inférieure à 10. Si c’est le cas, on exécute le code dans la condition. Sinon, on va directement au <strong>Sinon</strong> de cette condition imbriquée."
   ]
  },
  {
   "cell_type": "markdown",
   "metadata": {},
   "source": [
    "## Utiliser les opérateurs logiques avec les conditions"
   ]
  },
  {
   "cell_type": "markdown",
   "metadata": {},
   "source": [
    "Les opérateurs logiques vont être principalement utilisés avec les conditions puisqu’ils vont nous permettre d’écrire plusieurs comparaisons au sein d’une même condition ou encore d’inverser la valeur logique d’un test."
   ]
  },
  {
   "cell_type": "markdown",
   "metadata": {},
   "source": [
    "<table>\n",
    "<tr><td>Opérateur en Algorithme</td><td>Opérateur en Python</td><td>\tDéfinition</td></tr>\n",
    "<tr><td>ET</td><td>and</td><td>Renvoie Vrai si toutes les deux expressions sont évaluées à Vrai</td></tr>\n",
    "<tr><td>OU</td><td>or</td><td>Renvoie Vrai si une des comparaisons vaut Vrai</td></tr>\n",
    "<tr><td>NON</td><td>not</td><td>Renvoie Vrai si la comparaison vaut Faux (et inversement)</td></tr>\n",
    "</table>"
   ]
  },
  {
   "cell_type": "markdown",
   "metadata": {},
   "source": [
    "Les opérateurs logiques ET et OU vont nous permettre de passer plusieurs tests pour évaluation. On va par exemple pour tester si une variable x contient une valeur inférieure à 5 et / ou si y contient une valeur inférieure à 10 au sein d’une même condition.\n",
    "\n",
    "Dans le cas où on utilise ET, chaque expression devra être évaluée à Vrai pour que le code dans la condition soit exécuté."
   ]
  },
  {
   "cell_type": "markdown",
   "metadata": {},
   "source": [
    "#### En Algorithme"
   ]
  },
  {
   "cell_type": "raw",
   "metadata": {},
   "source": [
    "Algorithme test\n",
    "DEBUT\n",
    "x <-- 1\n",
    "y <-- 5\n",
    "Si x < 5 ET y < 10 Alors\n",
    "    Afficher(\"x contient une valeur inférieure à 5 et y une valeure inférieure à 10\")\n",
    "Fin Si\n",
    "FIN"
   ]
  },
  {
   "cell_type": "markdown",
   "metadata": {},
   "source": [
    "#### En Python"
   ]
  },
  {
   "cell_type": "code",
   "execution_count": 2,
   "metadata": {},
   "outputs": [
    {
     "name": "stdout",
     "output_type": "stream",
     "text": [
      "x contient une valeur inférieure à 5 et y une valeure inférieure à 10\n"
     ]
    }
   ],
   "source": [
    "x, y = 1, 5\n",
    "if x < 5 and y < 10:\n",
    "    print(\"x contient une valeur inférieure à 5 et y une valeure inférieure à 10\")"
   ]
  },
  {
   "cell_type": "markdown",
   "metadata": {},
   "source": [
    "Ici, vous pouvez noter que Python a l’inverse de la plupart des autres langages possède une syntaxe très logique et très intuitive qui va nous permettre d’effectuer plusieurs tests dans une condition “comme si” on utilisait un opérateur logique and en utilisant tout simplement plusieurs opérateurs de comparaison à la suite.\n",
    "\n",
    "Je vous recommande cependant plutôt d’utiliser des opérateurs logiques dans cette situation afin de rendre votre code plus clair.\n",
    "\n",
    "Finalement, l’opérateur logique not est très particulier puisqu’il nous permet d’inverser la valeur logique d’un test : si Python renvoie False à l’issue d’une évaluation par exemple et qu’on utilise l’opérateur not sur cette expression l’opérateur inversera la valeur renvoyée par Python et la valeur finale passée à la condition sera True."
   ]
  },
  {
   "cell_type": "code",
   "execution_count": 4,
   "metadata": {},
   "outputs": [
    {
     "name": "stdout",
     "output_type": "stream",
     "text": [
      "x contient une valeur stric. inférieure à 5\n"
     ]
    }
   ],
   "source": [
    "x, y = 1, 5\n",
    "if not x >= 5:\n",
    "    print(\"x contient une valeur stric. inférieure à 5\")\n",
    "else:\n",
    "    print(\"x contient une valeur supérieure ou égale à 5\")"
   ]
  },
  {
   "cell_type": "markdown",
   "metadata": {},
   "source": [
    "## Présentation des opérateurs d’appartenance ou d’adhésion"
   ]
  },
  {
   "cell_type": "markdown",
   "metadata": {},
   "source": [
    "On met à la disposition deux opérateurs d’appartenant qui vont nous permettre de tester si une certaine séquence de caractères ou de valeurs est présente ou pas dans une valeur d’origine.\n",
    "\n",
    "Ces opérateurs ne vont fonctionner qu’avec des séquences (chaines de caractères, listes, etc.) et ne vont donc pas marcher avec des valeurs de type numérique par exemple.\n",
    "\n",
    "L’opérateur <strong>Dans</strong> permet de tester si une certaine séquence de caractères ou de valeurs est présente dans une valeur d’origine et renvoie Vrai si c’est le cas."
   ]
  },
  {
   "cell_type": "markdown",
   "metadata": {},
   "source": [
    "#### En Algorithme"
   ]
  },
  {
   "cell_type": "code",
   "execution_count": 5,
   "metadata": {},
   "outputs": [
    {
     "name": "stdout",
     "output_type": "stream",
     "text": [
      "Pierre est dans la liste\n"
     ]
    }
   ],
   "source": [
    "Algorithme test\n",
    "DEBUT\n",
    "prenoms = [\"Pierre\", \"Mathilde\", \"Florian\", \"Thomas\"]\n",
    "Si \"Pierre\" in prenoms Alors\n",
    "    Afficher(\"Pierre est dans la liste\")\n",
    "Fin Si\n",
    "FIN"
   ]
  },
  {
   "cell_type": "markdown",
   "metadata": {},
   "source": [
    "#### En Python"
   ]
  },
  {
   "cell_type": "code",
   "execution_count": 5,
   "metadata": {},
   "outputs": [
    {
     "name": "stdout",
     "output_type": "stream",
     "text": [
      "Pierre est dans la liste\n"
     ]
    }
   ],
   "source": [
    "prenoms = [\"Pierre\", \"Mathilde\", \"Florian\", \"Thomas\"]\n",
    "if \"Pierre\" in prenoms:\n",
    "    print(\"Pierre est dans la liste\")"
   ]
  },
  {
   "cell_type": "markdown",
   "metadata": {},
   "source": [
    "L’opérateur <strong>not in</strong> permet au contraire de tester si une certaine séquence de caractères ou de valeurs n’est pas présente dans une valeur d’origine et renvoie Vrai si c’est le cas."
   ]
  },
  {
   "cell_type": "code",
   "execution_count": 6,
   "metadata": {},
   "outputs": [
    {
     "name": "stdout",
     "output_type": "stream",
     "text": [
      "Personne n'a 31 ans\n"
     ]
    }
   ],
   "source": [
    "ages = [29, 27, 30, 29]\n",
    "if 31 not in ages:\n",
    "    print(\"Personne n'a 31 ans\")"
   ]
  },
  {
   "cell_type": "markdown",
   "metadata": {},
   "source": [
    "Comme des valeurs booléennes sont renvoyées, on va tout à fait pouvoir utiliser ce type d’opérateurs au sein de nos conditions même si ils sont communément plus utilisés au sein de boucles qu’on étudiera dans la prochaine leçon."
   ]
  },
  {
   "cell_type": "markdown",
   "metadata": {},
   "source": [
    "## Un point sur l’ordre de priorité des opérateurs"
   ]
  },
  {
   "cell_type": "markdown",
   "metadata": {},
   "source": [
    "Dans les exemples précédents, nous avons utilisé plusieurs opérateurs différents dans nos conditions : des opérateurs de comparaisons divers, des opérateurs logiques, etc.\n",
    "\n",
    "Rien ne nous empêche à priori de rajouter des opérateurs arithmétiques et d’utiliser plusieurs opérateurs logiques dans ces mêmes conditions.\n",
    "\n",
    "\n",
    " \n",
    "A partir de là, cependant, il faut commencer à être très rigoureux pour obtenir des résultats conformes à nos attentes et il va notamment falloir bien connaitre l’ordre de priorité d’application des différents opérateurs.\n",
    "\n",
    "Ci-dessous, vous pourrez trouver l’ordre de traitement de chaque opérateur (classés du plus prioritaire au moins prioritaire). Certains nous sont encore inconnus, je vous demande de ne pas vous en préoccuper pour le moment."
   ]
  },
  {
   "cell_type": "markdown",
   "metadata": {},
   "source": [
    "<table>\n",
    "    <tr><td>Opérateur</td><td>Description</td></tr>\n",
    "<tr><td>()</td><td>Opérateur de groupement</td></tr></td></tr>\n",
    "<tr><td>**</td><td>Elévation à la puissance</td></tr>\n",
    "<tr><td>~</td><td>Opérateur d’inversion de bit</td></tr>\n",
    "<tr><td>*, /, %</td><td>Opérateurs arithmétiques multiplication, division et modulo</td></tr>\n",
    "<tr><td>&lt;&lt;, >></td><td>Décalage de bits à gauche ou à droite</td></tr>\n",
    "<tr><td>&amp;</td><td>Définit chaque bit à 1 si les deux bits valent 1</td></tr>\n",
    "<tr><td>^</td><td>Définit chaque bit à 1 si seulement l’un des deux bits vaut 1</td></tr>\n",
    "<tr><td>|</td><td>Définit chaque bit à 1 si au moins l’un des deux bits vaut 1</td></tr>\n",
    "<tr><td>==, !=, &lt;, &lt;=, &gt;, &gt;=, in, not in, is, is not</td><td>Opérateurs de comparaison, d’appartenance et d’identité</td></tr>\n",
    "<tr><td>not</td><td>Opérateur logique (booléen) inverse ou “non”</td></tr>\n",
    "<tr><td>and</td><td>Opérateur logique (booléen) “et”</td></tr>\n",
    "<tr><td>or</td><td>Opérateur logique (booléen) “ou”</td></tr>\n",
    "</table>"
   ]
  }
 ],
 "metadata": {
  "kernelspec": {
   "display_name": "Python 3",
   "language": "python",
   "name": "python3"
  },
  "language_info": {
   "codemirror_mode": {
    "name": "ipython",
    "version": 3
   },
   "file_extension": ".py",
   "mimetype": "text/x-python",
   "name": "python",
   "nbconvert_exporter": "python",
   "pygments_lexer": "ipython3",
   "version": "3.8.3"
  }
 },
 "nbformat": 4,
 "nbformat_minor": 4
}
