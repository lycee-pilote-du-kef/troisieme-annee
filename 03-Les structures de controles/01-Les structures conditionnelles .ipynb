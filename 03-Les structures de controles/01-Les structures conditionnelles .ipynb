{
 "cells": [
  {
   "cell_type": "markdown",
   "metadata": {},
   "source": [
    "# Les structures conditionnelles "
   ]
  },
  {
   "cell_type": "markdown",
   "metadata": {},
   "source": [
    "Dans cette nouvelle partie, nous allons étudier et comprendre l’intérêt des structures de contrôle en Python. Une structure de contrôle est un ensemble d’instructions qui permet de contrôler l’exécution du code.\n",
    "Il existe différents types de structures de contrôle. Les deux types de structures les plus communément utilisées sont les structures de contrôle conditionnelles qui permettent d’exécuter un bloc de code si une certaine condition est vérifiée et les structures de contrôle de boucle qui permettent d’exécuter un bloc de code en boucle tant qu’une condition est vérifiée."
   ]
  },
  {
   "cell_type": "markdown",
   "metadata": {},
   "source": [
    "## Présentation des conditions"
   ]
  },
  {
   "cell_type": "markdown",
   "metadata": {},
   "source": [
    "Les structures de contrôle conditionnelles (ou plus simplement conditions) vont nous permettre d’exécuter différents blocs de code selon qu’une condition spécifique soit vérifiée ou pas.\n",
    "\n",
    "Nous allons très souvent utiliser les conditions avec des variables : selon la valeur stockée dans une variable, nous allons vouloir exécuter un bloc de code plutôt qu’un autre."
   ]
  },
  {
   "cell_type": "markdown",
   "metadata": {},
   "source": [
    "on fournit les structures conditionnelles suivantes :"
   ]
  },
  {
   "cell_type": "markdown",
   "metadata": {},
   "source": [
    "* <strong>La forme simple réduite </strong> : La condition if (“si”) ;\n",
    "*  <strong>La forme simple complète </strong> : La condition if…else (“si…sinon”) ;\n",
    "*  <strong>La forme généralisée </strong> : La condition if…elif…else (“si…sinon si… sinon”) ."
   ]
  },
  {
   "cell_type": "markdown",
   "metadata": {},
   "source": [
    "Nous allons étudier et comprendre l’intérêt de chacune de ces conditions dans la suite de cette leçon. Avant de les étudier, cependant, nous allons devoir présenter un nouveau type d’opérateurs : les opérateurs de comparaison qui vont être au centre de nos conditions.\n"
   ]
  },
  {
   "cell_type": "markdown",
   "metadata": {},
   "source": [
    "## Les opérateurs de comparaison"
   ]
  },
  {
   "cell_type": "markdown",
   "metadata": {},
   "source": [
    "Comme je l’ai précisé plus haut, nous allons souvent construire nos conditions autour de variables : selon la valeur d’une variable, nous allons exécuter tel bloc de code ou pas.\n",
    "\n",
    "Pour pouvoir faire cela, nous allons comparer la valeur d’une variable à une certaine autre valeur donnée et selon le résultat de la comparaison exécuter un bloc de code ou pas. Pour comparer des valeurs, nous allons devoir utiliser des opérateurs de comparaison.\n",
    "\n",
    "\n",
    " \n",
    "Voici ci-dessous les différents opérateurs de comparaison disponibles en Algorithmique et en Python ainsi que leur signification :"
   ]
  },
  {
   "cell_type": "markdown",
   "metadata": {},
   "source": [
    "\n",
    "<table> \n",
    "<tr><td>Opérateur:Algorithme</td><td>Opérateur:Python</td><td>Définition</td></tr>\n",
    "<tr><td>=</td><td>==</td><td>Permet de tester l’égalité en valeur et en type</td></tr>\n",
    "<tr><td>&#8800; </td><td>!=</td><td>Permet de tester la différence en valeur ou en type</td></tr>\n",
    "<tr><td>&lt;</td><td> &lt;</td><td>Permet de tester si une valeur est strictement inférieure à une autre</td></tr>\n",
    "<tr><td>></td><td>></td><td>Permet de tester si une valeur est strictement supérieure à une autre</td></tr>\n",
    "<tr><td>&#10877;</td><td>&lt;=</td><td>Permet de tester si une valeur est inférieure ou égale à une autre</td></tr>\n",
    "<tr><td>&#10878; </td><td>>=</td><td>Permet de tester si une valeur est supérieure ou égale à une autre</td></tr>\n"
   ]
  },
  {
   "cell_type": "markdown",
   "metadata": {},
   "source": [
    "Notez bien ici que ces opérateurs ne servent pas à indiquer que telle valeur est supérieure, égale, inférieur ou différente à telle autre valeur. Lorsqu’on utilise un opérateur de comparaison, on demande au contraire de tester si telle valeur est supérieure, égale, inférieur ou différente à telle autre valeur. On va donc comparer les deux valeurs et toujours renvoyer un booléen : Vrai si la comparaison est vérifiée ou Faux dans le cas contraire.\n",
    "\n",
    "Notez également que les opérateurs de comparaison d’égalité et de différence testent l’égalité et la différence à la fois sur les valeurs et sur les types. Ainsi, si on demande de tester l’égalité entre la chaine de caractères “4” et le chiffre 4, celui-ci renverra Faux puisque pour lui ces deux valeurs ne sont pas égales.\n",
    "\n",
    "\n",
    " \n",
    "Regardez plutôt les exemples suivants pour vous en persuader :"
   ]
  },
  {
   "cell_type": "code",
   "execution_count": 4,
   "metadata": {},
   "outputs": [
    {
     "data": {
      "text/plain": [
       "True"
      ]
     },
     "execution_count": 4,
     "metadata": {},
     "output_type": "execute_result"
    }
   ],
   "source": [
    "4 < 8"
   ]
  },
  {
   "cell_type": "code",
   "execution_count": 3,
   "metadata": {},
   "outputs": [
    {
     "data": {
      "text/plain": [
       "False"
      ]
     },
     "execution_count": 3,
     "metadata": {},
     "output_type": "execute_result"
    }
   ],
   "source": [
    "4 > 8"
   ]
  },
  {
   "cell_type": "code",
   "execution_count": 5,
   "metadata": {},
   "outputs": [
    {
     "data": {
      "text/plain": [
       "True"
      ]
     },
     "execution_count": 5,
     "metadata": {},
     "output_type": "execute_result"
    }
   ],
   "source": [
    "4 == 4"
   ]
  },
  {
   "cell_type": "code",
   "execution_count": 6,
   "metadata": {},
   "outputs": [
    {
     "data": {
      "text/plain": [
       "True"
      ]
     },
     "execution_count": 6,
     "metadata": {},
     "output_type": "execute_result"
    }
   ],
   "source": [
    "4 != \"4\""
   ]
  },
  {
   "cell_type": "code",
   "execution_count": 7,
   "metadata": {},
   "outputs": [
    {
     "data": {
      "text/plain": [
       "True"
      ]
     },
     "execution_count": 7,
     "metadata": {},
     "output_type": "execute_result"
    }
   ],
   "source": [
    "5 != 10"
   ]
  },
  {
   "cell_type": "markdown",
   "metadata": {},
   "source": [
    "Vous pouvez retenir ici que c’est cette valeur booléenne renvoyée à l’issue de toute comparaison que nous allons utiliser pour faire fonctionner nos conditions."
   ]
  },
  {
   "cell_type": "markdown",
   "metadata": {},
   "source": [
    "## La forme simple réduite :La condition Si"
   ]
  },
  {
   "cell_type": "markdown",
   "metadata": {},
   "source": [
    "La structure conditionnelle <strong>Si</strong> est une structure de base qu’on retourne dans de nombreux langages de script. Cette condition va nous permettre d’exécuter un code si (et seulement si) une certaine condition est vérifiée.\n",
    "\n",
    "On va en fait passer une expression à cette condition qui va être évaluée. Cette expression sera souvent une comparaison explicite (une comparaison utilisant les opérateurs de comparaison) mais pas nécessairement.\n",
    "\n",
    "Si on évalue l’expression passée à Vrai, le code dans la condition <strong>Si</strong> sera exécuté. Dans le cas contraire, le code dans <strong>Si</strong> sera ignoré.\n",
    "\n",
    "\n",
    " \n",
    "Prenons immédiatement un premier exemple afin de nous familiariser avec le fonctionnement et la syntaxe de cette condition :\n",
    "\n"
   ]
  },
  {
   "cell_type": "markdown",
   "metadata": {},
   "source": [
    "#### En Algorithme:"
   ]
  },
  {
   "cell_type": "raw",
   "metadata": {},
   "source": [
    "x <-- 8\n",
    "y <-- 4\n",
    "Si x > y Alors\n",
    "    Afficher(\"x contient une valeur strictement supérieure à y\")"
   ]
  },
  {
   "cell_type": "markdown",
   "metadata": {},
   "source": [
    "#### En Python"
   ]
  },
  {
   "cell_type": "code",
   "execution_count": 11,
   "metadata": {},
   "outputs": [
    {
     "name": "stdout",
     "output_type": "stream",
     "text": [
      "x contient une valeur strictement supérieure à y\n"
     ]
    }
   ],
   "source": [
    "x, y = 8, 4\n",
    "if x > y:\n",
    "    print(\"x contient une valeur strictement supérieure à y\")"
   ]
  },
  {
   "cell_type": "markdown",
   "metadata": {},
   "source": [
    "#### En Algorithme:"
   ]
  },
  {
   "cell_type": "raw",
   "metadata": {},
   "source": [
    "x <-- 8\n",
    "y <-- 4\n",
    "Si x = 5 Alors\n",
    "    Afficher(\"x contient l'entier 5\")"
   ]
  },
  {
   "cell_type": "markdown",
   "metadata": {},
   "source": [
    "#### En Python"
   ]
  },
  {
   "cell_type": "code",
   "execution_count": 12,
   "metadata": {},
   "outputs": [],
   "source": [
    "x, y = 8, 4\n",
    "if x == 5:\n",
    "    print(\"x contient l'entier 5\")"
   ]
  },
  {
   "cell_type": "markdown",
   "metadata": {},
   "source": [
    "Nous créons ici deux conditions <strong>Si </strong>. Comme vous pouvez le voir, la syntaxe générale d’une condition <strong>Si </strong> est <strong>Si condition Alors</strong> code à exécuter. Pensez à bien indenter le code qui doit être exécuté si la condition est vérifiée sinon votre condition ne fonctionnera pas.\n",
    "\n",
    "Dans le premier <strong>Si </strong>, nous demandons d'évaluer la comparaison x > y. Comme notre variable x stocke 8 et que notre variable y stocke 4, on valide cette comparaison et on renvoie Vrai. La condition <strong>Si </strong> reçoit Vrai et le code qu’elle contient est exécuté.\n",
    "\n",
    "Dans notre deuxième <strong>Si </strong>, on demande cette fois-ci de nous dire si le contenu de x est égal au chiffre 5. Ce n’est pas le cas et donc on renvoie Faux et le code dans ce <strong>Si </strong> n’est donc pas exécuté.\n",
    "\n",
    "Au final, vous pouvez retenir que toute expression qui suit un <strong>Si </strong> va être évaluée  et qu'on renverra toujours soit Vrai, soit Faux. Nous n’avons donc pas nécessairement besoin d’une comparaison explicite pour faire fonctionner un <strong>Si </strong>.\n",
    "\n",
    "Pour comprendre cela vous devez savoir qu’en dehors des comparaisons on évaluera à Vrai toute valeur passée après <strong>Si </strong> à l’exception des valeurs suivantes qui seront évaluées à Faux :"
   ]
  },
  {
   "cell_type": "markdown",
   "metadata": {},
   "source": [
    "* La valeur 0 (et 0.0) ;\n",
    "* La valeur None ;\n",
    "* Les valeurs chaine de caractères vide ””, liste vide [], dictionnaire vide {} et tuile vide ()."
   ]
  },
  {
   "cell_type": "code",
   "execution_count": 15,
   "metadata": {},
   "outputs": [],
   "source": [
    "x, y, z = 0, 1, \"\"\n",
    "if x:\n",
    "    print(\"x a été évaluée à True\")"
   ]
  },
  {
   "cell_type": "code",
   "execution_count": 16,
   "metadata": {},
   "outputs": [
    {
     "name": "stdout",
     "output_type": "stream",
     "text": [
      "y a été évaluée à true\n"
     ]
    }
   ],
   "source": [
    "x, y, z = 0, 1, \"\"\n",
    "if y:\n",
    "    print(\"y a été évaluée à true\")"
   ]
  },
  {
   "cell_type": "code",
   "execution_count": 17,
   "metadata": {},
   "outputs": [],
   "source": [
    "x, y, z = 0, 1, \"\"\n",
    "if z:\n",
    "    print(\"z a été évaluée à True\")"
   ]
  },
  {
   "cell_type": "markdown",
   "metadata": {},
   "source": [
    "## La forme simple complète: La condition Si...Alors"
   ]
  },
  {
   "cell_type": "markdown",
   "metadata": {},
   "source": [
    "Avec la condition <strong>Si</strong>, nous restons relativement limités puisque cette condition nous permet seulement d’exécuter un bloc de code si que le résultat d’un test soit évalué à Vrai.\n",
    "\n",
    "La structure conditionnelle <strong>Si ... Sinon</strong>  est plus complète que la condition <strong>Si</strong> puisqu’elle nous permet d’exécuter un premier bloc de code si un test renvoie True ou un autre bloc de code dans le cas contraire.\n",
    "\n",
    "\n",
    " \n",
    "La syntaxe d’une condition <strong>Si ... Sinon</strong> va être la suivante :"
   ]
  },
  {
   "cell_type": "code",
   "execution_count": 18,
   "metadata": {},
   "outputs": [
    {
     "name": "stdout",
     "output_type": "stream",
     "text": [
      "x contient l'entier 5\n"
     ]
    }
   ],
   "source": [
    "x, y =5, 10\n",
    "if x== 5:\n",
    "    print(\"x contient l'entier 5\")\n",
    "else:\n",
    "    print(\"x ne contient pas 5\")"
   ]
  },
  {
   "cell_type": "code",
   "execution_count": 20,
   "metadata": {},
   "outputs": [
    {
     "name": "stdout",
     "output_type": "stream",
     "text": [
      "y ne contient pas 5\n"
     ]
    }
   ],
   "source": [
    "x, y =5, 10\n",
    "if y== 5:\n",
    "    print(\"y contient l'entier 5\")\n",
    "else:\n",
    "    print(\"y ne contient pas 5\")"
   ]
  },
  {
   "cell_type": "markdown",
   "metadata": {},
   "source": [
    "Ici, on demande dans notre première condition d’évaluer si la valeur de x est différente du chiffre 5 ou pas. Si c’est le cas, On renverra Vrai (puisqu’on lui demande ici de tester la différence et non pas l’égalité) et le code du <strong>Si</strong> sera exécuté. Dans le cas contraire, c’est le code du <strong>Sinon</strong> qui sera exécuté.\n",
    "\n",
    "Notre deuxième condition fait exactement le même travail mais cette fois si on compare la valeur de y à 5.\n",
    "\n",
    "Notez bien ici qu’on n’effectuera jamais de test dans un <strong> Sinon</strong> car le <strong> Sinon</strong> est par définition censé prendre en charge tous les cas non pris en charge par le <strong> Si</strong>.\n",
    "\n"
   ]
  },
  {
   "cell_type": "markdown",
   "metadata": {},
   "source": [
    "## La forme généralisée :La condition si… sinon si… sinon "
   ]
  },
  {
   "cell_type": "markdown",
   "metadata": {},
   "source": [
    "La forme généralisée (« si…sinon si…sinon ») est une structure conditionnelle encore plus complète que la forme complète Si…Sinon qui vannons permettre cette fois-ci d’effectuer autant de tests que l’on souhaite et ainsi de prendre en compte le nombre de cas souhaité.\n",
    "\n",
    "En effet, nous allons pouvoir ajouter autant de <strong>Sinon Si</strong> que l’on souhaite entre le <strong>Si</strong> de départ et le <strong>Sinon</strong> de fin et chaque <strong>Sinon Si</strong> va pouvoir posséder son propre test ce qui va nous permettre d’apporter des réponses très précises à différentes situations."
   ]
  },
  {
   "cell_type": "markdown",
   "metadata": {},
   "source": [
    "##### En Algorithme"
   ]
  },
  {
   "cell_type": "raw",
   "metadata": {},
   "source": [
    "x <-- 5\n",
    "Si x < 0 Alors\n",
    "    Afficher(\"x contient une valeur négative\")\n",
    "Sinon Si x < 10 Alors\n",
    "     Afficher(\"x contient une valeur comprise entre 0 et 10 exclu\")\n",
    "Sinon Si x < 100 Alors\n",
    "     Afficher(\"x contient une valeur comprise entre 10 et 100 exclu\")\n",
    "Sinon\n",
    "    Afficher(\"x contient une valeur supérieure à 100\")\n",
    "Fin Si"
   ]
  },
  {
   "cell_type": "markdown",
   "metadata": {},
   "source": [
    "#### En Python"
   ]
  },
  {
   "cell_type": "code",
   "execution_count": 21,
   "metadata": {},
   "outputs": [
    {
     "name": "stdout",
     "output_type": "stream",
     "text": [
      "x contient une valeur comprise entre 0 et 10 exclu\n"
     ]
    }
   ],
   "source": [
    "x = 5\n",
    "if x < 0:\n",
    "    print(\"x contient une valeur négative\")\n",
    "elif x < 10:\n",
    "     print(\"x contient une valeur comprise entre 0 et 10 exclu\")\n",
    "elif x < 100:\n",
    "     print(\"x contient une valeur comprise entre 10 et 100 exclu\")\n",
    "else:\n",
    "    print(\"x contient une valeur supérieure à 100\")"
   ]
  },
  {
   "cell_type": "markdown",
   "metadata": {},
   "source": [
    "Il faut cependant faire attention à un point en particulier lorsqu’on utilise une structure généralisée : le cas où plusieurs <strong>sinon si</strong> possèdent un test évalué à Vrai. Dans ce cas là, vous devez savoir que seul le code du premier <strong>sinon si</strong> (ou du <strong>Si</strong> si celui-ci est évalué à Vrai) va être exécuté. En effet, On sort de la structure conditionnelle dans son ensemble sans même lire ni tester la fin de celle-ci dès qu’un cas de réussite à été rencontré et que son code a été exécuté."
   ]
  }
 ],
 "metadata": {
  "kernelspec": {
   "display_name": "Python 3",
   "language": "python",
   "name": "python3"
  },
  "language_info": {
   "codemirror_mode": {
    "name": "ipython",
    "version": 3
   },
   "file_extension": ".py",
   "mimetype": "text/x-python",
   "name": "python",
   "nbconvert_exporter": "python",
   "pygments_lexer": "ipython3",
   "version": "3.8.3"
  }
 },
 "nbformat": 4,
 "nbformat_minor": 4
}
