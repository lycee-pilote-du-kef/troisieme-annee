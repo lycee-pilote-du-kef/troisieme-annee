{
 "cells": [
  {
   "cell_type": "markdown",
   "metadata": {},
   "source": [
    "# isLeap"
   ]
  },
  {
   "cell_type": "code",
   "execution_count": null,
   "metadata": {},
   "outputs": [],
   "source": [
    "def isLeap(year):\n",
    "    if year % 4 == 0 and year % 100 !=0:\n",
    "        return True\n",
    "    elif year % 400 == 0:\n",
    "        return True\n",
    "    return False \n",
    "print(isLeap(2014))"
   ]
  },
  {
   "cell_type": "markdown",
   "metadata": {},
   "source": [
    "# daysInMonth"
   ]
  },
  {
   "cell_type": "code",
   "execution_count": null,
   "metadata": {},
   "outputs": [],
   "source": [
    "def daysInMonth(month,year):\n",
    "    days=[31,28,31,30,31,30,31,31,30,31,30,31]\n",
    "    if isLeap(year):\n",
    "        days[1]=29\n",
    "    return days[month -1]\n",
    "\n",
    "print(daysInMonth(2,2000))\n",
    "print(daysInMonth(3,2000))\n",
    "print(daysInMonth(12,2000))"
   ]
  },
  {
   "cell_type": "markdown",
   "metadata": {},
   "source": [
    "# validDate"
   ]
  },
  {
   "cell_type": "code",
   "execution_count": null,
   "metadata": {},
   "outputs": [],
   "source": [
    "def validDate(day,month,year):\n",
    "    if day in range(1,daysInMonth(month,year)+1):\n",
    "        return True\n",
    "    return False\n",
    "print(validDate(29,2,2001))"
   ]
  },
  {
   "cell_type": "markdown",
   "metadata": {},
   "source": [
    "# dateIsBefore"
   ]
  },
  {
   "cell_type": "code",
   "execution_count": null,
   "metadata": {},
   "outputs": [],
   "source": [
    "def dateIsBefore(day1,month1,year1,day2,month2,year2):\n",
    "    if year1 < year2:\n",
    "        return True\n",
    "    elif year1 == year2:\n",
    "        if month1 < month2:\n",
    "            return True\n",
    "        elif month1 == month2:\n",
    "            if day1 < day2:\n",
    "                return True\n",
    "    return False\n",
    "\n",
    "print(dateIsBefore(1,1,1200,1,2,1200))\n",
    "print(dateIsBefore(15,1,1980,13,1,1980))\n",
    "print(dateIsBefore(1,1,2020,1,2,1200))\n",
    "print(dateIsBefore(26,1,1960,25,12,1960))\n",
    "print(dateIsBefore(1,1,1200,1,1,1200))"
   ]
  },
  {
   "cell_type": "code",
   "execution_count": null,
   "metadata": {},
   "outputs": [],
   "source": [
    "def nextDay(day,month,year):\n",
    "    if day in range(1,daysInMonth(month,year)):\n",
    "        return day+1,month,year\n",
    "    elif month<12:\n",
    "        return 1,month+1,year\n",
    "    elif month == 12:\n",
    "        return 1,1,year+1\n",
    "print(nextDay(1,1,2000))\n",
    "print(nextDay(31,1,2000))\n",
    "print(nextDay(30,4,2000))\n",
    "print(nextDay(30,5,2000))\n",
    "print(nextDay(31,12,2000))\n",
    "print(nextDay(28,2,2000))\n",
    "print(nextDay(18,8,1975))"
   ]
  },
  {
   "cell_type": "markdown",
   "metadata": {},
   "source": [
    "# Count"
   ]
  },
  {
   "cell_type": "code",
   "execution_count": null,
   "metadata": {},
   "outputs": [],
   "source": [
    "def count(day1,month1,year1,day2,month2,year2):\n",
    "    nb=0\n",
    "    while  day1 != day2 or month1 != month2 or year1 != year2:\n",
    "        nb=nb+1\n",
    "        day1,month1,year1=nextDay(day1,month1,year1)\n",
    "    return nb"
   ]
  },
  {
   "cell_type": "markdown",
   "metadata": {},
   "source": [
    "# nextDay"
   ]
  },
  {
   "cell_type": "code",
   "execution_count": 61,
   "metadata": {},
   "outputs": [
    {
     "name": "stdin",
     "output_type": "stream",
     "text": [
      "day 1: 33\n",
      "month 1: 3\n",
      "year 1: 3\n",
      "day 2: 3\n",
      "month 2: 3\n",
      "year 2: 3\n"
     ]
    },
    {
     "name": "stdout",
     "output_type": "stream",
     "text": [
      "dates invalides\n"
     ]
    }
   ],
   "source": [
    "day1=int(input(\"day 1:\"))\n",
    "month1=int(input(\"month 1:\"))\n",
    "year1=int(input(\"year 1:\"))\n",
    "day2=int(input(\"day 2:\"))\n",
    "month2=int(input(\"month 2:\"))\n",
    "year2=int(input(\"year 2:\"))\n",
    "if validDate(day1,month1,year1) and validDate(day2,month2,year2):\n",
    "    if dateIsBefore(day1,month1,year1,day2,month2,year2):\n",
    "        nb=count(day1,month1,year1,day2,month2,year2)\n",
    "    else:\n",
    "        nb=count(day2,month2,year2,day1,month1,year1)\n",
    "    print(\"votre age en nombre de jour est\",nb)\n",
    "else:\n",
    "    print(\"dates invalides\")"
   ]
  },
  {
   "cell_type": "code",
   "execution_count": null,
   "metadata": {},
   "outputs": [],
   "source": []
  }
 ],
 "metadata": {
  "kernelspec": {
   "display_name": "Python 3",
   "language": "python",
   "name": "python3"
  },
  "language_info": {
   "codemirror_mode": {
    "name": "ipython",
    "version": 3
   },
   "file_extension": ".py",
   "mimetype": "text/x-python",
   "name": "python",
   "nbconvert_exporter": "python",
   "pygments_lexer": "ipython3",
   "version": "3.8.3"
  }
 },
 "nbformat": 4,
 "nbformat_minor": 4
}
