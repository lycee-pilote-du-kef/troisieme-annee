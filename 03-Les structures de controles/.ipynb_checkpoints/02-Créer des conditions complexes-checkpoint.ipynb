{
 "cells": [
  {
   "cell_type": "markdown",
   "metadata": {},
   "source": [
    "# Créer des conditions complexes"
   ]
  },
  {
   "cell_type": "markdown",
   "metadata": {},
   "source": [
    "Dans cette nouvelle leçon, nous allons aller plus loin avec les conditions est voir comment créer des conditions complexes en utilisant notamment les opérateurs logiques et les opérations d’appartenance."
   ]
  },
  {
   "cell_type": "markdown",
   "metadata": {},
   "source": [
    "## Imbriquer des conditions"
   ]
  },
  {
   "cell_type": "markdown",
   "metadata": {},
   "source": [
    "Souvent, nous allons vouloir comparer plusieurs valeurs au sein d’une même condition, c’est-à-dire n’exécuter son code que si plusieurs conditions sont vérifiées.\n",
    "\n",
    "Pour faire cela, nous allons pouvoir soit utiliser plusieurs opérateurs de comparaison, soit les opérateurs logiques, soit imbriquer plusieurs conditions les unes dans les autres.\n",
    "\n",
    "Les opérateurs logiques vont nous permettre de créer des conditions plus puissantes mais dans certains cas il sera plus intéressant et plus rapide d’imbriquer des conditions."
   ]
  },
  {
   "cell_type": "markdown",
   "metadata": {},
   "source": [
    "#### En Algorithme"
   ]
  },
  {
   "cell_type": "raw",
   "metadata": {},
   "source": [
    "Algorithme test\n",
    "DEBUT\n",
    "x <-- 1\n",
    "y <-- 2\n",
    "Si x < 5 Alors\n",
    "    Si y < 10 Alors\n",
    "        Afficher(\"x contient une valeur inférieure à 5 et y une valeur inférieure à 10\")\n",
    "    sinon:\n",
    "         Afficher(\"x contient une valeur < 5 et y une valeur >= 10\")\n",
    "    Fin Si\n",
    "Fin Si\n",
    "FIN"
   ]
  },
  {
   "cell_type": "markdown",
   "metadata": {},
   "source": [
    "#### En Python"
   ]
  },
  {
   "cell_type": "code",
   "execution_count": 1,
   "metadata": {},
   "outputs": [
    {
     "name": "stdout",
     "output_type": "stream",
     "text": [
      "x contient une valeur inférieure à 5 et y une valeur inférieure à 10\n"
     ]
    }
   ],
   "source": [
    "x, y = 1, 2\n",
    "if x < 5:\n",
    "    if y < 10:\n",
    "        print(\"x contient une valeur inférieure à 5 et y une valeur inférieure à 10\")\n",
    "    else:\n",
    "         print(\"x contient une valeur < 5 et y une valeur >= 10\")"
   ]
  },
  {
   "cell_type": "markdown",
   "metadata": {},
   "source": [
    "Dans cet exemple, on imbrique deux structures <strong>Si ... Sinon</strong> l’une dans l’autre. La première structure demande de tester si notre variable x contient un nombre strictement inférieur à 5. Si c’est le cas, on rentre dans le  <strong>Si</strong> et on teste donc la condition du deuxième <strong>Si</strong>. Dans le cas contraire, on va directement au <strong>Sinon</strong> de fin.\n",
    "\n",
    "Notre deuxième condition teste si y contient une valeur strictement inférieure à 10. Si c’est le cas, on exécute le code dans la condition. Sinon, on va directement au <strong>Sinon</strong> de cette condition imbriquée."
   ]
  },
  {
   "cell_type": "markdown",
   "metadata": {},
   "source": [
    "## Utiliser les opérateurs logiques avec les conditions"
   ]
  },
  {
   "cell_type": "markdown",
   "metadata": {},
   "source": [
    "Les opérateurs logiques vont être principalement utilisés avec les conditions puisqu’ils vont nous permettre d’écrire plusieurs comparaisons au sein d’une même condition ou encore d’inverser la valeur logique d’un test."
   ]
  },
  {
   "cell_type": "markdown",
   "metadata": {},
   "source": [
    "<table>\n",
    "<tr><td>Opérateur en Algorithme</td><td>Opérateur en Python</td><td>\tDéfinition</td></tr>\n",
    "<tr><td>ET</td><td>and</td><td>Renvoie Vrai si toutes les deux expressions sont évaluées à Vrai</td></tr>\n",
    "<tr><td>OU</td><td>or</td><td>Renvoie Vrai si une des comparaisons vaut Vrai</td></tr>\n",
    "<tr><td>NON</td><td>not</td><td>Renvoie Vrai si la comparaison vaut Faux (et inversement)</td></tr>\n",
    "</table>"
   ]
  },
  {
   "cell_type": "markdown",
   "metadata": {},
   "source": [
    "Les opérateurs logiques ET et OU vont nous permettre de passer plusieurs tests pour évaluation. On va par exemple pour tester si une variable x contient une valeur inférieure à 5 et / ou si y contient une valeur inférieure à 10 au sein d’une même condition.\n",
    "\n",
    "Dans le cas où on utilise ET, chaque expression devra être évaluée à Vrai pour que le code dans la condition soit exécuté."
   ]
  },
  {
   "cell_type": "markdown",
   "metadata": {},
   "source": [
    "#### En Algorithme"
   ]
  },
  {
   "cell_type": "code",
   "execution_count": 2,
   "metadata": {},
   "outputs": [
    {
     "name": "stdout",
     "output_type": "stream",
     "text": [
      "x contient une valeur inférieure à 5 et y une valeure inférieure à 10\n"
     ]
    }
   ],
   "source": [
    "Algorithme test\n",
    "DEBUT\n",
    "x <-- 1\n",
    "y <-- 5\n",
    "Si x < 5 ET y < 10 Alors\n",
    "    Afficher(\"x contient une valeur inférieure à 5 et y une valeure inférieure à 10\")\n",
    "Fin Si\n",
    "FIN"
   ]
  },
  {
   "cell_type": "markdown",
   "metadata": {},
   "source": [
    "#### En Python"
   ]
  },
  {
   "cell_type": "code",
   "execution_count": 2,
   "metadata": {},
   "outputs": [
    {
     "name": "stdout",
     "output_type": "stream",
     "text": [
      "x contient une valeur inférieure à 5 et y une valeure inférieure à 10\n"
     ]
    }
   ],
   "source": [
    "x, y = 1, 5\n",
    "if x < 5 and y < 10:\n",
    "    print(\"x contient une valeur inférieure à 5 et y une valeure inférieure à 10\")"
   ]
  }
 ],
 "metadata": {
  "kernelspec": {
   "display_name": "Python 3",
   "language": "python",
   "name": "python3"
  },
  "language_info": {
   "codemirror_mode": {
    "name": "ipython",
    "version": 3
   },
   "file_extension": ".py",
   "mimetype": "text/x-python",
   "name": "python",
   "nbconvert_exporter": "python",
   "pygments_lexer": "ipython3",
   "version": "3.8.3"
  }
 },
 "nbformat": 4,
 "nbformat_minor": 4
}
