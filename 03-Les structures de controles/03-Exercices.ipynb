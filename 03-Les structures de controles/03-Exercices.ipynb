{
 "cells": [
  {
   "cell_type": "markdown",
   "metadata": {},
   "source": [
    "# Série d'exercices "
   ]
  },
  {
   "cell_type": "markdown",
   "metadata": {},
   "source": [
    "### Exercice 1"
   ]
  },
  {
   "cell_type": "markdown",
   "metadata": {},
   "source": [
    "Ecrire un algorithme qui demande un nombre à l’utilisateur, et l’informe ensuite sice nombre est positif ou négatif (on laisse de côté le cas où le nombre vaut zéro).\n"
   ]
  },
  {
   "cell_type": "markdown",
   "metadata": {},
   "source": [
    "### Exercice 2"
   ]
  },
  {
   "cell_type": "markdown",
   "metadata": {},
   "source": [
    "Ecrire un algorithme qui demande deux nombres à l’utilisateur et l’informe ensuite si leur produit est négatif ou positif ou nul. Attention toutefois : on ne doit pas calculer le produit des deux nombres.\n"
   ]
  },
  {
   "cell_type": "markdown",
   "metadata": {},
   "source": [
    "### Exercice 3"
   ]
  },
  {
   "cell_type": "markdown",
   "metadata": {},
   "source": [
    "Ecrire un algorithme qui demande trois noms à l’utilisateur et l’informe ensuite s’ils sont rangés ou non dans l’ordre alphabétique."
   ]
  },
  {
   "cell_type": "markdown",
   "metadata": {},
   "source": [
    "### Exercice 4"
   ]
  },
  {
   "cell_type": "markdown",
   "metadata": {},
   "source": [
    "Ecrire un algorithme qui demande l’âge d’un enfant à l’utilisateur. Ensuite, il\n",
    "l’informe de sa catégorie :\n",
    "* \"Poussin\" de 6 à 7 ans\n",
    "* \"Pupille\" de 8 à 9 ans\n",
    "* \"Minime\" de 10 à 11 ans\n",
    "* \"Cadet\" après 12 ans"
   ]
  },
  {
   "cell_type": "markdown",
   "metadata": {},
   "source": [
    "### Exercice 5"
   ]
  },
  {
   "cell_type": "markdown",
   "metadata": {},
   "source": [
    "Ecrire un algorithme qui permet de résoudre dans R l’équation du second degré\n",
    "ax<sup>2</sup> + bx + c = 0 ( a est différent de 0)"
   ]
  },
  {
   "cell_type": "markdown",
   "metadata": {},
   "source": [
    "### Exercice 6"
   ]
  },
  {
   "cell_type": "markdown",
   "metadata": {},
   "source": [
    "Écrire un programme qui à partir d’un nombre compris entre 1 et 7 affiche le jour correspondant ?"
   ]
  },
  {
   "cell_type": "markdown",
   "metadata": {},
   "source": [
    "### Exercice 7"
   ]
  },
  {
   "cell_type": "markdown",
   "metadata": {},
   "source": [
    "Ecrire un algorithme sous le nom de bissextile qui, pour une variable recevant une valeur entière, indique si l’année correspondante est bissextile en affichant : \"Cette année est bissextile\" ou \"Cette année n’est pas bissextile\" selon le cas.\n",
    "\n",
    "<strong>Rappel</strong> : Les années bissextiles sont celles qui sont divisibles par 4, sauf lorsqu’elles\n",
    "débutent un siècle non multiple de 400. (Par exemple : l’année 2000 était bissextile : 2000 débute un siècle mais 2000/400 = 50 ; l’année 2100 ne sera pas bissextile).\n",
    "Tester votre programme avec les années 2000, 2013, et 2100."
   ]
  },
  {
   "cell_type": "markdown",
   "metadata": {},
   "source": [
    "### Exercice 8"
   ]
  },
  {
   "cell_type": "markdown",
   "metadata": {},
   "source": [
    "Ecrire un algorithme qui permet de saisir un caractère quelconque, puis d’afficher sa nature (lettre, chiffre, ou symbole)."
   ]
  },
  {
   "cell_type": "markdown",
   "metadata": {},
   "source": [
    "### Exercice 9"
   ]
  },
  {
   "cell_type": "markdown",
   "metadata": {},
   "source": [
    "La commission d’un employer sur les ventes totales est :\n",
    "* Si Ventes < 50 dinars, il’ y a pas de commission\n",
    "* Si Ventes ≤ Ventes ≤ 500, commission est égale à 10% des ventes\n",
    "* Si Ventes > 500 dinars, commission est de 50 dinars plus 8% des ventes au dessus de 500 dinars\n",
    "\n",
    "Écrire un programme COMMISSION qui permet de saisir la somme totale des ventes, calcule et affiche le montant de la commission\n"
   ]
  },
  {
   "cell_type": "markdown",
   "metadata": {},
   "source": [
    "### Exercice 10"
   ]
  },
  {
   "cell_type": "markdown",
   "metadata": {},
   "source": [
    "Ecrire un algorithme qui lit deux réels a et b et affiche le résultat de l’opération.\n",
    "Le choix de l’opération :\n",
    "\n",
    " \"*\" : Effectuer une multiplication\n",
    " \n",
    " \"+\" : Effectuer une addition\n",
    " \n",
    " \"-\" : Effectuer une soustraction\n",
    " \n",
    " \"/\" : Effectuer une division"
   ]
  },
  {
   "cell_type": "markdown",
   "metadata": {},
   "source": [
    "### Exercice 11"
   ]
  },
  {
   "cell_type": "markdown",
   "metadata": {},
   "source": [
    "Saisir une chaîne de caractère CH puis vérifier si elle est composée par « un seul mot » ou de « plusieurs mots ».\n",
    "\n",
    "NB : deux mots consécutifs sont séparés par un et un seul espace\n"
   ]
  },
  {
   "cell_type": "markdown",
   "metadata": {},
   "source": [
    "### Exercice 12"
   ]
  },
  {
   "cell_type": "markdown",
   "metadata": {},
   "source": [
    "Ecrire une analyse et un algorithme qui permet de saisir un entier puis de vérifier s’il est divisible par son chiffre d’unité. Exemple : 24 est divisible par 4 127 n’est pas divisible par 7\n",
    "\n",
    "<strong>Remarque</strong> : prévoir le cas d'erreur (unité=0)\n"
   ]
  },
  {
   "cell_type": "markdown",
   "metadata": {},
   "source": [
    "### Exercice 13"
   ]
  },
  {
   "cell_type": "markdown",
   "metadata": {},
   "source": [
    "Un entier naturel de trois chiffres est dit cubique s’il est égal à la somme des cubes de ses chiffres.\n",
    "\n",
    "\n",
    "Exemple : 153 est cubique car 153=1<sup>3</sup>+5<sup>3</sup>+3<sup>3</sup>\n",
    "\n",
    "Autres exemples : 370, 371, 407\n",
    "\n",
    "Ecrire un algorithme permettant de saisir un entier n puis d’afficher s’il est cubique ou non."
   ]
  },
  {
   "cell_type": "markdown",
   "metadata": {},
   "source": [
    "### Exercice 14"
   ]
  },
  {
   "cell_type": "markdown",
   "metadata": {},
   "source": [
    "Ecrire un algorithme permettant d’afficher le coût d’impression d’un nombre de\n",
    "page nb.\n",
    "Sachant que :\n",
    "\n",
    "* Tarif=50millimes par page Si nb<10\n",
    "* Tarif=40millimes par page Si 10≤nb<50\n",
    "* Tarif=35millimes par page Si nb≥50\n"
   ]
  }
 ],
 "metadata": {
  "kernelspec": {
   "display_name": "Python 3",
   "language": "python",
   "name": "python3"
  },
  "language_info": {
   "codemirror_mode": {
    "name": "ipython",
    "version": 3
   },
   "file_extension": ".py",
   "mimetype": "text/x-python",
   "name": "python",
   "nbconvert_exporter": "python",
   "pygments_lexer": "ipython3",
   "version": "3.8.3"
  }
 },
 "nbformat": 4,
 "nbformat_minor": 4
}
