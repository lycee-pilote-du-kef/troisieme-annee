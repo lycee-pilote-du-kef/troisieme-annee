{
 "cells": [
  {
   "cell_type": "markdown",
   "metadata": {},
   "source": [
    "# Série d'exercices "
   ]
  },
  {
   "cell_type": "markdown",
   "metadata": {},
   "source": [
    "### Exercice 1"
   ]
  },
  {
   "cell_type": "markdown",
   "metadata": {},
   "source": [
    "Ecrire un algorithme qui demande un nombre à l’utilisateur, et l’informe ensuite si ce nombre est positif ou négatif (on laisse de côté le cas où le nombre vaut zéro).\n"
   ]
  },
  {
   "cell_type": "code",
   "execution_count": 3,
   "metadata": {
    "collapsed": true,
    "jupyter": {
     "outputs_hidden": true,
     "source_hidden": true
    }
   },
   "outputs": [
    {
     "name": "stdin",
     "output_type": "stream",
     "text": [
      "donner un nombre -9\n"
     ]
    },
    {
     "name": "stdout",
     "output_type": "stream",
     "text": [
      "négatif\n"
     ]
    }
   ],
   "source": [
    "x=int(input(\"donner un nombre\"))\n",
    "if x > 0:\n",
    "    print(\"positif\")\n",
    "else:\n",
    "    print(\"négatif\")"
   ]
  },
  {
   "cell_type": "markdown",
   "metadata": {},
   "source": [
    "### Exercice 2"
   ]
  },
  {
   "cell_type": "markdown",
   "metadata": {},
   "source": [
    "Ecrire un algorithme qui demande deux nombres à l’utilisateur et l’informe ensuite si leur produit est négatif ou positif ou nul. Attention toutefois : on ne doit pas calculer le produit des deux nombres.\n"
   ]
  },
  {
   "cell_type": "code",
   "execution_count": 4,
   "metadata": {
    "collapsed": true,
    "jupyter": {
     "outputs_hidden": true,
     "source_hidden": true
    }
   },
   "outputs": [
    {
     "name": "stdin",
     "output_type": "stream",
     "text": [
      "Donner le nombre 1 6\n",
      "Donner le nombre 2 5\n"
     ]
    },
    {
     "name": "stdout",
     "output_type": "stream",
     "text": [
      "le produit est positif\n"
     ]
    }
   ],
   "source": [
    "x=int(input(\"Donner le nombre 1\"))\n",
    "y=int(input(\"Donner le nombre 2\"))\n",
    "if (x>0 and y>0) or (x<0 and y<0):\n",
    "    print(\"le produit est positif\")\n",
    "elif x==0 or y==0:\n",
    "    print(\"le produit est nul\")\n",
    "else:\n",
    "    print(\"negatif\")"
   ]
  },
  {
   "cell_type": "markdown",
   "metadata": {},
   "source": [
    "### Exercice 3"
   ]
  },
  {
   "cell_type": "markdown",
   "metadata": {},
   "source": [
    "Ecrire un algorithme qui demande trois noms à l’utilisateur et l’informe ensuite s’ils sont rangés ou non dans l’ordre alphabétique."
   ]
  },
  {
   "cell_type": "code",
   "execution_count": 5,
   "metadata": {
    "collapsed": true,
    "jupyter": {
     "outputs_hidden": true,
     "source_hidden": true
    }
   },
   "outputs": [
    {
     "name": "stdin",
     "output_type": "stream",
     "text": [
      "Donner Nom 1 Ali\n",
      "Donner Nom 2 Mohamed\n",
      "Donner Nom 3 Zied\n"
     ]
    },
    {
     "name": "stdout",
     "output_type": "stream",
     "text": [
      "les noms ne sont pas rangés en ordre alphabétique\n"
     ]
    }
   ],
   "source": [
    "n1=input(\"Donner Nom 1\")\n",
    "n2=input(\"Donner Nom 2\")\n",
    "n3=input(\"Donner Nom 3\")\n",
    "if n1>=n2>=n3:\n",
    "    print(\"les noms sont rangés en ordre alphabétique\")\n",
    "else:\n",
    "    print(\"les noms ne sont pas rangés en ordre alphabétique\")"
   ]
  },
  {
   "cell_type": "markdown",
   "metadata": {},
   "source": [
    "### Exercice 4"
   ]
  },
  {
   "cell_type": "markdown",
   "metadata": {},
   "source": [
    "Ecrire un algorithme qui demande l’âge d’un enfant à l’utilisateur. Ensuite, il\n",
    "l’informe de sa catégorie :\n",
    "* \"Poussin\" de 6 à 7 ans\n",
    "* \"Pupille\" de 8 à 9 ans\n",
    "* \"Minime\" de 10 à 11 ans\n",
    "* \"Cadet\" après 12 ans"
   ]
  },
  {
   "cell_type": "code",
   "execution_count": 10,
   "metadata": {
    "jupyter": {
     "source_hidden": true
    }
   },
   "outputs": [
    {
     "name": "stdin",
     "output_type": "stream",
     "text": [
      "Donner l'age de l'enfant 15\n"
     ]
    },
    {
     "name": "stdout",
     "output_type": "stream",
     "text": [
      "Cadet\n"
     ]
    }
   ],
   "source": [
    "age=int(input(\"Donner l'age de l'enfant\"))\n",
    "if age >= 6:\n",
    "    if age <= 7:\n",
    "        print(\"Poussin\")\n",
    "    elif age <= 9:\n",
    "        print(\"Pupille\")\n",
    "    elif age <=11:\n",
    "        print(\"Minime\")\n",
    "    else:\n",
    "        print(\"Cadet\")\n",
    "else:\n",
    "    print(\"Non classé\")\n"
   ]
  },
  {
   "cell_type": "markdown",
   "metadata": {
    "jupyter": {
     "source_hidden": true
    }
   },
   "source": [
    "### Exercice 5"
   ]
  },
  {
   "cell_type": "markdown",
   "metadata": {},
   "source": [
    "Ecrire un algorithme qui permet de résoudre dans R l’équation du second degré\n",
    "ax<sup>2</sup> + bx + c = 0 ( a est différent de 0)"
   ]
  },
  {
   "cell_type": "code",
   "execution_count": 12,
   "metadata": {
    "jupyter": {
     "source_hidden": true
    }
   },
   "outputs": [
    {
     "name": "stdin",
     "output_type": "stream",
     "text": [
      "valeu de a 2\n",
      "valeu de b 6\n",
      "valeu de c 5\n"
     ]
    },
    {
     "name": "stdout",
     "output_type": "stream",
     "text": [
      "Pas de solution\n"
     ]
    }
   ],
   "source": [
    "a=float(input(\"valeu de a\"))\n",
    "b=float(input(\"valeu de b\"))\n",
    "c=float(input(\"valeu de c\"))\n",
    "delta=b**2-4*a*c\n",
    "if delta > 0:\n",
    "    print((-b-sqrt(delta))/(2*a), (-b+sqrt(delta))/(2*a) )\n",
    "elif delta == 0 :\n",
    "    print(-b/(2*a))\n",
    "else:\n",
    "    print(\"Pas de solution\")\n",
    "    "
   ]
  },
  {
   "cell_type": "markdown",
   "metadata": {
    "jupyter": {
     "source_hidden": true
    }
   },
   "source": [
    "### Exercice 6"
   ]
  },
  {
   "cell_type": "markdown",
   "metadata": {},
   "source": [
    "Écrire un programme qui à partir d’un nombre compris entre 1 et 7 affiche le jour correspondant ?"
   ]
  },
  {
   "cell_type": "code",
   "execution_count": 14,
   "metadata": {
    "jupyter": {
     "source_hidden": true
    }
   },
   "outputs": [
    {
     "name": "stdin",
     "output_type": "stream",
     "text": [
      "Donner le numéro de jour 5\n"
     ]
    },
    {
     "name": "stdout",
     "output_type": "stream",
     "text": [
      "Vendredi\n"
     ]
    }
   ],
   "source": [
    "##### Solution 1\n",
    "j=int(input(\"Donner le numéro de jour\"))\n",
    "if j == 1:\n",
    "    print(\"Lundi\")\n",
    "elif j == 2:\n",
    "    print(\"Mardi\")\n",
    "elif j == 3:\n",
    "    print(\"Mercredi\")\n",
    "elif j == 4:\n",
    "    print(\"Jeudi\")\n",
    "elif j == 5:\n",
    "    print(\"Vendredi\")\n",
    "elif j == 6:\n",
    "    print(\"Samedi\")\n",
    "elif j == 7:\n",
    "    print(\"Dimanche\")"
   ]
  },
  {
   "cell_type": "code",
   "execution_count": 13,
   "metadata": {
    "collapsed": true,
    "jupyter": {
     "outputs_hidden": true
    }
   },
   "outputs": [
    {
     "name": "stdin",
     "output_type": "stream",
     "text": [
      "Donner le numéro de jour 5\n"
     ]
    },
    {
     "name": "stdout",
     "output_type": "stream",
     "text": [
      "Vendredi\n"
     ]
    }
   ],
   "source": [
    "##### Solution 2\n",
    "jours=[\"Lundi\",\"Mardi\",\"Mercredi\",\"Jeudi\",\"Vendredi\",\"Samed\",\"Dimanche\"]\n",
    "j=int(input(\"Donner le numéro de jour\"))\n",
    "print(jours[j-1])"
   ]
  },
  {
   "cell_type": "markdown",
   "metadata": {},
   "source": [
    "### Exercice 7"
   ]
  },
  {
   "cell_type": "markdown",
   "metadata": {},
   "source": [
    "Ecrire un algorithme sous le nom de bissextile qui, pour une variable recevant une valeur entière, indique si l’année correspondante est bissextile en affichant : \"Cette année est bissextile\" ou \"Cette année n’est pas bissextile\" selon le cas.\n",
    "\n",
    "<strong>Rappel</strong> : Les années bissextiles sont celles qui sont divisibles par 4, sauf lorsqu’elles\n",
    "débutent un siècle non multiple de 400. (Par exemple : l’année 2000 était bissextile : 2000 débute un siècle mais 2000/400 = 50 ; l’année 2100 ne sera pas bissextile).\n",
    "Tester votre programme avec les années 2000, 2013, et 2100."
   ]
  },
  {
   "cell_type": "markdown",
   "metadata": {},
   "source": [
    "### Exercice 8"
   ]
  },
  {
   "cell_type": "markdown",
   "metadata": {},
   "source": [
    "Ecrire un algorithme qui permet de saisir un caractère quelconque, puis d’afficher sa nature (lettre, chiffre, ou symbole)."
   ]
  },
  {
   "cell_type": "code",
   "execution_count": 17,
   "metadata": {
    "jupyter": {
     "source_hidden": true
    }
   },
   "outputs": [
    {
     "name": "stdin",
     "output_type": "stream",
     "text": [
      "Donner un caractère §\n"
     ]
    },
    {
     "name": "stdout",
     "output_type": "stream",
     "text": [
      "symbole\n"
     ]
    }
   ],
   "source": [
    "c=input(\"Donner un caractère\")\n",
    "if c.isalpha():\n",
    "    print(\"Lettre\")\n",
    "elif c.isnumeric():\n",
    "    print(\"Chiffre\")\n",
    "else:\n",
    "    print(\"symbole\")"
   ]
  },
  {
   "cell_type": "markdown",
   "metadata": {
    "jupyter": {
     "source_hidden": true
    }
   },
   "source": [
    "### Exercice 9"
   ]
  },
  {
   "cell_type": "markdown",
   "metadata": {},
   "source": [
    "La commission d’un employer sur les ventes totales est :\n",
    "* Si Ventes < 50 dinars, il’ y a pas de commission\n",
    "* Si Ventes ≤ Ventes ≤ 500, commission est égale à 10% des ventes\n",
    "* Si Ventes > 500 dinars, commission est de 50 dinars plus 8% des ventes au dessus de 500 dinars\n",
    "\n",
    "Écrire un programme COMMISSION qui permet de saisir la somme totale des ventes, calcule et affiche le montant de la commission\n"
   ]
  },
  {
   "cell_type": "code",
   "execution_count": 20,
   "metadata": {
    "jupyter": {
     "source_hidden": true
    }
   },
   "outputs": [
    {
     "name": "stdin",
     "output_type": "stream",
     "text": [
      "Ventes totales 1500\n"
     ]
    },
    {
     "name": "stdout",
     "output_type": "stream",
     "text": [
      "Commission= 130.0\n"
     ]
    }
   ],
   "source": [
    "ventes=float(input(\"Ventes totales\"))\n",
    "if ventes < 50:\n",
    "    print(\"Pas de commission\")\n",
    "elif ventes <= 500:\n",
    "    print(\"commission=\",ventes*0.1)\n",
    "else:\n",
    "    print(\"Commission=\",50+0.08*(ventes-500))"
   ]
  },
  {
   "cell_type": "markdown",
   "metadata": {
    "jupyter": {
     "source_hidden": true
    }
   },
   "source": [
    "### Exercice 10"
   ]
  },
  {
   "cell_type": "markdown",
   "metadata": {},
   "source": [
    "Ecrire un algorithme qui lit deux réels a et b et affiche le résultat de l’opération.\n",
    "Le choix de l’opération :\n",
    "\n",
    " \"*\" : Effectuer une multiplication\n",
    " \n",
    " \"+\" : Effectuer une addition\n",
    " \n",
    " \"-\" : Effectuer une soustraction\n",
    " \n",
    " \"/\" : Effectuer une division"
   ]
  },
  {
   "cell_type": "code",
   "execution_count": 23,
   "metadata": {
    "collapsed": true,
    "jupyter": {
     "outputs_hidden": true,
     "source_hidden": true
    }
   },
   "outputs": [
    {
     "name": "stdin",
     "output_type": "stream",
     "text": [
      "opérande 1 1\n",
      "opérateur /\n",
      "opérande 2 5\n"
     ]
    },
    {
     "name": "stdout",
     "output_type": "stream",
     "text": [
      "0.2\n"
     ]
    }
   ],
   "source": [
    "a=float(input(\"opérande 1\"))\n",
    "op=input(\"opérateur\")\n",
    "b=float(input(\"opérande 2\"))\n",
    "if op == \"+\":\n",
    "    print(\"a+b\")\n",
    "elif op == \"-\":\n",
    "    print(a-b)\n",
    "elif op == \"*\":\n",
    "    print(a*b)\n",
    "elif op == \"/\":\n",
    "    if b == 0:\n",
    "        print(\"Division par zero\")\n",
    "    else:\n",
    "        print(a/b)\n",
    "else:\n",
    "    print(\"opération invalide\")\n"
   ]
  },
  {
   "cell_type": "markdown",
   "metadata": {},
   "source": [
    "### Exercice 11"
   ]
  },
  {
   "cell_type": "markdown",
   "metadata": {},
   "source": [
    "Saisir une chaîne de caractère CH puis vérifier si elle est composée par « un seul mot » ou de « plusieurs mots ».\n",
    "\n",
    "NB : deux mots consécutifs sont séparés par un et un seul espace\n"
   ]
  },
  {
   "cell_type": "code",
   "execution_count": 24,
   "metadata": {
    "collapsed": true,
    "jupyter": {
     "outputs_hidden": true,
     "source_hidden": true
    }
   },
   "outputs": [
    {
     "name": "stdin",
     "output_type": "stream",
     "text": [
      "donner une chaîne heeh eheh\n"
     ]
    },
    {
     "name": "stdout",
     "output_type": "stream",
     "text": [
      "plusieurs mots\n"
     ]
    }
   ],
   "source": [
    "ch=input(\"donner une chaîne\")\n",
    "if ch.find(\" \")!= -1:\n",
    "    print(\"plusieurs mots\")\n",
    "else:\n",
    "    print(\"un seul mot\")"
   ]
  },
  {
   "cell_type": "markdown",
   "metadata": {},
   "source": [
    "### Exercice 12"
   ]
  },
  {
   "cell_type": "markdown",
   "metadata": {},
   "source": [
    "Ecrire une analyse et un algorithme qui permet de saisir un entier puis de vérifier s’il est divisible par son chiffre d’unité. Exemple : 24 est divisible par 4 127 n’est pas divisible par 7\n",
    "\n",
    "<strong>Remarque</strong> : prévoir le cas d'erreur (unité=0)\n"
   ]
  },
  {
   "cell_type": "code",
   "execution_count": 25,
   "metadata": {
    "collapsed": true,
    "jupyter": {
     "outputs_hidden": true,
     "source_hidden": true
    }
   },
   "outputs": [
    {
     "name": "stdin",
     "output_type": "stream",
     "text": [
      "donner un entier 24\n"
     ]
    },
    {
     "name": "stdout",
     "output_type": "stream",
     "text": [
      "24  est divisile par 4\n"
     ]
    }
   ],
   "source": [
    "x=int(input(\"donner un entier\"))\n",
    "u=x % 10\n",
    "if x % u == 0:\n",
    "    print(x,\" est divisile par\", u)\n",
    "else:\n",
    "    print(x,\" n'est divisile par\", u)"
   ]
  },
  {
   "cell_type": "markdown",
   "metadata": {},
   "source": [
    "### Exercice 13"
   ]
  },
  {
   "cell_type": "markdown",
   "metadata": {},
   "source": [
    "Un entier naturel de trois chiffres est dit cubique s’il est égal à la somme des cubes de ses chiffres.\n",
    "\n",
    "\n",
    "Exemple : 153 est cubique car 153=1<sup>3</sup>+5<sup>3</sup>+3<sup>3</sup>\n",
    "\n",
    "Autres exemples : 370, 371, 407\n",
    "\n",
    "Ecrire un algorithme permettant de saisir un entier n puis d’afficher s’il est cubique ou non."
   ]
  },
  {
   "cell_type": "code",
   "execution_count": 26,
   "metadata": {
    "jupyter": {
     "source_hidden": true
    }
   },
   "outputs": [
    {
     "name": "stdin",
     "output_type": "stream",
     "text": [
      "donner un entier 153\n"
     ]
    },
    {
     "name": "stdout",
     "output_type": "stream",
     "text": [
      "cubique\n"
     ]
    }
   ],
   "source": [
    "x=int(input(\"donner un entier\"))\n",
    "u=x % 10\n",
    "d= int(x % 100 /10)\n",
    "c= int(x / 100)\n",
    "if u**3+d**3+c**3 == x:\n",
    "    print(\"cubique\")\n",
    "else:\n",
    "    print(\"non cubique\")"
   ]
  },
  {
   "cell_type": "markdown",
   "metadata": {
    "jupyter": {
     "source_hidden": true
    }
   },
   "source": [
    "### Exercice 14"
   ]
  },
  {
   "cell_type": "markdown",
   "metadata": {},
   "source": [
    "Ecrire un algorithme permettant d’afficher le coût d’impression d’un nombre de\n",
    "page nb.\n",
    "Sachant que :\n",
    "\n",
    "* Tarif=50millimes par page Si nb<10\n",
    "* Tarif=40millimes par page Si 10≤nb<50\n",
    "* Tarif=35millimes par page Si nb≥50\n"
   ]
  },
  {
   "cell_type": "code",
   "execution_count": 27,
   "metadata": {
    "jupyter": {
     "source_hidden": true
    }
   },
   "outputs": [
    {
     "name": "stdin",
     "output_type": "stream",
     "text": [
      "donner le nombre de page 50\n"
     ]
    },
    {
     "name": "stdout",
     "output_type": "stream",
     "text": [
      "2000\n"
     ]
    }
   ],
   "source": [
    "nb=int(input(\"donner le nombre de page\"))\n",
    "if nb < 10:\n",
    "    print(50 * nb)\n",
    "elif nb <= 50:\n",
    "    print(40 * nb)\n",
    "else:\n",
    "    print(35 * nb)"
   ]
  }
 ],
 "metadata": {
  "kernelspec": {
   "display_name": "Python 3",
   "language": "python",
   "name": "python3"
  },
  "language_info": {
   "codemirror_mode": {
    "name": "ipython",
    "version": 3
   },
   "file_extension": ".py",
   "mimetype": "text/x-python",
   "name": "python",
   "nbconvert_exporter": "python",
   "pygments_lexer": "ipython3",
   "version": "3.8.3"
  }
 },
 "nbformat": 4,
 "nbformat_minor": 4
}
