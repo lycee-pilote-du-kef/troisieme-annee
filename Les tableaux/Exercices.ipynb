{
 "cells": [
  {
   "cell_type": "markdown",
   "metadata": {},
   "source": [
    "### Exercice 1"
   ]
  },
  {
   "cell_type": "markdown",
   "metadata": {},
   "source": [
    "Remplir un tableau de n entiers avec 2<=n<=20"
   ]
  },
  {
   "cell_type": "markdown",
   "metadata": {},
   "source": [
    "<h4 style=\"color:green\"> Algorithme</h4>"
   ]
  },
  {
   "cell_type": "raw",
   "metadata": {},
   "source": [
    "procédure Reemplir(@ T:tableau de 20 entiers, n:entier)\n",
    "Debut\n",
    "    Pour i de 0 à n Faire\n",
    "        Ecrire(\" Donner le contenu de la case N°\",i)\n",
    "        Lire(T[i])\n",
    "    Fin Pour\n",
    "Fin"
   ]
  },
  {
   "cell_type": "markdown",
   "metadata": {},
   "source": [
    "<h4 style=\"color:green\"> Python</h4>"
   ]
  },
  {
   "cell_type": "code",
   "execution_count": 6,
   "metadata": {},
   "outputs": [
    {
     "name": "stdin",
     "output_type": "stream",
     "text": [
      "Donner le contenu de la case N°0 3\n",
      "Donner le contenu de la case N°1 6\n",
      "Donner le contenu de la case N°2 2\n",
      "Donner le contenu de la case N°3 3\n",
      "Donner le contenu de la case N°4 3\n"
     ]
    },
    {
     "name": "stdout",
     "output_type": "stream",
     "text": [
      "[3. 6. 2. 3. 3.]\n"
     ]
    }
   ],
   "source": [
    "import numpy as np\n",
    "n=5\n",
    "T=np.zeros(n)\n",
    "def Remplir(T,n):\n",
    "    for i in range(n):\n",
    "        T[i]=int(input(f'Donner le contenu de la case N°{i}'))\n",
    "    return T\n",
    "print(Remplir(T,n))"
   ]
  },
  {
   "cell_type": "markdown",
   "metadata": {},
   "source": [
    "### Exercice 2"
   ]
  },
  {
   "cell_type": "markdown",
   "metadata": {},
   "source": [
    "Ecrivez un programme NumPy pour créer un tableau de tous les entiers pairs de 30 à 70"
   ]
  },
  {
   "cell_type": "markdown",
   "metadata": {},
   "source": [
    "<h4 style=\"color:green\"> Algorithme</h4>"
   ]
  },
  {
   "cell_type": "raw",
   "metadata": {},
   "source": [
    "Procédure Remplir(@ T:tableau de 20 entiers)\n",
    "Debut\n",
    "    Pour i de 30 à 70 Faire\n",
    "        Si i mod 2 =0 Alors\n",
    "           T[k]<-- i\n",
    "        FinSi\n",
    "    Fin Pour\n",
    "Fin"
   ]
  },
  {
   "cell_type": "markdown",
   "metadata": {},
   "source": [
    "<h4 style=\"color:green\"> Python</h4>"
   ]
  },
  {
   "cell_type": "code",
   "execution_count": 8,
   "metadata": {},
   "outputs": [
    {
     "name": "stdout",
     "output_type": "stream",
     "text": [
      "[30 32 34 36 38 40 42 44 46 48 50 52 54 56 58 60 62 64 66 68]\n"
     ]
    }
   ],
   "source": [
    "import numpy as np\n",
    "T=np.arange(30,70,2)\n",
    "print(T)"
   ]
  },
  {
   "cell_type": "markdown",
   "metadata": {},
   "source": [
    "### Exercice 3"
   ]
  },
  {
   "cell_type": "markdown",
   "metadata": {},
   "source": [
    "Ecrivez un programme NumPy pour créer un tableau avec des valeurs comprises entre 15 et 55 et imprimez toutes les valeurs sauf la première et la dernière"
   ]
  },
  {
   "cell_type": "markdown",
   "metadata": {},
   "source": [
    "<h4 style=\"color:green\"> Algorithme</h4>"
   ]
  },
  {
   "cell_type": "raw",
   "metadata": {},
   "source": [
    "procédure Reemplir(@ T:tableau de 40 entiers)\n",
    "Début\n",
    "    Pour i de 0 à 40 Faire\n",
    "      T[i]<-- 15+i\n",
    "    Fin Pour\n",
    "Fin"
   ]
  },
  {
   "cell_type": "markdown",
   "metadata": {},
   "source": [
    "<h4 style=\"color:green\"> Python</h4>"
   ]
  },
  {
   "cell_type": "code",
   "execution_count": 9,
   "metadata": {},
   "outputs": [
    {
     "name": "stdout",
     "output_type": "stream",
     "text": [
      "[16 17 18 19 20 21 22 23 24 25 26 27 28 29 30 31 32 33 34 35 36 37 38 39\n",
      " 40 41 42 43 44 45 46 47 48 49 50 51 52 53 54]\n"
     ]
    }
   ],
   "source": [
    "import numpy as np\n",
    "T=np.arange(15,55)\n",
    "print(T[1:55])"
   ]
  },
  {
   "cell_type": "markdown",
   "metadata": {},
   "source": [
    "### Exercice 4"
   ]
  },
  {
   "cell_type": "markdown",
   "metadata": {},
   "source": [
    "La somme des éléments d'un tableau"
   ]
  },
  {
   "cell_type": "markdown",
   "metadata": {},
   "source": [
    "<h4 style=\"color:green\"> Algorithme</h4>"
   ]
  },
  {
   "cell_type": "raw",
   "metadata": {},
   "source": [
    "fonction Somme(T:tableau de 20 entiers, n:entier)\n",
    "Debut\n",
    "    s<-- 0\n",
    "    Pour i de 0 à n Faire\n",
    "        s<--s + T[i]\n",
    "    Fin Pour\n",
    "Fin"
   ]
  },
  {
   "cell_type": "markdown",
   "metadata": {},
   "source": [
    "<h4 style=\"color:green\"> Python</h4>"
   ]
  },
  {
   "cell_type": "code",
   "execution_count": 10,
   "metadata": {},
   "outputs": [
    {
     "name": "stdout",
     "output_type": "stream",
     "text": [
      "190\n"
     ]
    }
   ],
   "source": [
    "import numpy as np\n",
    "T=np.arange(0,20)\n",
    "print(sum(T))"
   ]
  },
  {
   "cell_type": "markdown",
   "metadata": {},
   "source": [
    "### Exercice 5"
   ]
  },
  {
   "cell_type": "markdown",
   "metadata": {},
   "source": [
    "Le plus petit des éléments d'un tableau"
   ]
  },
  {
   "cell_type": "markdown",
   "metadata": {},
   "source": [
    "<h4 style=\"color:green\"> Algorithme</h4>"
   ]
  },
  {
   "cell_type": "raw",
   "metadata": {},
   "source": [
    "fonction Min( T:tableau de 20 entiers, n:entier):entier\n",
    "Debut\n",
    "    m<-- T[0]\n",
    "    Pour i de 1 à n Faire\n",
    "        Si T[i] < m Alors\n",
    "            m<-- T[i]\n",
    "        Fin Si\n",
    "    Fin Pour\n",
    "    Min <-- m\n",
    "Fin"
   ]
  },
  {
   "cell_type": "markdown",
   "metadata": {},
   "source": [
    "<h4 style=\"color:green\"> Python</h4>"
   ]
  },
  {
   "cell_type": "code",
   "execution_count": 13,
   "metadata": {},
   "outputs": [
    {
     "name": "stdout",
     "output_type": "stream",
     "text": [
      "0\n"
     ]
    }
   ],
   "source": [
    "import numpy as np\n",
    "T=np.random.randint(10,size=10)\n",
    "print(np.min(T))"
   ]
  },
  {
   "cell_type": "markdown",
   "metadata": {},
   "source": [
    "### Exercice 6"
   ]
  },
  {
   "cell_type": "markdown",
   "metadata": {},
   "source": [
    "Le plus grand des éléments d'un tableau"
   ]
  },
  {
   "cell_type": "raw",
   "metadata": {},
   "source": [
    "fonction Max( T:tableau de 20 entiers, n:entier):entier\n",
    "Debut\n",
    "    m<-- T[0]\n",
    "    Pour i de 1 à n Faire\n",
    "        Si T[i] > m Alors\n",
    "            m<-- T[i]\n",
    "        Fin Si\n",
    "    Fin Pour\n",
    "    Max <-- m\n",
    "Fin"
   ]
  },
  {
   "cell_type": "markdown",
   "metadata": {},
   "source": [
    "<h4 style=\"color:green\"> Python</h4>"
   ]
  },
  {
   "cell_type": "code",
   "execution_count": 14,
   "metadata": {},
   "outputs": [
    {
     "name": "stdout",
     "output_type": "stream",
     "text": [
      "8\n"
     ]
    }
   ],
   "source": [
    "import numpy as np\n",
    "T=np.random.randint(10,size=10)\n",
    "print(np.max(T))"
   ]
  },
  {
   "cell_type": "markdown",
   "metadata": {},
   "source": [
    "### Exercice 7"
   ]
  },
  {
   "cell_type": "markdown",
   "metadata": {},
   "source": [
    "La moyenne des éléments d'un tableau"
   ]
  },
  {
   "cell_type": "raw",
   "metadata": {},
   "source": [
    "fonction Moyenne( T:tableau de 20 entiers, n:entier):réel\n",
    "Debut\n",
    "    s<-- 0\n",
    "    Pour i de 1 à n Faire\n",
    "        s<-- s + T[i]\n",
    "        Fin Si\n",
    "    Fin Pour\n",
    "    Moyenne <-- s/n\n",
    "Fin"
   ]
  },
  {
   "cell_type": "markdown",
   "metadata": {},
   "source": [
    "<h4 style=\"color:green\"> Python</h4>"
   ]
  },
  {
   "cell_type": "code",
   "execution_count": 15,
   "metadata": {},
   "outputs": [
    {
     "name": "stdout",
     "output_type": "stream",
     "text": [
      "4.578947368421052\n"
     ]
    }
   ],
   "source": [
    "import numpy as np\n",
    "T=np.random.randint(10,size=19)\n",
    "print(np.mean(T))"
   ]
  },
  {
   "cell_type": "markdown",
   "metadata": {},
   "source": [
    "### Exercice 8"
   ]
  },
  {
   "cell_type": "markdown",
   "metadata": {},
   "source": [
    "La mediane des éléments d'un tableau"
   ]
  },
  {
   "cell_type": "markdown",
   "metadata": {},
   "source": [
    "<h4 style=\"color:green\"> Algorithme</h4>"
   ]
  },
  {
   "cell_type": "raw",
   "metadata": {},
   "source": [
    "fonction Mediane( T:tableau de 20 entiers, n:entier):réel\n",
    "Debut\n",
    "...................\n",
    "Fin"
   ]
  },
  {
   "cell_type": "markdown",
   "metadata": {},
   "source": [
    "<h4 style=\"color:green\"> Python</h4>"
   ]
  },
  {
   "cell_type": "code",
   "execution_count": 26,
   "metadata": {},
   "outputs": [
    {
     "name": "stdout",
     "output_type": "stream",
     "text": [
      "[6 8 7 0 6 4 4 0 6 6]\n",
      "6.0\n"
     ]
    }
   ],
   "source": [
    "import numpy as np\n",
    "T=np.random.randint(10,size=10)\n",
    "print(T)\n",
    "print(np.median(T))"
   ]
  },
  {
   "cell_type": "markdown",
   "metadata": {},
   "source": [
    "### Exercice 9"
   ]
  },
  {
   "cell_type": "markdown",
   "metadata": {},
   "source": [
    "Inverser l'ordre des éléments d'un tableau"
   ]
  },
  {
   "cell_type": "code",
   "execution_count": 15,
   "metadata": {},
   "outputs": [
    {
     "name": "stdout",
     "output_type": "stream",
     "text": [
      "[1 6 4 3 3 8 1 7 6 3]\n",
      "[3 6 7 1 8 3 3 4 6 1]\n"
     ]
    }
   ],
   "source": [
    "import numpy as np\n",
    "x=np.random.randint(10,size=10)\n",
    "print(x)\n",
    "print(np.flip(x))"
   ]
  },
  {
   "cell_type": "markdown",
   "metadata": {},
   "source": [
    "### Exercice 10"
   ]
  },
  {
   "cell_type": "markdown",
   "metadata": {},
   "source": [
    "Ecrivez un programme NumPy pour tester si aucun des éléments d'un tableau donné n'est nul"
   ]
  },
  {
   "cell_type": "code",
   "execution_count": 71,
   "metadata": {},
   "outputs": [
    {
     "name": "stdout",
     "output_type": "stream",
     "text": [
      "[0 2 0 2 5 1 0 6 8 4]\n",
      "[0 0 0 1 2 2 4 5 6 8]\n",
      "False\n"
     ]
    }
   ],
   "source": [
    "import numpy as np\n",
    "x=np.random.randint(10,size=10)\n",
    "print(x)\n",
    "print(np.all(x))"
   ]
  },
  {
   "cell_type": "markdown",
   "metadata": {},
   "source": [
    "### Exercice 11"
   ]
  },
  {
   "cell_type": "markdown",
   "metadata": {},
   "source": [
    "Écrivez un programme NumPy pour tester si un des éléments d'un tableau donné est différent de zéro"
   ]
  },
  {
   "cell_type": "code",
   "execution_count": 24,
   "metadata": {},
   "outputs": [
    {
     "name": "stdout",
     "output_type": "stream",
     "text": [
      "[0. 0. 0. 0. 0. 0. 0. 0. 0. 0.]\n",
      "False\n"
     ]
    }
   ],
   "source": [
    "import numpy as np\n",
    "#x=np.random.randint(10,size=10)\n",
    "x=np.zeros(10)\n",
    "print(x)\n",
    "print(np.any(x))"
   ]
  },
  {
   "cell_type": "markdown",
   "metadata": {},
   "source": [
    "### Exercice 12"
   ]
  },
  {
   "cell_type": "markdown",
   "metadata": {},
   "source": [
    "Ecrivez un programme NumPy pour tester si deux tableaux sont égaux élément par élément"
   ]
  },
  {
   "cell_type": "code",
   "execution_count": 72,
   "metadata": {},
   "outputs": [
    {
     "name": "stdout",
     "output_type": "stream",
     "text": [
      "True\n"
     ]
    }
   ],
   "source": [
    "import numpy as np\n",
    "#x1=np.random.randint(10,size=10)\n",
    "x1=np.ones(10)\n",
    "x2=np.ones(10)\n",
    "print(np.allclose(x1,x2))"
   ]
  },
  {
   "cell_type": "markdown",
   "metadata": {},
   "source": [
    "### Exercice 13"
   ]
  },
  {
   "cell_type": "markdown",
   "metadata": {},
   "source": [
    "Ecrivez un programme NumPy pour créer une comparaison de deux tableaux donnés, retourne vrai si les deux tableaux contiennent les mêmes valeurs mêmes dans des indices différents et faux sinon"
   ]
  },
  {
   "cell_type": "code",
   "execution_count": 48,
   "metadata": {},
   "outputs": [
    {
     "name": "stdout",
     "output_type": "stream",
     "text": [
      "True\n"
     ]
    }
   ],
   "source": [
    "import numpy as np\n",
    "def verif(t1,t2):\n",
    "    i=0\n",
    "    while t1[i] in t2 and i<len(t2)-1:\n",
    "        i=i+1\n",
    "    return t1[i] in t2\n",
    "#t1=np.random.randint(10,size=10)\n",
    "#t2=np.random.randint(10,size=10)\n",
    "t1=[1,0,3,4,5,7]\n",
    "t2=[7,5,4,3,0,1]\n",
    "print(verif(t1,t2)and verif(t2,t1))"
   ]
  },
  {
   "cell_type": "markdown",
   "metadata": {},
   "source": [
    "### Exercice 14"
   ]
  },
  {
   "cell_type": "markdown",
   "metadata": {},
   "source": [
    "Ecrivez un programme NumPy pour créer un tableau de 10 zéros, 10 uns, 10 cinq"
   ]
  },
  {
   "cell_type": "code",
   "execution_count": 63,
   "metadata": {},
   "outputs": [
    {
     "name": "stdout",
     "output_type": "stream",
     "text": [
      "[0 0 0 0 0 0 0 0 0 0 1 1 1 1 1 1 1 1 1 1 5 5 5 5 5 5 5 5 5 5]\n"
     ]
    }
   ],
   "source": [
    "import numpy as np\n",
    "t1=np.zeros(10, dtype=int)\n",
    "t2=np.ones(10, dtype=int)\n",
    "t3=np.full(10, 5)\n",
    "t=np.concatenate((t1,t2,t3),axis=None)\n",
    "print(t)"
   ]
  },
  {
   "cell_type": "markdown",
   "metadata": {},
   "source": [
    "### Exercice 15"
   ]
  },
  {
   "cell_type": "markdown",
   "metadata": {},
   "source": [
    "Ecrivez un programme NumPy pour créer un tableau de tous les entiers pairs de 30 à 70"
   ]
  },
  {
   "cell_type": "code",
   "execution_count": 67,
   "metadata": {},
   "outputs": [
    {
     "name": "stdout",
     "output_type": "stream",
     "text": [
      "[30 32 34 36 38 40 42 44 46 48 50 52 54 56 58 60 62 64 66 68 70]\n"
     ]
    }
   ],
   "source": [
    "import numpy as np\n",
    "t=np.arange(30, 71,2)\n",
    "print(t)"
   ]
  },
  {
   "cell_type": "markdown",
   "metadata": {},
   "source": [
    "### Exercice 16"
   ]
  },
  {
   "cell_type": "markdown",
   "metadata": {},
   "source": [
    "Ecrivez un programme NumPy pour créer un tableau avec des valeurs comprises entre 15 et 55 et imprimez toutes les valeurs sauf la première et la dernière"
   ]
  },
  {
   "cell_type": "code",
   "execution_count": 68,
   "metadata": {},
   "outputs": [
    {
     "name": "stdout",
     "output_type": "stream",
     "text": [
      "[15 16 17 18 19 20 21 22 23 24 25 26 27 28 29 30 31 32 33 34 35 36 37 38\n",
      " 39 40 41 42 43 44 45 46 47 48 49 50 51 52 53 54 55]\n",
      "[16 17 18 19 20 21 22 23 24 25 26 27 28 29 30 31 32 33 34 35 36 37 38 39\n",
      " 40 41 42 43 44 45 46 47 48 49 50 51 52 53 54]\n"
     ]
    }
   ],
   "source": [
    "import numpy as np\n",
    "t=np.arange(15,56)\n",
    "print(t)\n",
    "print(t[1:-1])"
   ]
  }
 ],
 "metadata": {
  "kernelspec": {
   "display_name": "Python 3",
   "language": "python",
   "name": "python3"
  },
  "language_info": {
   "codemirror_mode": {
    "name": "ipython",
    "version": 3
   },
   "file_extension": ".py",
   "mimetype": "text/x-python",
   "name": "python",
   "nbconvert_exporter": "python",
   "pygments_lexer": "ipython3",
   "version": "3.8.3"
  }
 },
 "nbformat": 4,
 "nbformat_minor": 4
}
