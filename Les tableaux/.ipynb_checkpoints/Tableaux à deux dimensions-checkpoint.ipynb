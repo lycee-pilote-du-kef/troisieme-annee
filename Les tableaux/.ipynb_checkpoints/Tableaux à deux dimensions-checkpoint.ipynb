{
 "cells": [
  {
   "cell_type": "markdown",
   "metadata": {},
   "source": [
    "<h1 style=\"color:purple; text-align:center\">Tableaux à deux dimensions</h1>"
   ]
  },
  {
   "cell_type": "markdown",
   "metadata": {},
   "source": [
    "<p style=\"font-size:30px\">Un tableau à deux dimensions (<mark>Matrice</mark>) A est à interpréter comme un tableau (uni-dimensionnel / <mark>Vecteur</mark>) de dimension L dont chaque composante est un tableau (uni-dimensionnel) de dimension C.\n",
    "</p>\n",
    "<p style=\"font-size:30px\">\n",
    "    On appelle <mark>L</mark> le nombre de lignes du tableau et <mark>C</mark> le nombre de colonnes du tableau. L et C sont alors les deux dimensions du tableau. Un tableau à deux dimensions contient donc <mark>L*C</mark> composantes.\n",
    "</p>"
   ]
  },
  {
   "cell_type": "markdown",
   "metadata": {},
   "source": [
    "<table style=\"text-align:center\">\n",
    "    <tr>\n",
    "    <td></td>\n",
    "    <td></td>\n",
    "\t<td style=\"color:red;\">-8</td>\n",
    "\t<td style=\"color:red;\">-7</td>\n",
    "\t<td style=\"color:red;\">-6</td>\n",
    "\t<td style=\"color:red;\">-5</td>\n",
    "\t<td style=\"color:red;\">-4</td>\n",
    "\t<td style=\"color:red;\">-3</td>\n",
    "\t<td style=\"color:red;\">-2</td>\n",
    "\t<td style=\"color:red;\">-1</td>\n",
    "</tr>\n",
    "<tr>\n",
    "    <td></td>\n",
    "    <td></td>\n",
    "\t<td>0</td>\n",
    "\t<td>1</td>\n",
    "\t<td>2</td>\n",
    "\t<td>3</td>\n",
    "\t<td>4</td>\n",
    "\t<td>5</td>\n",
    "\t<td>6</td>\n",
    "\t<td>7</td>\n",
    "</tr>\n",
    "<tr>\n",
    "    <td style=\"color:red;\">-4</td>\n",
    "    <td>0</td>\n",
    "\t<td style=\"border:solid\">20</td>\n",
    "\t<td style=\"border:solid\">25</td>\n",
    "\t<td style=\"border:solid\">-5</td>\n",
    "\t<td style=\"border:solid\">10</td>\n",
    "\t<td style=\"border:solid\">10</td>\n",
    "\t<td style=\"border:solid\">-52</td>\n",
    "\t<td style=\"border:solid\">14</td>\n",
    "\t<td style=\"border:solid\">3</td>\n",
    "</tr>\n",
    " <tr>\n",
    "    <td style=\"color:red;\">-3</td>\n",
    "    <td>1</td>\n",
    "\t<td style=\"border:solid\">25</td>\n",
    "\t<td style=\"border:solid\">12</td>\n",
    "\t<td style=\"border:solid\">-9</td>\n",
    "\t<td style=\"border:solid\">-10</td>\n",
    "\t<td style=\"border:solid\">8</td>\n",
    "\t<td style=\"border:solid\">36</td>\n",
    "\t<td style=\"border:solid\">10</td>\n",
    "\t<td style=\"border:solid\">48</td>\n",
    "</tr>\n",
    "    <tr>\n",
    "    <td style=\"color:red;\">-2</td>\n",
    "    <td>2</td>\n",
    "\t<td style=\"border:solid\">37</td>\n",
    "\t<td style=\"border:solid\">20</td>\n",
    "\t<td style=\"border:solid\">55</td>\n",
    "\t<td style=\"border:solid\">-24</td>\n",
    "\t<td style=\"border:solid\">56</td>\n",
    "\t<td style=\"border:solid\">-59</td>\n",
    "\t<td style=\"border:solid\">34</td>\n",
    "\t<td style=\"border:solid\">30</td>\n",
    "</tr>\n",
    "    <tr>\n",
    "    <td style=\"color:red;\">-1</td>\n",
    "    <td>3</td>\n",
    "\t<td style=\"border:solid\">-19</td>\n",
    "\t<td style=\"border:solid\">65</td>\n",
    "\t<td style=\"border:solid\">18</td>\n",
    "\t<td style=\"border:solid\">44</td>\n",
    "\t<td style=\"border:solid\">8</td>\n",
    "\t<td style=\"border:solid\">67</td>\n",
    "\t<td style=\"border:solid\">17</td>\n",
    "\t<td style=\"border:solid\">93</td>\n",
    "</tr>\n",
    "</table>\n",
    " <p style=\"color:red; text-align:center\">Tableau de 4 lignes et 8 colonnes</p>"
   ]
  },
  {
   "cell_type": "markdown",
   "metadata": {},
   "source": [
    "<p style=\"font-size:30px\">On dit qu'un tableau à deux dimensions est <mark>carré</mark>, si L est égal à C.</p>\n",
    "<p style=\"font-size:30px\">\n",
    "En faisant le rapprochement avec les mathématiques, on peut dire que \"A est un vecteur de L vecteurs de dimension C\", ou mieux:\n",
    "</p>\n",
    "<p style=\"font-size:30px\">\n",
    "\"A est une matrice de dimensions L et C\".\n",
    "</p>\n"
   ]
  },
  {
   "cell_type": "markdown",
   "metadata": {},
   "source": [
    "<h2 style=\"color:red\">Déclaration Algorithmique</h2>"
   ]
  },
  {
   "cell_type": "markdown",
   "metadata": {},
   "source": [
    "<table style=\"text-align:center\">\n",
    "<tr>\n",
    "    <td colspan=2 style=\"font-size:30px\">Tableau de Déclaration des Objets(T.D.O)</td>\n",
    "</tr>\n",
    "<tr>\n",
    "    <td style=\"border:solid; font-size:30px\">Objet</td>\n",
    "\t<td style=\"border:solid; font-size:30px\">Type/Nature</td>\n",
    "</tr>\n",
    "<tr>\n",
    "    <td style=\"border:solid; font-size:20px\">Nom_Tableau M</td>\n",
    "    <td style=\"border:solid; font-size:20px\">Tableau de L lignes * C colonnes Type _élément\n",
    "\n",
    "\n",
    "</tr>\n",
    "</table>"
   ]
  },
  {
   "cell_type": "markdown",
   "metadata": {},
   "source": [
    "<h2 style=\"color:blue\">Création</h2>"
   ]
  },
  {
   "cell_type": "markdown",
   "metadata": {},
   "source": [
    "Les tableaux (en anglais, array) peuvent être créés avec numpy.array(). On utilise des crochets pour délimiter les listes d’éléments dans les tableaux."
   ]
  },
  {
   "cell_type": "code",
   "execution_count": 6,
   "metadata": {},
   "outputs": [
    {
     "name": "stdout",
     "output_type": "stream",
     "text": [
      "[[1 2 3 4 5 6]\n",
      " [5 7 9 6 5 4]\n",
      " [1 5 4 8 7 8]]\n"
     ]
    }
   ],
   "source": [
    "import numpy as np\n",
    "m=np.array([[1,2,3,4,5,6],[5,7,9,6,5,4],[1,5,4,8,7,8]])\n",
    "print(m)"
   ]
  },
  {
   "cell_type": "markdown",
   "metadata": {},
   "source": [
    "<h3 style=\"color:orange\">Création avec type</h3>"
   ]
  },
  {
   "cell_type": "markdown",
   "metadata": {},
   "source": [
    "Au moment de la création d'un tableau on peut définir le type des éléments avec le paramètre \"dtype\""
   ]
  },
  {
   "cell_type": "code",
   "execution_count": 8,
   "metadata": {},
   "outputs": [
    {
     "name": "stdout",
     "output_type": "stream",
     "text": [
      "Tableau d'entiers:  [[1 2 3 4 5 6]\n",
      " [5 7 9 6 5 4]\n",
      " [1 5 4 8 7 8]]\n",
      "Tableau de réels:  [[1. 2. 3. 4. 5. 6.]\n",
      " [5. 7. 9. 6. 5. 4.]\n",
      " [1. 5. 4. 8. 7. 8.]]\n",
      "Tableau de booléens:  [[ True False  True]\n",
      " [ True False  True]\n",
      " [ True False  True]]\n"
     ]
    }
   ],
   "source": [
    "import numpy as np\n",
    "m1=np.array([[1,2,3,4,5,6],[5,7,9,6,5,4],[1,5,4,8,7,8]],dtype=int)\n",
    "m2=np.array([[1,2,3,4,5,6],[5,7,9,6,5,4],[1,5,4,8,7,8]],dtype=float)\n",
    "m3=np.array([[True,False,True],[True,False,True],[True,False,True]],dtype=bool)\n",
    "print(\"Tableau d'entiers: \",m1)\n",
    "print(\"Tableau de réels: \",m2)\n",
    "print(\"Tableau de booléens: \",m3)"
   ]
  },
  {
   "cell_type": "markdown",
   "metadata": {},
   "source": [
    "<h2 style=\"color:blue\">Affichage</h2>"
   ]
  },
  {
   "cell_type": "code",
   "execution_count": 18,
   "metadata": {},
   "outputs": [
    {
     "name": "stdout",
     "output_type": "stream",
     "text": [
      "[[1 2 3 4 5 6]\n",
      " [5 7 9 6 5 4]\n",
      " [1 5 4 8 7 8]]\n"
     ]
    }
   ],
   "source": [
    "m=np.array([[1,2,3,4,5,6],[5,7,9,6,5,4],[1,5,4,8,7,8]],dtype=int)\n",
    "print(m)"
   ]
  },
  {
   "cell_type": "markdown",
   "metadata": {},
   "source": [
    "<h2 style=\"color:blue\">Accès aux éléments d’un tableau</h2>"
   ]
  },
  {
   "cell_type": "code",
   "execution_count": 19,
   "metadata": {},
   "outputs": [
    {
     "name": "stdout",
     "output_type": "stream",
     "text": [
      "1\n",
      "1\n",
      "4\n"
     ]
    }
   ],
   "source": [
    "m=np.array([[1,2,3,4,5,6],[5,7,9,6,5,4],[1,5,4,8,7,8]],dtype=int)\n",
    "print(m[0,0])\n",
    "print(m[0][0])\n",
    "print(m[-2][-1])"
   ]
  },
  {
   "cell_type": "code",
   "execution_count": 22,
   "metadata": {},
   "outputs": [],
   "source": [
    "m=np.array([[1,2,3,4,5,6],[5,7,9,6,5,4],[1,5,4,8,7,8]],dtype=int)\n",
    "m[-2][0]=55"
   ]
  },
  {
   "cell_type": "code",
   "execution_count": 23,
   "metadata": {},
   "outputs": [
    {
     "name": "stdout",
     "output_type": "stream",
     "text": [
      "[[ 1  2  3  4  5  6]\n",
      " [55  7  9  6  5  4]\n",
      " [ 1  5  4  8  7  8]]\n"
     ]
    }
   ],
   "source": [
    "print(m)"
   ]
  },
  {
   "cell_type": "markdown",
   "metadata": {},
   "source": [
    "<h2 style=\"color:blue\">Création directe</h2>"
   ]
  },
  {
   "cell_type": "markdown",
   "metadata": {},
   "source": [
    "Il est souvent plus efficace, surtout pour les tableaux larges, de les créer directement. Numpy contient plusieurs fonctions pour cette tâche.\n",
    "\n",
    "création d'un tableau de 10  lignes 8 colonnes <mark>zéros</mark>"
   ]
  },
  {
   "cell_type": "code",
   "execution_count": 24,
   "metadata": {},
   "outputs": [
    {
     "name": "stdout",
     "output_type": "stream",
     "text": [
      "[[0 0 0 0 0 0 0 0]\n",
      " [0 0 0 0 0 0 0 0]\n",
      " [0 0 0 0 0 0 0 0]\n",
      " [0 0 0 0 0 0 0 0]\n",
      " [0 0 0 0 0 0 0 0]\n",
      " [0 0 0 0 0 0 0 0]\n",
      " [0 0 0 0 0 0 0 0]\n",
      " [0 0 0 0 0 0 0 0]\n",
      " [0 0 0 0 0 0 0 0]\n",
      " [0 0 0 0 0 0 0 0]]\n"
     ]
    }
   ],
   "source": [
    "v=np.zeros((10,8) ,dtype=int)\n",
    "print(v)"
   ]
  },
  {
   "cell_type": "markdown",
   "metadata": {},
   "source": [
    "Création d'un tableau de 5 lignes 4 colonnes <mark>uns</mark>"
   ]
  },
  {
   "cell_type": "code",
   "execution_count": 25,
   "metadata": {},
   "outputs": [
    {
     "name": "stdout",
     "output_type": "stream",
     "text": [
      "[[1 1 1 1]\n",
      " [1 1 1 1]\n",
      " [1 1 1 1]\n",
      " [1 1 1 1]\n",
      " [1 1 1 1]]\n"
     ]
    }
   ],
   "source": [
    "v=np.ones((5,4), dtype=int)\n",
    "print(v)"
   ]
  },
  {
   "cell_type": "markdown",
   "metadata": {},
   "source": [
    "création d'un tableau rempli d'une même <mark>valeur donnée</mark>"
   ]
  },
  {
   "cell_type": "code",
   "execution_count": 26,
   "metadata": {},
   "outputs": [
    {
     "name": "stdout",
     "output_type": "stream",
     "text": [
      "[[8 8 8 8 8]\n",
      " [8 8 8 8 8]\n",
      " [8 8 8 8 8]\n",
      " [8 8 8 8 8]\n",
      " [8 8 8 8 8]\n",
      " [8 8 8 8 8]\n",
      " [8 8 8 8 8]\n",
      " [8 8 8 8 8]\n",
      " [8 8 8 8 8]\n",
      " [8 8 8 8 8]]\n"
     ]
    }
   ],
   "source": [
    "# création d'un tableau de 10 lignes 5 colonnes avec des valeurs, chacun égal à 5\n",
    "v=np.full((10,5), 8)\n",
    "print(v)"
   ]
  },
  {
   "cell_type": "markdown",
   "metadata": {},
   "source": [
    "Création d'un tableau rempli <mark>aléatoirement</mark>"
   ]
  },
  {
   "cell_type": "code",
   "execution_count": 34,
   "metadata": {},
   "outputs": [
    {
     "name": "stdout",
     "output_type": "stream",
     "text": [
      "[[6 1 0 7 8]\n",
      " [4 1 9 6 5]\n",
      " [4 5 0 8 6]]\n"
     ]
    }
   ],
   "source": [
    "# création d'un tableau de 3 lignes 5 colonnes avec des entiers aléatoire de l'intervalle [0,9]\n",
    "t=np.random.randint(10, size=(3, 5))\n",
    "print(t)"
   ]
  },
  {
   "cell_type": "markdown",
   "metadata": {},
   "source": [
    "<h2 style=\"color:blue\">Acces à une séquence (Slicing)</h2>"
   ]
  },
  {
   "cell_type": "code",
   "execution_count": 61,
   "metadata": {},
   "outputs": [
    {
     "name": "stdout",
     "output_type": "stream",
     "text": [
      "[[0 6 2 3 6]\n",
      " [7 4 0 1 9]\n",
      " [0 8 7 0 8]\n",
      " [3 2 4 2 9]\n",
      " [3 6 3 1 0]]\n",
      "[[6 2 3]\n",
      " [4 0 1]]\n"
     ]
    }
   ],
   "source": [
    "t=np.random.randint(10, size=(5, 5))\n",
    "print(t)\n",
    "# les éléments de la ligne 0 a la ligne 2 et de la colonne 1 à la colonne 4\n",
    "x=t[0:2,1:4]\n",
    "print(x)"
   ]
  }
 ],
 "metadata": {
  "kernelspec": {
   "display_name": "Python 3",
   "language": "python",
   "name": "python3"
  },
  "language_info": {
   "codemirror_mode": {
    "name": "ipython",
    "version": 3
   },
   "file_extension": ".py",
   "mimetype": "text/x-python",
   "name": "python",
   "nbconvert_exporter": "python",
   "pygments_lexer": "ipython3",
   "version": "3.8.3"
  }
 },
 "nbformat": 4,
 "nbformat_minor": 4
}
