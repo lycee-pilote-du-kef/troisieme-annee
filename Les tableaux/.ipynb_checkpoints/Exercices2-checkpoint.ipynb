{
 "cells": [
  {
   "cell_type": "markdown",
   "metadata": {},
   "source": [
    "### Exercice 1"
   ]
  },
  {
   "cell_type": "markdown",
   "metadata": {},
   "source": [
    "Remplir un tableau de n entiers avec 2<=n<=20"
   ]
  },
  {
   "cell_type": "markdown",
   "metadata": {},
   "source": [
    "<h4 style=\"color:green\"> Algorithme</h4>"
   ]
  },
  {
   "cell_type": "raw",
   "metadata": {},
   "source": [
    "procédure Reemplir(@ T:tableau de 20 entiers, n:entier)\n",
    "Debut\n",
    "    Pour i de 0 à n Faire\n",
    "        Ecrire(\" Donner le contenu de la case N°\",i)\n",
    "        Lire(T[i])\n",
    "    Fin Pour\n",
    "Fin"
   ]
  },
  {
   "cell_type": "markdown",
   "metadata": {},
   "source": [
    "<h4 style=\"color:green\"> Python</h4>"
   ]
  },
  {
   "cell_type": "code",
   "execution_count": 6,
   "metadata": {},
   "outputs": [
    {
     "name": "stdin",
     "output_type": "stream",
     "text": [
      "Donner le contenu de la case N°0 3\n",
      "Donner le contenu de la case N°1 6\n",
      "Donner le contenu de la case N°2 2\n",
      "Donner le contenu de la case N°3 3\n",
      "Donner le contenu de la case N°4 3\n"
     ]
    },
    {
     "name": "stdout",
     "output_type": "stream",
     "text": [
      "[3. 6. 2. 3. 3.]\n"
     ]
    }
   ],
   "source": [
    "import numpy as np\n",
    "n=5\n",
    "T=np.zeros(n)\n",
    "def Remplir(T,n):\n",
    "    for i in range(n):\n",
    "        T[i]=int(input(f'Donner le contenu de la case N°{i}'))\n",
    "    return T\n",
    "print(Remplir(T,n))"
   ]
  },
  {
   "cell_type": "markdown",
   "metadata": {},
   "source": [
    "### Exercice 2"
   ]
  },
  {
   "cell_type": "markdown",
   "metadata": {},
   "source": [
    "Ecrivez un programme NumPy pour créer un tableau de tous les entiers pairs de 30 à 70"
   ]
  },
  {
   "cell_type": "markdown",
   "metadata": {},
   "source": [
    "<h4 style=\"color:green\"> Algorithme</h4>"
   ]
  },
  {
   "cell_type": "raw",
   "metadata": {},
   "source": [
    "Procédure Remplir(@ T:tableau de 20 entiers)\n",
    "Debut\n",
    "    Pour i de 30 à 70 Faire\n",
    "        Si i mod 2 =0 Alors\n",
    "           T[k]<-- i\n",
    "        FinSi\n",
    "    Fin Pour\n",
    "Fin"
   ]
  },
  {
   "cell_type": "markdown",
   "metadata": {},
   "source": [
    "<h4 style=\"color:green\"> Python</h4>"
   ]
  },
  {
   "cell_type": "code",
   "execution_count": 8,
   "metadata": {},
   "outputs": [
    {
     "name": "stdout",
     "output_type": "stream",
     "text": [
      "[30 32 34 36 38 40 42 44 46 48 50 52 54 56 58 60 62 64 66 68]\n"
     ]
    }
   ],
   "source": [
    "import numpy as np\n",
    "T=np.arange(30,70,2)\n",
    "print(T)"
   ]
  },
  {
   "cell_type": "markdown",
   "metadata": {},
   "source": [
    "### Exercice 3"
   ]
  },
  {
   "cell_type": "markdown",
   "metadata": {},
   "source": [
    "Ecrivez un programme NumPy pour créer un tableau avec des valeurs comprises entre 15 et 55 et imprimez toutes les valeurs sauf la première et la dernière"
   ]
  },
  {
   "cell_type": "markdown",
   "metadata": {},
   "source": [
    "<h4 style=\"color:green\"> Algorithme</h4>"
   ]
  },
  {
   "cell_type": "raw",
   "metadata": {},
   "source": [
    "procédure Reemplir(@ T:tableau de 40 entiers)\n",
    "Début\n",
    "    Pour i de 0 à 40 Faire\n",
    "      T[i]<-- 15+i\n",
    "    Fin Pour\n",
    "Fin"
   ]
  },
  {
   "cell_type": "markdown",
   "metadata": {},
   "source": [
    "<h4 style=\"color:green\"> Python</h4>"
   ]
  },
  {
   "cell_type": "code",
   "execution_count": 9,
   "metadata": {},
   "outputs": [
    {
     "name": "stdout",
     "output_type": "stream",
     "text": [
      "[16 17 18 19 20 21 22 23 24 25 26 27 28 29 30 31 32 33 34 35 36 37 38 39\n",
      " 40 41 42 43 44 45 46 47 48 49 50 51 52 53 54]\n"
     ]
    }
   ],
   "source": [
    "import numpy as np\n",
    "T=np.arange(15,55)\n",
    "print(T[1:55])"
   ]
  },
  {
   "cell_type": "markdown",
   "metadata": {},
   "source": [
    "### Exercice 4"
   ]
  },
  {
   "cell_type": "markdown",
   "metadata": {},
   "source": [
    "La somme des éléments d'un tableau"
   ]
  },
  {
   "cell_type": "markdown",
   "metadata": {},
   "source": [
    "<h4 style=\"color:green\"> Algorithme</h4>"
   ]
  },
  {
   "cell_type": "raw",
   "metadata": {},
   "source": [
    "fonction Somme(T:tableau de 20 entiers, n:entier)\n",
    "Debut\n",
    "    s<-- 0\n",
    "    Pour i de 0 à n Faire\n",
    "        s<--s + T[i]\n",
    "    Fin Pour\n",
    "Fin"
   ]
  },
  {
   "cell_type": "markdown",
   "metadata": {},
   "source": [
    "<h4 style=\"color:green\"> Python</h4>"
   ]
  },
  {
   "cell_type": "code",
   "execution_count": 10,
   "metadata": {},
   "outputs": [
    {
     "name": "stdout",
     "output_type": "stream",
     "text": [
      "190\n"
     ]
    }
   ],
   "source": [
    "import numpy as np\n",
    "T=np.arange(0,20)\n",
    "print(sum(T))"
   ]
  },
  {
   "cell_type": "markdown",
   "metadata": {},
   "source": [
    "### Exercice 5"
   ]
  },
  {
   "cell_type": "markdown",
   "metadata": {},
   "source": [
    "Le plus petit des éléments d'un tableau"
   ]
  },
  {
   "cell_type": "markdown",
   "metadata": {},
   "source": [
    "<h4 style=\"color:green\"> Algorithme</h4>"
   ]
  },
  {
   "cell_type": "raw",
   "metadata": {},
   "source": [
    "fonction Min( T:tableau de 20 entiers, n:entier):entier\n",
    "Debut\n",
    "    m<-- T[0]\n",
    "    Pour i de 1 à n Faire\n",
    "        Si T[i] < m Alors\n",
    "            m<-- T[i]\n",
    "        Fin Si\n",
    "    Fin Pour\n",
    "    Min <-- m\n",
    "Fin"
   ]
  },
  {
   "cell_type": "markdown",
   "metadata": {},
   "source": [
    "<h4 style=\"color:green\"> Python</h4>"
   ]
  },
  {
   "cell_type": "code",
   "execution_count": 13,
   "metadata": {},
   "outputs": [
    {
     "name": "stdout",
     "output_type": "stream",
     "text": [
      "0\n"
     ]
    }
   ],
   "source": [
    "import numpy as np\n",
    "T=np.random.randint(10,size=10)\n",
    "print(np.min(T))"
   ]
  },
  {
   "cell_type": "markdown",
   "metadata": {},
   "source": [
    "### Exercice 6"
   ]
  },
  {
   "cell_type": "markdown",
   "metadata": {},
   "source": [
    "Le plus grand des éléments d'un tableau"
   ]
  },
  {
   "cell_type": "raw",
   "metadata": {},
   "source": [
    "fonction Max( T:tableau de 20 entiers, n:entier):entier\n",
    "Debut\n",
    "    m<-- T[0]\n",
    "    Pour i de 1 à n Faire\n",
    "        Si T[i] > m Alors\n",
    "            m<-- T[i]\n",
    "        Fin Si\n",
    "    Fin Pour\n",
    "    Max <-- m\n",
    "Fin"
   ]
  },
  {
   "cell_type": "markdown",
   "metadata": {},
   "source": [
    "<h4 style=\"color:green\"> Python</h4>"
   ]
  },
  {
   "cell_type": "code",
   "execution_count": 14,
   "metadata": {},
   "outputs": [
    {
     "name": "stdout",
     "output_type": "stream",
     "text": [
      "8\n"
     ]
    }
   ],
   "source": [
    "import numpy as np\n",
    "T=np.random.randint(10,size=10)\n",
    "print(np.max(T))"
   ]
  },
  {
   "cell_type": "markdown",
   "metadata": {},
   "source": [
    "### Exercice 7"
   ]
  },
  {
   "cell_type": "markdown",
   "metadata": {},
   "source": [
    "La moyenne des éléments d'un tableau"
   ]
  },
  {
   "cell_type": "raw",
   "metadata": {},
   "source": [
    "fonction moyenne(t:tableau de 20 entiers, n:entier):réel\n",
    "debut\n",
    "    s<--0\n",
    "    pour i de 0 à n-1 faire\n",
    "        s<-- s+t[i]\n",
    "    fin pour\n",
    "    moyenne <-- s/n\n",
    "fin"
   ]
  },
  {
   "cell_type": "markdown",
   "metadata": {},
   "source": [
    "<h4 style=\"color:green\"> Python</h4>"
   ]
  },
  {
   "cell_type": "code",
   "execution_count": 4,
   "metadata": {},
   "outputs": [
    {
     "name": "stdout",
     "output_type": "stream",
     "text": [
      "[1 7 6 5 0 1 6 4 1 3 7 5 0 6 7 6 1 0 9 2]\n",
      "3.85\n"
     ]
    }
   ],
   "source": [
    "import numpy as np\n",
    "t=np.random.randint(10, size=20)\n",
    "m=np.mean(t)\n",
    "print(t)\n",
    "print(m)"
   ]
  },
  {
   "cell_type": "markdown",
   "metadata": {},
   "source": [
    "### Exercice 8"
   ]
  },
  {
   "cell_type": "markdown",
   "metadata": {},
   "source": [
    "La mediane des éléments d'un tableau"
   ]
  },
  {
   "cell_type": "markdown",
   "metadata": {},
   "source": [
    "<h4 style=\"color:green\"> Algorithme</h4>"
   ]
  },
  {
   "cell_type": "raw",
   "metadata": {
    "jupyter": {
     "source_hidden": true
    }
   },
   "source": []
  },
  {
   "cell_type": "markdown",
   "metadata": {},
   "source": [
    "<h4 style=\"color:green\"> Python</h4>"
   ]
  },
  {
   "cell_type": "code",
   "execution_count": 2,
   "metadata": {},
   "outputs": [
    {
     "name": "stdout",
     "output_type": "stream",
     "text": [
      "[8 2 3 4 5 0 8 8 9 0]\n",
      "4.5\n"
     ]
    }
   ],
   "source": [
    "import numpy as np\n",
    "t=np.random.randint(10, size=10)\n",
    "print(t)\n",
    "print(np.median(t))"
   ]
  },
  {
   "cell_type": "markdown",
   "metadata": {},
   "source": [
    "### Exercice 9"
   ]
  },
  {
   "cell_type": "markdown",
   "metadata": {},
   "source": [
    "Inverser l'ordre des éléments d'un tableau"
   ]
  },
  {
   "cell_type": "markdown",
   "metadata": {},
   "source": [
    "<h4 style=\"color:green\"> Algorithme</h4>"
   ]
  },
  {
   "cell_type": "raw",
   "metadata": {},
   "source": [
    "Procédure inverser(t:tableau de 10 entiers,@ti:tableau de 10 entiers,  n:entier)\n",
    "debut\n",
    "    pour i de 0 à n-1 faire\n",
    "        ti[i]<--t[n-i-1]\n",
    "    Fin pour\n",
    "fin\n",
    "deuxieme solution \n",
    "procedure inverser(@t:tableau de 10 entiers,n:entier)\n",
    "debut\n",
    "Pour i de 0 à ndiv2-1:\n",
    "\tw=t[i]\n",
    "\tt[i]=t[n-i-1]\n",
    "\tt[n-i-1]=w\n",
    "Fin pour \n",
    "fin "
   ]
  },
  {
   "cell_type": "markdown",
   "metadata": {},
   "source": [
    "<h4 style=\"color:green\"> Python</h4>"
   ]
  },
  {
   "cell_type": "code",
   "execution_count": 12,
   "metadata": {},
   "outputs": [
    {
     "name": "stdout",
     "output_type": "stream",
     "text": [
      "[7 2 1 6 1 7 8 2 9 8]\n",
      "[8 9 2 8 7 1 6 1 2 7]\n"
     ]
    }
   ],
   "source": [
    "import numpy as np\n",
    "t=np.random.randint(10, size=10)\n",
    "print(t)\n",
    "print(np.flip(t))"
   ]
  },
  {
   "cell_type": "markdown",
   "metadata": {},
   "source": [
    "### Exercice 10"
   ]
  },
  {
   "cell_type": "markdown",
   "metadata": {},
   "source": [
    "Ecrivez un programme NumPy pour tester si aucun des éléments d'un tableau donné n'est nul"
   ]
  },
  {
   "cell_type": "markdown",
   "metadata": {},
   "source": [
    "<h4 style=\"color:green\"> Algorithme</h4>"
   ]
  },
  {
   "cell_type": "raw",
   "metadata": {},
   "source": [
    "fonction tester_nul(t:tableau de 10 entiers, n :entier):booléen\n",
    "debut\n",
    "    i<--0\n",
    "    Tant que t[i]<>0 and i<n-1 Faire\n",
    "        i<--i+1\n",
    "    Fin Tant que\n",
    "    Si t[i]<>0 Alors\n",
    "        tester_nul <--Vrai\n",
    "    Sinon \n",
    "        tester_nul <-- Faux\n",
    "    Fin si\n",
    "    \n",
    "fin\n",
    "\n",
    "2 eme solution\n",
    "-------------------------------------------\n",
    "fonction tester_nul(t:tableau de 10 entiers, n :entier):booléen\n",
    "debut\n",
    "    i<--   -1\n",
    "    repeter\n",
    "        i<--  i+1\n",
    "    jusqu'à (t[i]=0) ou (i=n-1)\n",
    "    Si t[i]<>0 Alors\n",
    "        tester_nul <--Vrai\n",
    "    Sinon \n",
    "        tester_nul <-- Faux\n",
    "    Fin Si\n",
    "fin    "
   ]
  },
  {
   "cell_type": "markdown",
   "metadata": {},
   "source": [
    "<h4 style=\"color:green\"> Python</h4>"
   ]
  },
  {
   "cell_type": "code",
   "execution_count": 14,
   "metadata": {},
   "outputs": [
    {
     "name": "stdout",
     "output_type": "stream",
     "text": [
      "[1. 1. 1. 1. 1. 1. 1. 1. 1. 1.]\n",
      "True\n"
     ]
    }
   ],
   "source": [
    "import numpy as np\n",
    "#t=np.random.randint(10, size=10)\n",
    "t=np.ones(10)\n",
    "print(t)\n",
    "print(np.all(t))"
   ]
  },
  {
   "cell_type": "markdown",
   "metadata": {},
   "source": [
    "### Exercice 11"
   ]
  },
  {
   "cell_type": "markdown",
   "metadata": {},
   "source": [
    "Écrivez un programme NumPy pour tester si un des éléments d'un tableau donné est différent de zéro"
   ]
  },
  {
   "cell_type": "markdown",
   "metadata": {},
   "source": [
    "<h4 style=\"color:green\"> Algorithme</h4>"
   ]
  },
  {
   "cell_type": "raw",
   "metadata": {
    "jupyter": {
     "source_hidden": true
    }
   },
   "source": []
  },
  {
   "cell_type": "markdown",
   "metadata": {},
   "source": [
    "<h4 style=\"color:green\"> Python</h4>"
   ]
  },
  {
   "cell_type": "code",
   "execution_count": null,
   "metadata": {},
   "outputs": [],
   "source": []
  },
  {
   "cell_type": "markdown",
   "metadata": {},
   "source": [
    "### Exercice 12"
   ]
  },
  {
   "cell_type": "markdown",
   "metadata": {},
   "source": [
    "Ecrivez un programme NumPy pour tester si deux tableaux sont égaux élément par élément"
   ]
  },
  {
   "cell_type": "markdown",
   "metadata": {},
   "source": [
    "<h4 style=\"color:green\"> Algorithme</h4>"
   ]
  },
  {
   "cell_type": "raw",
   "metadata": {},
   "source": [
    "fonction comparaison(t1,t2:tableau de 20 entiers, n1:entier, n2:entier): booléen\n",
    "debut\n",
    "    Si n1 <> n2 Alors \n",
    "        comparaison <-- faux \n",
    "    Sinon \n",
    "     i<-- 0\n",
    "     Tant que t1[i]=t2[i] et i<n-1 Faire\n",
    "         i<-- i+1\n",
    "     Fin Tant Que\n",
    "     Si t1[i]=t2[i] Alors\n",
    "         comparaison <-- Vrai\n",
    "     Sinon                                <=>  comparaison <-- t1[i]=t2[i]\n",
    "         comparaison <-- faux \n",
    "     Fin Si\n",
    "fin\n",
    "\n",
    "\n",
    "--------------------------------------\n",
    "Tant que f[k]=l[k] et k<n\n",
    "\tk=k+1\n",
    "Si k=n alors\n",
    "\tcomparaison <-- vrai\n",
    "------------------------------------"
   ]
  },
  {
   "cell_type": "markdown",
   "metadata": {},
   "source": [
    "<h4 style=\"color:green\"> Python</h4>"
   ]
  },
  {
   "cell_type": "code",
   "execution_count": 18,
   "metadata": {},
   "outputs": [
    {
     "name": "stdout",
     "output_type": "stream",
     "text": [
      "[6, 5, 6, 4, 9, 5]\n",
      "[6, 5, 8, 4, 9, 5]\n",
      "False\n"
     ]
    }
   ],
   "source": [
    "import numpy as np\n",
    "#t1=np.random.randint(10, size=10)\n",
    "#t2=np.random.randint(10, size=10)\n",
    "t1=[6,5,6,4,9,5]\n",
    "t2=[6,5,8,4,9,5]\n",
    "print(t1)\n",
    "print(t2)\n",
    "print(np.allclose(t1,t2))"
   ]
  },
  {
   "cell_type": "markdown",
   "metadata": {},
   "source": [
    "### Exercice 13"
   ]
  },
  {
   "cell_type": "markdown",
   "metadata": {},
   "source": [
    "Ecrivez un programme NumPy pour créer une comparaison de deux tableaux donnés, retourne vrai si les deux tableaux contiennent les mêmes valeurs mêmes dans des indices différents et faux sinon"
   ]
  },
  {
   "cell_type": "markdown",
   "metadata": {},
   "source": [
    "<h4 style=\"color:green\"> Algorithme</h4>"
   ]
  },
  {
   "cell_type": "raw",
   "metadata": {},
   "source": [
    "fonction count(x:entier, t:tableau de 20 entiers):entier\n",
    "debut\n",
    "       nb<--0\n",
    "       pour i de 0 a n-1 faire\n",
    "           si t[i]=x alors\n",
    "               nb<-- nb+1\n",
    "           fin si\n",
    "       Fin pour\n",
    "       count <-- nb\n",
    "fin\n",
    "\n",
    "\n",
    "fonction comparaison(t1,t2:tableau de 20 entiers, n1,n2:entier):booléen\n",
    "debut\n",
    "    Si n1<> n2 Alors\n",
    "        comparaison <-- Faux\n",
    "    sinon\n",
    "        i<--0\n",
    "        Tant que fn count(t1[i],t1)=count(t1[i],t2) et i<n1-1 Faire\n",
    "            i<-- i+1\n",
    "        Fin Tant Que\n",
    "        comparaison<-- fn count(t1[i],t1)=fn count(t1[i],t2) \n",
    "    Fin Si\n",
    "Fin\n",
    "procedure remplir(@t:tableau de 20 entiers, n:entier)\n",
    "debut\n",
    "    pour i de 0 à n-1 faire\n",
    "      Ecrire(\"donner la case numéro\",i);\n",
    "      lire(t[i])\n",
    "    Fin Pour\n",
    "fin\n",
    "-------Program principal ---------------\n",
    "Algorithme : exercice\n",
    "debut\n",
    "    Lire(n1)\n",
    "    Lire(n2)\n",
    "    proc Remplir(t1,n1)\n",
    "    proc Remplir(t2,n2)\n",
    "    Si (fn comparaison(t1,t2,n1,n2))= Vrai Alors\n",
    "         Ecrire(\"les deux tableaux sont égaux\")\n",
    "    Sinon\n",
    "         Ecrire(\"les deux tableaux sont différents\")\n",
    "    Fin Si\n",
    "Fin\n"
   ]
  },
  {
   "cell_type": "markdown",
   "metadata": {},
   "source": [
    "<h4 style=\"color:green\"> Python</h4>"
   ]
  },
  {
   "cell_type": "code",
   "execution_count": null,
   "metadata": {
    "jupyter": {
     "source_hidden": true
    }
   },
   "outputs": [],
   "source": []
  },
  {
   "cell_type": "markdown",
   "metadata": {},
   "source": [
    "### Exercice 14"
   ]
  },
  {
   "cell_type": "markdown",
   "metadata": {},
   "source": [
    "Ecrivez un programme NumPy pour créer un tableau de 10 zéros, 10 uns, 10 cinq"
   ]
  },
  {
   "cell_type": "markdown",
   "metadata": {},
   "source": [
    "<h4 style=\"color:green\"> Algorithme</h4>"
   ]
  },
  {
   "cell_type": "raw",
   "metadata": {},
   "source": [
    "procedure remplir(@t:tableau de 30 entiers)\n",
    "debut\n",
    "    pour i de 0 à 9 faire\n",
    "           t[i]<-- 0\n",
    "    Fin Pour\n",
    "    pour i de 10 à 19 faire\n",
    "           t[i]<-- 1\n",
    "    Fin Pour\n",
    "        pour i de 20 à 29 faire\n",
    "           t[i]<-- 5\n",
    "    Fin Pour\n",
    "fin"
   ]
  },
  {
   "cell_type": "markdown",
   "metadata": {},
   "source": [
    "<h4 style=\"color:green\"> Python</h4>"
   ]
  },
  {
   "cell_type": "code",
   "execution_count": null,
   "metadata": {},
   "outputs": [],
   "source": []
  },
  {
   "cell_type": "markdown",
   "metadata": {},
   "source": [
    "### Exercice 15"
   ]
  },
  {
   "cell_type": "markdown",
   "metadata": {},
   "source": [
    "Ecrivez un programme NumPy pour créer un tableau de tous les entiers pairs de 30 à 70"
   ]
  },
  {
   "cell_type": "markdown",
   "metadata": {},
   "source": [
    "<h4 style=\"color:green\"> Algorithme</h4>"
   ]
  },
  {
   "cell_type": "raw",
   "metadata": {},
   "source": []
  },
  {
   "cell_type": "markdown",
   "metadata": {},
   "source": [
    "<h4 style=\"color:green\"> Python</h4>"
   ]
  },
  {
   "cell_type": "code",
   "execution_count": null,
   "metadata": {},
   "outputs": [],
   "source": []
  },
  {
   "cell_type": "markdown",
   "metadata": {},
   "source": [
    "### Exercice 16"
   ]
  },
  {
   "cell_type": "markdown",
   "metadata": {},
   "source": [
    "Ecrivez un programme NumPy pour créer un tableau avec des valeurs comprises entre 15 et 55 et imprimez toutes les valeurs sauf la première et la dernière"
   ]
  },
  {
   "cell_type": "markdown",
   "metadata": {},
   "source": [
    "<h4 style=\"color:green\"> Algorithme</h4>"
   ]
  },
  {
   "cell_type": "raw",
   "metadata": {},
   "source": []
  },
  {
   "cell_type": "markdown",
   "metadata": {},
   "source": [
    "<h4 style=\"color:green\"> Python</h4>"
   ]
  },
  {
   "cell_type": "code",
   "execution_count": null,
   "metadata": {},
   "outputs": [],
   "source": []
  }
 ],
 "metadata": {
  "kernelspec": {
   "display_name": "Python 3",
   "language": "python",
   "name": "python3"
  },
  "language_info": {
   "codemirror_mode": {
    "name": "ipython",
    "version": 3
   },
   "file_extension": ".py",
   "mimetype": "text/x-python",
   "name": "python",
   "nbconvert_exporter": "python",
   "pygments_lexer": "ipython3",
   "version": "3.8.3"
  }
 },
 "nbformat": 4,
 "nbformat_minor": 4
}
